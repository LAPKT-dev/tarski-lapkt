{
 "cells": [
  {
   "cell_type": "code",
   "execution_count": 24,
   "metadata": {
    "collapsed": true,
    "pycharm": {
     "is_executing": false
    }
   },
   "outputs": [],
   "source": [
    "\n",
    "from tarski.theories import Theory\n",
    "from tarski.io.fstrips import ParsingError, FstripsReader\n",
    "from tarski.syntax import *"
   ]
  },
  {
   "cell_type": "markdown",
   "source": [
    "# Parsing and Processing PDDL"
   ],
   "metadata": {
    "collapsed": false
   }
  },
  {
   "cell_type": "code",
   "execution_count": 25,
   "outputs": [],
   "source": [
    "reader = FstripsReader(raise_on_error=True)"
   ],
   "metadata": {
    "collapsed": false,
    "pycharm": {
     "name": "#%%\n",
     "is_executing": false
    }
   }
  },
  {
   "cell_type": "code",
   "execution_count": 26,
   "outputs": [],
   "source": [
    "reader.parse_domain('probBLOCKS-domain.pddl')\n",
    "reader.parse_instance('probBLOCKS-4-2.pddl')"
   ],
   "metadata": {
    "collapsed": false,
    "pycharm": {
     "name": "#%%\n",
     "is_executing": false
    }
   }
  },
  {
   "cell_type": "code",
   "execution_count": 27,
   "outputs": [],
   "source": [
    "L = reader.problem.language"
   ],
   "metadata": {
    "collapsed": false,
    "pycharm": {
     "name": "#%%\n",
     "is_executing": false
    }
   }
  },
  {
   "cell_type": "markdown",
   "source": [
    "We can retrieve any sort (or _type_ in PDDL-parlance), constant, function or predicate \n",
    "via the `get` method of the class `Language`. Since we are dealing\n",
    "with the classic `Blocks World` benchmark we know there must be predicates `on(x,y)` and `clear(x)` "
   ],
   "metadata": {
    "collapsed": false
   }
  },
  {
   "cell_type": "code",
   "execution_count": 28,
   "outputs": [],
   "source": [
    "on = L.get('on')\n",
    "clear = L.get('clear')"
   ],
   "metadata": {
    "collapsed": false,
    "pycharm": {
     "name": "#%%\n",
     "is_executing": false
    }
   }
  },
  {
   "cell_type": "markdown",
   "source": [
    "`Language` instances allow us to iterate over the list of declared predicates etc. via the\n",
    "properties `predicates`, `functions`"
   ],
   "metadata": {
    "collapsed": false,
    "pycharm": {
     "name": "#%% md\n",
     "is_executing": false
    }
   }
  },
  {
   "cell_type": "code",
   "execution_count": 29,
   "outputs": [
    {
     "name": "stdout",
     "text": [
      "=/2\n",
      "!=/2\n",
      "on/2\n",
      "ontable/1\n",
      "clear/1\n",
      "handempty/0\n",
      "holding/1\n"
     ],
     "output_type": "stream"
    }
   ],
   "source": [
    "for pred in L.predicates:\n",
    "    print(str(pred))"
   ],
   "metadata": {
    "collapsed": false,
    "pycharm": {
     "name": "#%%\n",
     "is_executing": false
    }
   }
  },
  {
   "cell_type": "markdown",
   "source": [
    "As seen above `Tarski` parser defines the equality predicate and its negation, as  well as the\n",
    "usual `on` etc. The number after the name of the predicate indicates its _arity_ (i.e. number of arguments).\n",
    "\n",
    "Getting our hands on the objects defined in the instance file `probBLOCKS-4-2.pddl` requires to \n",
    "navigate the type hierarchy. First, we can take a look at what are the sorts defined similarly as\n",
    "we do for predicates"
   ],
   "metadata": {
    "collapsed": false,
    "pycharm": {
     "name": "#%% md\n"
    }
   }
  },
  {
   "cell_type": "code",
   "execution_count": 30,
   "outputs": [
    {
     "name": "stdout",
     "text": [
      "Sort(object)\n"
     ],
     "output_type": "stream"
    }
   ],
   "source": [
    "for S in L.sorts:\n",
    "    print(str(S))"
   ],
   "metadata": {
    "collapsed": false,
    "pycharm": {
     "name": "#%%\n",
     "is_executing": false
    }
   }
  },
  {
   "cell_type": "markdown",
   "source": [
    "There is only one sort defined, `object`. We can check out its elements "
   ],
   "metadata": {
    "collapsed": false,
    "pycharm": {
     "name": "#%% md\n",
     "is_executing": false
    }
   }
  },
  {
   "cell_type": "code",
   "execution_count": 31,
   "outputs": [
    {
     "name": "stdout",
     "text": [
      "c <class 'tarski.syntax.terms.Constant'>\n",
      "b <class 'tarski.syntax.terms.Constant'>\n",
      "d <class 'tarski.syntax.terms.Constant'>\n",
      "a <class 'tarski.syntax.terms.Constant'>\n"
     ],
     "output_type": "stream"
    }
   ],
   "source": [
    "objects = L.get('object')\n",
    "for obj in objects.domain():\n",
    "    print(str(obj), type(obj))"
   ],
   "metadata": {
    "collapsed": false,
    "pycharm": {
     "name": "#%%\n",
     "is_executing": false
    }
   }
  },
  {
   "cell_type": "markdown",
   "source": [
    "### Excursion: Indexing Logical Elements\n",
    "\n",
    "It is handy to have the objects indexed in a table for easy retrieval. We can have such a table\n",
    "by name"
   ],
   "metadata": {
    "collapsed": false,
    "pycharm": {
     "name": "#%% md\n"
    }
   }
  },
  {
   "cell_type": "code",
   "execution_count": 32,
   "outputs": [
    {
     "data": {
      "text/plain": "{'a': a (object), 'b': b (object), 'c': c (object), 'd': d (object)}"
     },
     "metadata": {},
     "output_type": "execute_result",
     "execution_count": 32
    }
   ],
   "source": [
    "obj_table1 = { str(obj): obj for obj in objects.domain()}\n",
    "obj_table1"
   ],
   "metadata": {
    "collapsed": false,
    "pycharm": {
     "name": "#%%\n",
     "is_executing": false
    }
   }
  },
  {
   "cell_type": "markdown",
   "source": [
    "Alternatively, we can use the constants themselves as keys in a dictionary, by wrapping them with\n",
    "an adapter in this way"
   ],
   "metadata": {
    "collapsed": false,
    "pycharm": {
     "name": "#%% md\n"
    }
   }
  },
  {
   "cell_type": "code",
   "execution_count": 34,
   "outputs": [
    {
     "data": {
      "text/plain": "{symref[a]: [], symref[b]: [], symref[c]: [], symref[d]: []}"
     },
     "metadata": {},
     "output_type": "execute_result",
     "execution_count": 34
    }
   ],
   "source": [
    "obj_table2 = { symref(obj): [] for obj in objects.domain()}\n",
    "obj_table2"
   ],
   "metadata": {
    "collapsed": false,
    "pycharm": {
     "name": "#%%\n",
     "is_executing": false
    }
   }
  },
  {
   "cell_type": "markdown",
   "source": [
    "Wrapping constant, terms and atoms is necessary as `Tarski` overloads most of the standard Python \n",
    "operators to provide compact syntax for formulas and expressions. For instance, if we wanted\n",
    "to compare whether two constants are the same _value_ one could try the following"
   ],
   "metadata": {
    "collapsed": false,
    "pycharm": {
     "name": "#%% md\n"
    }
   }
  },
  {
   "cell_type": "code",
   "execution_count": 35,
   "outputs": [
    {
     "data": {
      "text/plain": "=(a,b)"
     },
     "metadata": {},
     "output_type": "execute_result",
     "execution_count": 35
    }
   ],
   "source": [
    "x = L.get('a')\n",
    "y = L.get('b')\n",
    "x == y"
   ],
   "metadata": {
    "collapsed": false,
    "pycharm": {
     "name": "#%%\n",
     "is_executing": false
    }
   }
  },
  {
   "cell_type": "markdown",
   "source": [
    "Yet using the comparison operator `==` results in the _atom_ `=(a,b)`, as `a` and `b` stand for\n",
    "two elements of a first-order language. If we use the wrappers"
   ],
   "metadata": {
    "collapsed": false,
    "pycharm": {
     "name": "#%% md\n"
    }
   }
  },
  {
   "cell_type": "code",
   "execution_count": 36,
   "outputs": [
    {
     "data": {
      "text/plain": "False"
     },
     "metadata": {},
     "output_type": "execute_result",
     "execution_count": 36
    }
   ],
   "source": [
    "x = L.get('a')\n",
    "y = L.get('b')\n",
    "symref(x) == symref(y)"
   ],
   "metadata": {
    "collapsed": false,
    "pycharm": {
     "name": "#%%\n",
     "is_executing": false
    }
   }
  },
  {
   "cell_type": "markdown",
   "source": [
    "Then we get to compare the actual _physical_ objects than the _logical elements_ (e.g.\n",
    " constants, arithmetic expressions, Boolean formulas) they represent."
   ],
   "metadata": {
    "collapsed": false
   }
  },
  {
   "cell_type": "markdown",
   "source": [
    "We can formulate a simple state constraint as we can do with any other `Tarski` construct"
   ],
   "metadata": {
    "collapsed": false,
    "pycharm": {
     "name": "#%% md\n"
    }
   }
  },
  {
   "cell_type": "code",
   "execution_count": 33,
   "outputs": [],
   "source": [
    "\n",
    "\n"
   ],
   "metadata": {
    "collapsed": false,
    "pycharm": {
     "name": "#%%\n",
     "is_executing": false
    }
   }
  }
 ],
 "metadata": {
  "kernelspec": {
   "display_name": "Python 3",
   "language": "python",
   "name": "python3"
  },
  "language_info": {
   "codemirror_mode": {
    "name": "ipython",
    "version": 2
   },
   "file_extension": ".py",
   "mimetype": "text/x-python",
   "name": "python",
   "nbconvert_exporter": "python",
   "pygments_lexer": "ipython2",
   "version": "2.7.6"
  },
  "pycharm": {
   "stem_cell": {
    "cell_type": "raw",
    "source": [],
    "metadata": {
     "collapsed": false
    }
   }
  }
 },
 "nbformat": 4,
 "nbformat_minor": 0
}