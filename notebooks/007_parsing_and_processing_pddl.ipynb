{
 "cells": [
  {
   "cell_type": "code",
   "execution_count": 1,
   "metadata": {
    "collapsed": true,
    "pycharm": {
     "is_executing": false
    }
   },
   "outputs": [],
   "source": [
    "\n",
    "from tarski.theories import Theory\n",
    "from tarski.io.fstrips import ParsingError, FstripsReader\n",
    "from tarski.syntax import *"
   ]
  },
  {
   "cell_type": "markdown",
   "source": [
    "# Parsing and Processing PDDL"
   ],
   "metadata": {
    "collapsed": false
   }
  },
  {
   "cell_type": "code",
   "execution_count": 2,
   "outputs": [],
   "source": [
    "reader = FstripsReader(raise_on_error=True)"
   ],
   "metadata": {
    "collapsed": false,
    "pycharm": {
     "name": "#%%\n",
     "is_executing": false
    }
   }
  },
  {
   "cell_type": "code",
   "execution_count": 3,
   "outputs": [],
   "source": [
    "reader.parse_domain('probBLOCKS-domain.pddl')\n",
    "reader.parse_instance('probBLOCKS-4-2.pddl')"
   ],
   "metadata": {
    "collapsed": false,
    "pycharm": {
     "name": "#%%\n",
     "is_executing": false
    }
   }
  },
  {
   "cell_type": "code",
   "execution_count": 4,
   "outputs": [],
   "source": [
    "L = reader.problem.language"
   ],
   "metadata": {
    "collapsed": false,
    "pycharm": {
     "name": "#%%\n",
     "is_executing": false
    }
   }
  },
  {
   "cell_type": "markdown",
   "source": [
    "We can retrieve any sort (or _type_ in PDDL-parlance), constant, function or predicate \n",
    "via the `get` method of the class `Language`. Since we are dealing\n",
    "with the classic `Blocks World` benchmark we know there must be predicates `on(x,y)` and `clear(x)` "
   ],
   "metadata": {
    "collapsed": false
   }
  },
  {
   "cell_type": "code",
   "execution_count": 5,
   "outputs": [],
   "source": [
    "on = L.get('on')\n",
    "clear = L.get('clear')"
   ],
   "metadata": {
    "collapsed": false,
    "pycharm": {
     "name": "#%%\n",
     "is_executing": false
    }
   }
  },
  {
   "cell_type": "markdown",
   "source": [
    "`Language` instances allow us to iterate over the list of declared predicates etc. via the\n",
    "properties `predicates`, `functions`"
   ],
   "metadata": {
    "collapsed": false,
    "pycharm": {
     "name": "#%% md\n",
     "is_executing": false
    }
   }
  },
  {
   "cell_type": "code",
   "execution_count": 6,
   "outputs": [
    {
     "name": "stdout",
     "text": [
      "=/2\n",
      "!=/2\n",
      "on/2\n",
      "ontable/1\n",
      "clear/1\n",
      "handempty/0\n",
      "holding/1\n"
     ],
     "output_type": "stream"
    }
   ],
   "source": [
    "for pred in L.predicates:\n",
    "    print(str(pred))"
   ],
   "metadata": {
    "collapsed": false,
    "pycharm": {
     "name": "#%%\n",
     "is_executing": false
    }
   }
  },
  {
   "cell_type": "markdown",
   "source": [
    "As seen above `Tarski` parser defines the equality predicate and its negation, as  well as the\n",
    "usual `on` etc. The number after the name of the predicate indicates its _arity_ (i.e. number of arguments).\n",
    "\n",
    "Getting our hands on the objects defined in the instance file `probBLOCKS-4-2.pddl` requires to \n",
    "navigate the type hierarchy. First, we can take a look at what are the sorts defined similarly as\n",
    "we do for predicates"
   ],
   "metadata": {
    "collapsed": false,
    "pycharm": {
     "name": "#%% md\n"
    }
   }
  },
  {
   "cell_type": "code",
   "execution_count": 7,
   "outputs": [
    {
     "name": "stdout",
     "text": [
      "Sort(object)\n"
     ],
     "output_type": "stream"
    }
   ],
   "source": [
    "for S in L.sorts:\n",
    "    print(str(S))"
   ],
   "metadata": {
    "collapsed": false,
    "pycharm": {
     "name": "#%%\n",
     "is_executing": false
    }
   }
  },
  {
   "cell_type": "markdown",
   "source": [
    "There is only one sort defined, `object`. We can check out its elements "
   ],
   "metadata": {
    "collapsed": false,
    "pycharm": {
     "name": "#%% md\n",
     "is_executing": false
    }
   }
  },
  {
   "cell_type": "code",
   "execution_count": 8,
   "outputs": [
    {
     "name": "stdout",
     "text": [
      "d <class 'tarski.syntax.terms.Constant'>\n",
      "a <class 'tarski.syntax.terms.Constant'>\n",
      "b <class 'tarski.syntax.terms.Constant'>\n",
      "c <class 'tarski.syntax.terms.Constant'>\n"
     ],
     "output_type": "stream"
    }
   ],
   "source": [
    "objects = L.get('object')\n",
    "for obj in objects.domain():\n",
    "    print(str(obj), type(obj))"
   ],
   "metadata": {
    "collapsed": false,
    "pycharm": {
     "name": "#%%\n",
     "is_executing": false
    }
   }
  },
  {
   "cell_type": "markdown",
   "source": [
    "### Excursion: Indexing Logical Elements\n",
    "\n",
    "It is handy to have the objects indexed in a table for easy retrieval. We can have such a table\n",
    "by name"
   ],
   "metadata": {
    "collapsed": false,
    "pycharm": {
     "name": "#%% md\n"
    }
   }
  },
  {
   "cell_type": "code",
   "execution_count": 9,
   "outputs": [
    {
     "data": {
      "text/plain": "{'a': a (object), 'b': b (object), 'c': c (object), 'd': d (object)}"
     },
     "metadata": {},
     "output_type": "execute_result",
     "execution_count": 9
    }
   ],
   "source": [
    "obj_table1 = { str(obj): obj for obj in objects.domain()}\n",
    "obj_table1"
   ],
   "metadata": {
    "collapsed": false,
    "pycharm": {
     "name": "#%%\n",
     "is_executing": false
    }
   }
  },
  {
   "cell_type": "markdown",
   "source": [
    "Alternatively, we can use the constants themselves as keys in a dictionary, by wrapping them with\n",
    "an adapter in this way"
   ],
   "metadata": {
    "collapsed": false,
    "pycharm": {
     "name": "#%% md\n"
    }
   }
  },
  {
   "cell_type": "code",
   "execution_count": 10,
   "outputs": [
    {
     "data": {
      "text/plain": "{symref[a]: [], symref[b]: [], symref[c]: [], symref[d]: []}"
     },
     "metadata": {},
     "output_type": "execute_result",
     "execution_count": 10
    }
   ],
   "source": [
    "obj_table2 = { symref(obj): [] for obj in objects.domain()}\n",
    "obj_table2"
   ],
   "metadata": {
    "collapsed": false,
    "pycharm": {
     "name": "#%%\n",
     "is_executing": false
    }
   }
  },
  {
   "cell_type": "markdown",
   "source": [
    "Wrapping constant, terms and atoms is necessary as `Tarski` overloads most of the standard Python \n",
    "operators to provide compact syntax for formulas and expressions. For instance, if we wanted\n",
    "to compare whether two constants are the same _value_ one could try the following"
   ],
   "metadata": {
    "collapsed": false,
    "pycharm": {
     "name": "#%% md\n"
    }
   }
  },
  {
   "cell_type": "code",
   "execution_count": 11,
   "outputs": [
    {
     "data": {
      "text/plain": "=(a,b)"
     },
     "metadata": {},
     "output_type": "execute_result",
     "execution_count": 11
    }
   ],
   "source": [
    "x = L.get('a')\n",
    "y = L.get('b')\n",
    "x == y"
   ],
   "metadata": {
    "collapsed": false,
    "pycharm": {
     "name": "#%%\n",
     "is_executing": false
    }
   }
  },
  {
   "cell_type": "markdown",
   "source": [
    "Yet using the comparison operator `==` results in the _atom_ `=(a,b)`, as `a` and `b` stand for\n",
    "two elements of a first-order language. If we use the wrappers"
   ],
   "metadata": {
    "collapsed": false,
    "pycharm": {
     "name": "#%% md\n"
    }
   }
  },
  {
   "cell_type": "code",
   "execution_count": 12,
   "outputs": [
    {
     "data": {
      "text/plain": "False"
     },
     "metadata": {},
     "output_type": "execute_result",
     "execution_count": 12
    }
   ],
   "source": [
    "x = L.get('a')\n",
    "y = L.get('b')\n",
    "symref(x) == symref(y)"
   ],
   "metadata": {
    "collapsed": false,
    "pycharm": {
     "name": "#%%\n",
     "is_executing": false
    }
   }
  },
  {
   "cell_type": "markdown",
   "source": [
    "Then we get to compare the actual _physical_ objects than the _logical elements_ (e.g.\n",
    " constants, arithmetic expressions, Boolean formulas) they represent."
   ],
   "metadata": {
    "collapsed": false
   }
  },
  {
   "cell_type": "markdown",
   "source": [
    "## Grounding    \n",
    "\n",
    "`Tarski` supports two different strategies for grounding lifted representations of STRIPS and ADL. One is based around\n",
    "the idea by Malte Helmert of constructing a logic program and computing its models so as to determine the reachability\n",
    "of a ground atom _online_. This is strategy constrasts with the classical approach, which we refer to as `naive`, where \n",
    "all potential groundings are first enumerated and then tested by reachability. While Helmert's approach is slower\n",
    "for smaller problems, it does pay off greatly for instances with thousands of ground actions, or more, which can only\n",
    "rarely be processed even by optimized implementations of the `naive` approach."
   ],
   "metadata": {
    "collapsed": false,
    "pycharm": {
     "name": "#%% md\n"
    }
   }
  },
  {
   "cell_type": "markdown",
   "source": [
    "To implement Helmert's algorithm, or `lp` from now on, we rely on the excellent tools developed by for Answer Set\n",
    "Programming, and inparticular, `gringo`, the suite of grounding tools for\n",
    "disjunctivel logic programs. Stable versions of tools are neatly packaged in Ubuntu 18.04 so you can install them\n",
    "like this\n",
    "\n",
    "```\n",
    "$ sudo apt install gringo\n",
    "```"
   ],
   "metadata": {
    "collapsed": false,
    "pycharm": {
     "name": "#%% md\n"
    }
   }
  },
  {
   "cell_type": "markdown",
   "source": [
    "We can get hold of the classes encapsulating the grounding process from the `tarski.grounding` module"
   ],
   "metadata": {
    "collapsed": false,
    "pycharm": {
     "name": "#%% md\n"
    }
   }
  },
  {
   "cell_type": "code",
   "execution_count": 13,
   "outputs": [],
   "source": [
    "from tarski.grounding import LPGroundingStrategy\n",
    "from tarski.grounding.errors import ReachabilityLPUnsolvable"
   ],
   "metadata": {
    "collapsed": false,
    "pycharm": {
     "name": "#%%\n",
     "is_executing": false
    }
   }
  },
  {
   "cell_type": "markdown",
   "source": [
    "and ground the instance of Blocks World with a one-liner"
   ],
   "metadata": {
    "collapsed": false,
    "pycharm": {
     "name": "#%% md\n"
    }
   }
  },
  {
   "cell_type": "code",
   "execution_count": 14,
   "outputs": [],
   "source": [
    "try:\n",
    "    grounding = LPGroundingStrategy(reader.problem)\n",
    "except ReachabilityLPUnsolvable:\n",
    "    print(\"Problem was determined to be unsolvable during grounding\")"
   ],
   "metadata": {
    "collapsed": false,
    "pycharm": {
     "name": "#%%\n",
     "is_executing": false
    }
   }
  },
  {
   "cell_type": "markdown",
   "source": [
    "Note that the `lp` grounder can determine if an instance is unsolvable, so we need to handle that possible exception."
   ],
   "metadata": {
    "collapsed": false,
    "pycharm": {
     "name": "#%% md\n"
    }
   }
  },
  {
   "cell_type": "code",
   "execution_count": 15,
   "outputs": [
    {
     "name": "stdout",
     "text": [
      "Action schema pick-up got 4 ground actions\n",
      "Action schema put-down got 4 ground actions\n",
      "Action schema stack got 16 ground actions\n",
      "Action schema unstack got 16 ground actions\n"
     ],
     "output_type": "stream"
    }
   ],
   "source": [
    "actions = grounding.ground_actions()\n",
    "\n",
    "for name, ops in actions.items():\n",
    "    print('Action schema', name, 'got', len(ops), 'ground actions')"
   ],
   "metadata": {
    "collapsed": false,
    "pycharm": {
     "name": "#%%\n",
     "is_executing": false
    }
   }
  },
  {
   "cell_type": "code",
   "execution_count": 16,
   "outputs": [
    {
     "name": "stdout",
     "text": [
      "p_0: on(a,a)\n",
      "p_1: on(c,c)\n",
      "p_2: on(c,b)\n",
      "p_3: on(c,a)\n",
      "p_4: on(a,c)\n",
      "p_5: on(d,a)\n",
      "p_6: on(d,c)\n",
      "p_7: on(d,b)\n",
      "p_8: on(a,b)\n",
      "p_9: on(b,b)\n",
      "p_10: on(d,d)\n",
      "p_11: on(c,d)\n",
      "p_12: on(a,d)\n",
      "p_13: on(b,c)\n",
      "p_14: on(b,a)\n",
      "p_15: on(b,d)\n",
      "p_16: ontable(d)\n",
      "p_17: ontable(c)\n",
      "p_18: ontable(a)\n",
      "p_19: ontable(b)\n",
      "p_20: handempty()\n",
      "p_21: clear(d)\n",
      "p_22: clear(a)\n",
      "p_23: clear(c)\n",
      "p_24: clear(b)\n",
      "p_25: holding(d)\n",
      "p_26: holding(a)\n",
      "p_27: holding(c)\n",
      "p_28: holding(b)\n"
     ],
     "output_type": "stream"
    }
   ],
   "source": [
    "lpvariables = grounding.ground_state_variables()\n",
    "for atom_index, atoms in lpvariables.enumerate():\n",
    "    print('p_{}:'.format(atom_index), atoms)"
   ],
   "metadata": {
    "collapsed": false,
    "pycharm": {
     "name": "#%%\n",
     "is_executing": false
    }
   }
  },
  {
   "cell_type": "code",
   "execution_count": 16,
   "outputs": [],
   "source": [
    "\n"
   ],
   "metadata": {
    "collapsed": false,
    "pycharm": {
     "name": "#%%\n",
     "is_executing": false
    }
   }
  }
 ],
 "metadata": {
  "kernelspec": {
   "display_name": "Python 3",
   "language": "python",
   "name": "python3"
  },
  "language_info": {
   "codemirror_mode": {
    "name": "ipython",
    "version": 2
   },
   "file_extension": ".py",
   "mimetype": "text/x-python",
   "name": "python",
   "nbconvert_exporter": "python",
   "pygments_lexer": "ipython2",
   "version": "2.7.6"
  },
  "pycharm": {
   "stem_cell": {
    "cell_type": "raw",
    "source": [],
    "metadata": {
     "collapsed": false
    }
   }
  }
 },
 "nbformat": 4,
 "nbformat_minor": 0
}