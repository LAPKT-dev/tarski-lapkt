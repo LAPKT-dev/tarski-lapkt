{
 "cells": [
  {
   "cell_type": "code",
   "execution_count": 1,
   "metadata": {
    "pycharm": {
     "is_executing": false
    }
   },
   "outputs": [],
   "source": [
    "import tarski\n",
    "import tarski.evaluators\n",
    "from tarski.theories import Theory\n",
    "from tarski.io.fstrips import ParsingError, FstripsReader\n",
    "from tarski.syntax import *"
   ]
  },
  {
   "cell_type": "markdown",
   "metadata": {},
   "source": [
    "# Parsing and Processing PDDL"
   ]
  },
  {
   "cell_type": "code",
   "execution_count": 2,
   "metadata": {
    "pycharm": {
     "is_executing": false,
     "name": "#%%\n"
    }
   },
   "outputs": [],
   "source": [
    "reader = FstripsReader(raise_on_error=True)"
   ]
  },
  {
   "cell_type": "code",
   "execution_count": 3,
   "metadata": {
    "pycharm": {
     "is_executing": false,
     "name": "#%%\n"
    }
   },
   "outputs": [],
   "source": [
    "reader.parse_domain('probBLOCKS-domain.pddl')\n",
    "reader.parse_instance('probBLOCKS-4-2.pddl')"
   ]
  },
  {
   "cell_type": "code",
   "execution_count": 4,
   "metadata": {
    "pycharm": {
     "is_executing": false,
     "name": "#%%\n"
    }
   },
   "outputs": [],
   "source": [
    "L = reader.problem.language"
   ]
  },
  {
   "cell_type": "markdown",
   "metadata": {},
   "source": [
    "We can retrieve any sort (or _type_ in PDDL-parlance), constant, function or predicate \n",
    "via the `get` method of the class `Language`. Since we are dealing\n",
    "with the classic `Blocks World` benchmark we know there must be predicates `on(x,y)` and `clear(x)` "
   ]
  },
  {
   "cell_type": "code",
   "execution_count": 5,
   "metadata": {
    "pycharm": {
     "is_executing": false,
     "name": "#%%\n"
    }
   },
   "outputs": [],
   "source": [
    "on = L.get('on')\n",
    "clear = L.get('clear')"
   ]
  },
  {
   "cell_type": "markdown",
   "metadata": {
    "pycharm": {
     "is_executing": false,
     "name": "#%% md\n"
    }
   },
   "source": [
    "`Language` instances allow us to iterate over the list of declared predicates etc. via the\n",
    "properties `predicates`, `functions`"
   ]
  },
  {
   "cell_type": "code",
   "execution_count": 6,
   "metadata": {
    "pycharm": {
     "is_executing": false,
     "name": "#%%\n"
    }
   },
   "outputs": [
    {
     "name": "stdout",
     "text": [
      "=/2\n",
      "!=/2\n",
      "on/2\n",
      "ontable/1\n",
      "clear/1\n",
      "handempty/0\n",
      "holding/1\n"
     ],
     "output_type": "stream"
    }
   ],
   "source": [
    "for pred in L.predicates:\n",
    "    print(str(pred))"
   ]
  },
  {
   "cell_type": "markdown",
   "metadata": {
    "pycharm": {
     "name": "#%% md\n"
    }
   },
   "source": [
    "As seen above `Tarski` parser defines the equality predicate and its negation, as  well as the\n",
    "usual `on` etc. The number after the name of the predicate indicates its _arity_ (i.e. number of arguments).\n",
    "\n",
    "Getting our hands on the objects defined in the instance file `probBLOCKS-4-2.pddl` requires to \n",
    "navigate the type hierarchy. First, we can take a look at what are the sorts defined similarly as\n",
    "we do for predicates"
   ]
  },
  {
   "cell_type": "code",
   "execution_count": 7,
   "metadata": {
    "pycharm": {
     "is_executing": false,
     "name": "#%%\n"
    }
   },
   "outputs": [
    {
     "name": "stdout",
     "text": [
      "Sort(object)\n"
     ],
     "output_type": "stream"
    }
   ],
   "source": [
    "for S in L.sorts:\n",
    "    print(str(S))"
   ]
  },
  {
   "cell_type": "markdown",
   "metadata": {
    "pycharm": {
     "is_executing": false,
     "name": "#%% md\n"
    }
   },
   "source": [
    "There is only one sort defined, `object`. We can check out its elements "
   ]
  },
  {
   "cell_type": "code",
   "execution_count": 8,
   "metadata": {
    "pycharm": {
     "is_executing": false,
     "name": "#%%\n"
    }
   },
   "outputs": [
    {
     "name": "stdout",
     "text": [
      "b <class 'tarski.syntax.terms.Constant'>\n",
      "d <class 'tarski.syntax.terms.Constant'>\n",
      "a <class 'tarski.syntax.terms.Constant'>\n",
      "c <class 'tarski.syntax.terms.Constant'>\n"
     ],
     "output_type": "stream"
    }
   ],
   "source": [
    "objects = L.get('object')\n",
    "for obj in objects.domain():\n",
    "    print(str(obj), type(obj))"
   ]
  },
  {
   "cell_type": "markdown",
   "metadata": {
    "pycharm": {
     "name": "#%% md\n"
    }
   },
   "source": [
    "### Excursion: Indexing Logical Elements\n",
    "\n",
    "It is handy to have the objects indexed in a table for easy retrieval. We can have such a table\n",
    "by name"
   ]
  },
  {
   "cell_type": "code",
   "execution_count": 9,
   "metadata": {
    "pycharm": {
     "is_executing": false,
     "name": "#%%\n"
    }
   },
   "outputs": [
    {
     "data": {
      "text/plain": "{'a': a (object), 'b': b (object), 'c': c (object), 'd': d (object)}"
     },
     "metadata": {},
     "output_type": "execute_result",
     "execution_count": 9
    }
   ],
   "source": [
    "obj_table1 = { str(obj): obj for obj in objects.domain()}\n",
    "obj_table1"
   ]
  },
  {
   "cell_type": "markdown",
   "metadata": {
    "pycharm": {
     "name": "#%% md\n"
    }
   },
   "source": [
    "Alternatively, we can use the constants themselves as keys in a dictionary, by wrapping them with\n",
    "an adapter in this way"
   ]
  },
  {
   "cell_type": "code",
   "execution_count": 10,
   "metadata": {
    "pycharm": {
     "is_executing": false,
     "name": "#%%\n"
    }
   },
   "outputs": [
    {
     "data": {
      "text/plain": "{symref[a]: [], symref[b]: [], symref[c]: [], symref[d]: []}"
     },
     "metadata": {},
     "output_type": "execute_result",
     "execution_count": 10
    }
   ],
   "source": [
    "obj_table2 = { symref(obj): [] for obj in objects.domain()}\n",
    "obj_table2"
   ]
  },
  {
   "cell_type": "markdown",
   "metadata": {
    "pycharm": {
     "name": "#%% md\n"
    }
   },
   "source": [
    "Wrapping constant, terms and atoms is necessary as `Tarski` overloads most of the standard Python \n",
    "operators to provide compact syntax for formulas and expressions. For instance, if we wanted\n",
    "to compare whether two constants are the same _value_ one could try the following"
   ]
  },
  {
   "cell_type": "code",
   "execution_count": 11,
   "metadata": {
    "pycharm": {
     "is_executing": false,
     "name": "#%%\n"
    }
   },
   "outputs": [
    {
     "data": {
      "text/plain": "=(a,b)"
     },
     "metadata": {},
     "output_type": "execute_result",
     "execution_count": 11
    }
   ],
   "source": [
    "x = L.get('a')\n",
    "y = L.get('b')\n",
    "x == y"
   ]
  },
  {
   "cell_type": "markdown",
   "metadata": {
    "pycharm": {
     "name": "#%% md\n"
    }
   },
   "source": [
    "Yet using the comparison operator `==` results in the _atom_ `=(a,b)`, as `a` and `b` stand for\n",
    "two elements of a first-order language. If we use the wrappers"
   ]
  },
  {
   "cell_type": "code",
   "execution_count": 12,
   "metadata": {
    "pycharm": {
     "is_executing": false,
     "name": "#%%\n"
    }
   },
   "outputs": [
    {
     "data": {
      "text/plain": "False"
     },
     "metadata": {},
     "output_type": "execute_result",
     "execution_count": 12
    }
   ],
   "source": [
    "x = L.get('a')\n",
    "y = L.get('b')\n",
    "symref(x) == symref(y)"
   ]
  },
  {
   "cell_type": "markdown",
   "metadata": {},
   "source": [
    "Then we get to compare the actual _physical_ objects than the _logical elements_ (e.g.\n",
    " constants, arithmetic expressions, Boolean formulas) they represent."
   ]
  },
  {
   "cell_type": "markdown",
   "metadata": {
    "pycharm": {
     "name": "#%% md\n"
    }
   },
   "source": [
    "## Grounding    \n",
    "\n",
    "`Tarski` supports two different strategies for grounding lifted representations of STRIPS and ADL. One is based around\n",
    "the idea by Malte Helmert of constructing a logic program and computing its models so as to determine the reachability\n",
    "of a ground atom _online_. This is strategy constrasts with the classical approach, which we refer to as `naive`, where \n",
    "all potential groundings are first enumerated and then tested by reachability. While Helmert's approach is slower\n",
    "for smaller problems, it does pay off greatly for instances with thousands of ground actions, or more, which can only\n",
    "rarely be processed even by optimized implementations of the `naive` approach."
   ]
  },
  {
   "cell_type": "markdown",
   "metadata": {
    "pycharm": {
     "name": "#%% md\n"
    }
   },
   "source": [
    "To implement Helmert's algorithm, or `lp` from now on, we rely on the excellent tools developed by for Answer Set\n",
    "Programming, and inparticular, `gringo`, the suite of grounding tools for\n",
    "disjunctivel logic programs. Stable versions of tools are neatly packaged in Ubuntu 18.04 so you can install them\n",
    "like this\n",
    "\n",
    "```\n",
    "$ sudo apt install gringo\n",
    "```"
   ]
  },
  {
   "cell_type": "markdown",
   "metadata": {
    "pycharm": {
     "name": "#%% md\n"
    }
   },
   "source": [
    "We can get hold of the classes encapsulating the grounding process from the `tarski.grounding` module"
   ]
  },
  {
   "cell_type": "code",
   "execution_count": 13,
   "metadata": {
    "pycharm": {
     "is_executing": false,
     "name": "#%%\n"
    }
   },
   "outputs": [],
   "source": [
    "from tarski.grounding import LPGroundingStrategy\n",
    "from tarski.grounding.errors import ReachabilityLPUnsolvable"
   ]
  },
  {
   "cell_type": "markdown",
   "metadata": {
    "pycharm": {
     "name": "#%% md\n"
    }
   },
   "source": [
    "and ground the instance of Blocks World with a one-liner"
   ]
  },
  {
   "cell_type": "code",
   "execution_count": 14,
   "metadata": {
    "pycharm": {
     "is_executing": false,
     "name": "#%%\n"
    }
   },
   "outputs": [],
   "source": [
    "try:\n",
    "    grounding = LPGroundingStrategy(reader.problem)\n",
    "except ReachabilityLPUnsolvable:\n",
    "    print(\"Problem was determined to be unsolvable during grounding\")"
   ]
  },
  {
   "cell_type": "markdown",
   "metadata": {
    "pycharm": {
     "name": "#%% md\n"
    }
   },
   "source": [
    "Note that the `lp` grounder can determine if an instance is unsolvable, so we need to handle that possible exception.\n",
    "\n",
    "We can inspect the results of the grounding process with ease. For the ground actions, \n",
    "we can query the `grounding` object for a dictionary that maps every action schema to\n",
    "a list tuples of object names that schema variables are to be bound to, as they were \n",
    "found to be reachable"
   ]
  },
  {
   "cell_type": "code",
   "execution_count": 15,
   "metadata": {
    "pycharm": {
     "is_executing": false,
     "name": "#%%\n"
    }
   },
   "outputs": [
    {
     "name": "stdout",
     "text": [
      "Action schema pick-up got 4 bindings\n",
      "('c',)\n",
      "('d',)\n",
      "('a',)\n",
      "('b',)\n",
      "Action schema put-down got 4 bindings\n",
      "('c',)\n",
      "('d',)\n",
      "('a',)\n",
      "('b',)\n",
      "Action schema stack got 16 bindings\n",
      "('b', 'd')\n",
      "('a', 'b')\n",
      "('b', 'b')\n",
      "('a', 'c')\n",
      "('c', 'd')\n",
      "('c', 'a')\n",
      "('a', 'd')\n",
      "('d', 'a')\n",
      "('d', 'b')\n",
      "('c', 'b')\n",
      "('b', 'c')\n",
      "('a', 'a')\n",
      "('d', 'c')\n",
      "('d', 'd')\n",
      "('b', 'a')\n",
      "('c', 'c')\n",
      "Action schema unstack got 16 bindings\n",
      "('b', 'd')\n",
      "('a', 'b')\n",
      "('b', 'b')\n",
      "('a', 'c')\n",
      "('c', 'd')\n",
      "('c', 'a')\n",
      "('a', 'd')\n",
      "('d', 'a')\n",
      "('d', 'b')\n",
      "('c', 'b')\n",
      "('b', 'c')\n",
      "('a', 'a')\n",
      "('d', 'c')\n",
      "('d', 'd')\n",
      "('b', 'a')\n",
      "('c', 'c')\n"
     ],
     "output_type": "stream"
    }
   ],
   "source": [
    "actions = grounding.ground_actions()\n",
    "\n",
    "for name, bindings in actions.items():\n",
    "    print('Action schema', name, 'got', len(bindings), 'bindings')\n",
    "    for b in bindings:\n",
    "        print(b)"
   ]
  },
  {
   "cell_type": "markdown",
   "metadata": {
    "pycharm": {
     "name": "#%% md\n"
    }
   },
   "source": [
    "The astute reader may be now wondering why we only return the _bindings_ rather\n",
    "than the grounded actions themselves. The reason is that doing so is not safe\n",
    "in general, as big instances (such as those commonly found on the IPC-18 benchmarks)\n",
    "result in thousands of ground operators, and is possible to exhaust the memory\n",
    "available to the Python interpreter. \n",
    "\n",
    "To ameliorate that issue, we settle for returning instead the minimal amount of data\n",
    "necessary so users can decide how to instantiate ground operators efficiently.  "
   ]
  },
  {
   "cell_type": "markdown",
   "metadata": {
    "pycharm": {
     "name": "#%% md\n"
    }
   },
   "source": [
    "To access the ground atoms, or _state variables_, identified during the grounding\n",
    "process, we use a similar interface"
   ]
  },
  {
   "cell_type": "code",
   "execution_count": 16,
   "metadata": {
    "pycharm": {
     "is_executing": false,
     "name": "#%%\n"
    }
   },
   "outputs": [
    {
     "name": "stdout",
     "text": [
      "p_0: clear(c)\n",
      "p_1: clear(d)\n",
      "p_2: clear(a)\n",
      "p_3: clear(b)\n",
      "p_4: holding(c)\n",
      "p_5: holding(d)\n",
      "p_6: holding(a)\n",
      "p_7: holding(b)\n",
      "p_8: ontable(c)\n",
      "p_9: ontable(d)\n",
      "p_10: ontable(a)\n",
      "p_11: ontable(b)\n",
      "p_12: on(b,d)\n",
      "p_13: on(a,b)\n",
      "p_14: on(b,b)\n",
      "p_15: on(a,c)\n",
      "p_16: on(c,d)\n",
      "p_17: on(a,a)\n",
      "p_18: on(c,a)\n",
      "p_19: on(d,a)\n",
      "p_20: on(a,d)\n",
      "p_21: on(d,b)\n",
      "p_22: on(c,b)\n",
      "p_23: on(b,c)\n",
      "p_24: on(d,d)\n",
      "p_25: on(d,c)\n",
      "p_26: on(b,a)\n",
      "p_27: on(c,c)\n",
      "p_28: handempty()\n"
     ],
     "output_type": "stream"
    }
   ],
   "source": [
    "lpvariables = grounding.ground_state_variables()\n",
    "for atom_index, atoms in lpvariables.enumerate():\n",
    "    print('p_{}:'.format(atom_index), atoms)"
   ]
  },
  {
   "cell_type": "markdown",
   "metadata": {
    "pycharm": {
     "name": "#%% md\n"
    }
   },
   "source": [
    "We note that in this case we _do_ return the actual grounded language element. This\n",
    "is because the number of fluents is not generally subject to the same kind of \n",
    "combinatorial explosion that ground actions are. **This assessment may change\n",
    "in the future**."
   ]
  },
  {
   "cell_type": "markdown",
   "metadata": {
    "pycharm": {
     "is_executing": false,
     "name": "#%% md\n"
    }
   },
   "source": [
    "## The $K_0$ compilation\n",
    "\n",
    "For the purpose of this tutorial we will look at the seminal paper by Palacios and Geffner\n",
    "\"Compiling Uncertainty Away in Conformant Planning Problems with Bounded Width\", and see how\n",
    "we can implement the $K_0$ compilation of conformant into classical problems.\n",
    "\n",
    "*Definition* (Translation $K_0$). For a conformant planning problem $P=\\langle F,I,O,G\\rangle$, the \n",
    "translation $K_0(P) = \\langle F', I', O', G'\\rangle$ is classical planning problem with\n",
    " - $F' = \\{ KL, K\\neg L\\, \\mid\\, L \\in F \\}$\n",
    " - $I' = \\{ KL \\, \\mid \\, L \\text{ is a unit clause in } I\\}$\n",
    " - $G' = \\{ KL \\, \\mid \\, L \\in G\\}$\n",
    " - $O' = O$ but with each precondition $L$ for $a \\in O$ replaced by $KL$, and each conditional effect \n",
    " $a: C \\rightarrow L$ replaced by $a: KC \\rightarrow KL$ and $a: \\neg K \\neg C \\rightarrow \\neg K \\neg L$."
   ]
  },
  {
   "cell_type": "markdown",
   "metadata": {
    "pycharm": {
     "name": "#%% md\n"
    }
   },
   "source": [
    "### Constructing the fluent set $F'$\n",
    "\n",
    "To construct the set of fluents $F'$ we need to create a fresh first-order language\n",
    "to accomodate the new symbols"
   ]
  },
  {
   "cell_type": "code",
   "execution_count": 17,
   "metadata": {
    "pycharm": {
     "is_executing": false,
     "name": "#%%\n"
    }
   },
   "outputs": [],
   "source": [
    "KP_lang = tarski.language(\"K0(P)\", theories=[Theory.EQUALITY])"
   ]
  },
  {
   "cell_type": "markdown",
   "metadata": {
    "pycharm": {
     "name": "#%% md\n"
    }
   },
   "source": [
    "In this tutorial we will explore a compact encoding enabled by the modeling capabilities\n",
    "of `tarski`. We start creating a sort (type) for the literals of each of the atoms\n",
    "in the original conformant problem $P$. We call this type `P-literals`"
   ]
  },
  {
   "cell_type": "code",
   "execution_count": 18,
   "metadata": {
    "pycharm": {
     "is_executing": false,
     "name": "#%%\n"
    }
   },
   "outputs": [],
   "source": [
    "p_lits = KP_lang.sort(\"P-literals\", KP_lang.Object)"
   ]
  },
  {
   "cell_type": "markdown",
   "metadata": {
    "pycharm": {
     "name": "#%% md\n"
    }
   },
   "source": [
    " \n",
    "Now we enumerate the atoms in $F$ and we keep matching lists `P_lits` and `reified_P_lits`\n",
    "that will facilitate later the compilation process"
   ]
  },
  {
   "cell_type": "code",
   "execution_count": 19,
   "metadata": {
    "pycharm": {
     "is_executing": false,
     "name": "#%%\n"
    }
   },
   "outputs": [],
   "source": [
    "P_lits = []\n",
    "reified_P_lits = []\n",
    "for atom_index, atoms in lpvariables.enumerate():\n",
    "    f_atom = Atom(atoms.symbol, atoms.binding)\n",
    "    fp_lit = f_atom\n",
    "    fn_lit = neg(f_atom)\n",
    "    P_lits += [fp_lit, fn_lit]\n",
    "    reified_P_lits += [KP_lang.constant(str(fp_lit), p_lits), KP_lang.constant(str(fn_lit), p_lits)]"
   ]
  },
  {
   "cell_type": "markdown",
   "metadata": {
    "pycharm": {
     "name": "#%% md\n"
    }
   },
   "source": [
    "so we end up, for every pair of literals $L$, $\\neg L$, with _objects_ \"$L$\" and\n",
    "\"$\\neg l$\". To obtain $F'$ we need to add a new predicate"
   ]
  },
  {
   "cell_type": "code",
   "execution_count": 20,
   "metadata": {
    "pycharm": {
     "is_executing": false,
     "name": "#%%\n"
    }
   },
   "outputs": [],
   "source": [
    "K = KP_lang.predicate(\"K\", p_lits)"
   ]
  },
  {
   "cell_type": "markdown",
   "metadata": {
    "pycharm": {
     "name": "#%% md\n"
    }
   },
   "source": [
    "from which we can easily define the $KL$, $K\\negL$, $\\neg K L$ \n",
    "and $\\neg K \\neg L$ literals"
   ]
  },
  {
   "cell_type": "code",
   "execution_count": 21,
   "metadata": {
    "pycharm": {
     "is_executing": false,
     "name": "#%%\n"
    }
   },
   "outputs": [
    {
     "data": {
      "text/plain": "K(clear(c))"
     },
     "metadata": {},
     "output_type": "execute_result",
     "execution_count": 21
    }
   ],
   "source": [
    "K(reified_P_lits[0])"
   ]
  },
  {
   "cell_type": "code",
   "execution_count": 22,
   "metadata": {
    "pycharm": {
     "is_executing": false,
     "name": "#%%\n"
    }
   },
   "outputs": [
    {
     "data": {
      "text/plain": "(not K(clear(c)))"
     },
     "metadata": {},
     "output_type": "execute_result",
     "execution_count": 22
    }
   ],
   "source": [
    "neg(K(reified_P_lits[0]))"
   ]
  },
  {
   "cell_type": "code",
   "execution_count": 23,
   "metadata": {
    "pycharm": {
     "is_executing": false,
     "name": "#%%\n"
    }
   },
   "outputs": [
    {
     "data": {
      "text/plain": "K((not clear(c)))"
     },
     "metadata": {},
     "output_type": "execute_result",
     "execution_count": 23
    }
   ],
   "source": [
    "K(reified_P_lits[1])"
   ]
  },
  {
   "cell_type": "code",
   "execution_count": 24,
   "metadata": {
    "pycharm": {
     "is_executing": false,
     "name": "#%%\n"
    }
   },
   "outputs": [
    {
     "data": {
      "text/plain": "(not K((not clear(c))))"
     },
     "metadata": {},
     "output_type": "execute_result",
     "execution_count": 24
    }
   ],
   "source": [
    "neg(K(reified_P_lits[1]))"
   ]
  },
  {
   "cell_type": "markdown",
   "metadata": {
    "pycharm": {
     "is_executing": false,
     "name": "#%% md\n"
    }
   },
   "source": [
    "### Excursion: Inspecting grounded initial states\n",
    "\n",
    "We go on a little excursion to show how we can enumerate the literals that\n",
    "are true in the initial state of a grounded STRIPS problem. First, we need\n",
    "to select what algorithm we want to use to evaluate expressions"
   ]
  },
  {
   "cell_type": "code",
   "execution_count": 25,
   "metadata": {
    "pycharm": {
     "is_executing": false,
     "name": "#%%\n"
    }
   },
   "outputs": [],
   "source": [
    "reader.problem.init.evaluator = tarski.evaluators.simple.evaluate"
   ]
  },
  {
   "cell_type": "markdown",
   "metadata": {
    "pycharm": {
     "name": "#%% md\n"
    }
   },
   "source": [
    "The `simple` evaluator is a straightforward depth-first traversal that processes \n",
    " each of the nodes of the tree formed by the syntactic elements of the expression \n",
    " to be evaluated, returning either a expression or a value.\n",
    "\n",
    "Once the evaluator algorithm is selected, we can use the random access iterator\n",
    "to evaluate expressions as we do below"
   ]
  },
  {
   "cell_type": "code",
   "execution_count": 26,
   "metadata": {
    "pycharm": {
     "is_executing": false,
     "name": "#%%\n"
    }
   },
   "outputs": [],
   "source": [
    "I = []\n",
    "for atom_index, atoms in lpvariables.enumerate():\n",
    "    atom = Atom(atoms.symbol, atoms.binding)\n",
    "    if reader.problem.init[atom]:\n",
    "        I += [atom]\n",
    "    else:\n",
    "        I += [neg(atom)]"
   ]
  },
  {
   "cell_type": "markdown",
   "metadata": {
    "pycharm": {
     "is_executing": false,
     "name": "#%% md\n"
    }
   },
   "source": [
    " to obtain the list of literals true in the initial state."
   ]
  },
  {
   "cell_type": "code",
   "execution_count": 27,
   "metadata": {
    "pycharm": {
     "is_executing": false,
     "name": "#%%\n"
    }
   },
   "outputs": [
    {
     "name": "stdout",
     "text": [
      "clear(c)\n",
      "clear(d)\n",
      "clear(a)\n",
      "(not clear(b))\n",
      "(not holding(c))\n",
      "(not holding(d))\n",
      "(not holding(a))\n",
      "(not holding(b))\n",
      "(not ontable(c))\n",
      "ontable(d)\n",
      "ontable(a)\n",
      "ontable(b)\n",
      "(not on(b,d))\n",
      "(not on(a,b))\n",
      "(not on(b,b))\n",
      "(not on(a,c))\n",
      "(not on(c,d))\n",
      "(not on(a,a))\n",
      "(not on(c,a))\n",
      "(not on(d,a))\n",
      "(not on(a,d))\n",
      "(not on(d,b))\n",
      "on(c,b)\n",
      "(not on(b,c))\n",
      "(not on(d,d))\n",
      "(not on(d,c))\n",
      "(not on(b,a))\n",
      "(not on(c,c))\n",
      "handempty()\n"
     ],
     "output_type": "stream"
    }
   ],
   "source": [
    "for p in I:\n",
    "    print(p)\n"
   ]
  },
  {
   "cell_type": "markdown",
   "metadata": {
    "pycharm": {
     "is_executing": false,
     "name": "#%% md\n"
    }
   },
   "source": [
    "### Constructing the initial state $I'$\n",
    "\n",
    "For the purpose of this tutorial, we will consider a quite difficult conformant\n",
    "problem, where the only information we have initially is that the robot hand is empty.\n",
    "\n",
    "In order to construct that initial state, we need to access the relevant predicate and\n",
    "object symbols "
   ]
  },
  {
   "cell_type": "code",
   "execution_count": 28,
   "metadata": {
    "pycharm": {
     "is_executing": false,
     "name": "#%%\n"
    }
   },
   "outputs": [],
   "source": [
    "handempty = reader.problem.language.get('handempty')\n",
    "holding = reader.problem.language.get('holding')\n",
    "a, b, c, d = reader.problem.language.get('a', 'b', 'c', 'd')"
   ]
  },
  {
   "cell_type": "markdown",
   "metadata": {
    "pycharm": {
     "name": "#%% md\n"
    }
   },
   "source": [
    "so we can write directly the literals corresponding to the specification above."
   ]
  },
  {
   "cell_type": "code",
   "execution_count": 29,
   "metadata": {
    "pycharm": {
     "is_executing": false,
     "name": "#%%\n"
    }
   },
   "outputs": [],
   "source": [
    "I = [handempty(), neg(holding(a)), neg(holding(b)), neg(holding(c)), neg(holding(d))]"
   ]
  },
  {
   "cell_type": "markdown",
   "metadata": {
    "pycharm": {
     "is_executing": false,
     "name": "#%% md\n"
    }
   },
   "source": [
    "We obtain $I'$ by first computing the set of literals of the original conformant\n",
    "problem $P$ that are unit clauses"
   ]
  },
  {
   "cell_type": "code",
   "execution_count": 30,
   "metadata": {
    "pycharm": {
     "is_executing": false,
     "name": "#%%\n"
    }
   },
   "outputs": [],
   "source": [
    "unit_clauses = set()\n",
    "K_I = []\n",
    "for l0 in I:\n",
    "    p_l0 = KP_lang.get(str(l0))\n",
    "    K_I += [K(p_l0)]\n",
    "    unit_clauses.add(symref(l0))"
   ]
  },
  {
   "cell_type": "markdown",
   "metadata": {
    "pycharm": {
     "name": "#%% md\n"
    }
   },
   "source": [
    "We use the set `unit_clauses` to then determine which $\\neg K L$ and $\\neg K \\neg L$\n",
    "fluents we need to have in our initial state as well"
   ]
  },
  {
   "cell_type": "code",
   "execution_count": 31,
   "metadata": {
    "pycharm": {
     "is_executing": false,
     "name": "#%%    \n"
    }
   },
   "outputs": [],
   "source": [
    "for atom_index, atoms in lpvariables.enumerate():\n",
    "    lp = Atom(atoms.symbol, atoms.binding)\n",
    "    p_lp = KP_lang.get(str(lp))\n",
    "    ln = neg(lp)\n",
    "    p_ln = KP_lang.get(str(ln))\n",
    "    if lp not in unit_clauses:\n",
    "        K_I += [neg(K(p_lp))]\n",
    "    if ln not in unit_clauses:\n",
    "        K_I += [neg(K(p_ln))]"
   ]
  },
  {
   "cell_type": "code",
   "execution_count": 32,
   "metadata": {
    "pycharm": {
     "is_executing": false,
     "name": "#%%\n"
    }
   },
   "outputs": [
    {
     "name": "stdout",
     "text": [
      "K(handempty())\n",
      "K((not holding(a)))\n",
      "K((not holding(b)))\n",
      "K((not holding(c)))\n",
      "K((not holding(d)))\n",
      "(not K(clear(c)))\n",
      "(not K((not clear(c))))\n",
      "(not K(clear(d)))\n",
      "(not K((not clear(d))))\n",
      "(not K(clear(a)))\n",
      "(not K((not clear(a))))\n",
      "(not K(clear(b)))\n",
      "(not K((not clear(b))))\n",
      "(not K(holding(c)))\n",
      "(not K((not holding(c))))\n",
      "(not K(holding(d)))\n",
      "(not K((not holding(d))))\n",
      "(not K(holding(a)))\n",
      "(not K((not holding(a))))\n",
      "(not K(holding(b)))\n",
      "(not K((not holding(b))))\n",
      "(not K(ontable(c)))\n",
      "(not K((not ontable(c))))\n",
      "(not K(ontable(d)))\n",
      "(not K((not ontable(d))))\n",
      "(not K(ontable(a)))\n",
      "(not K((not ontable(a))))\n",
      "(not K(ontable(b)))\n",
      "(not K((not ontable(b))))\n",
      "(not K(on(b,d)))\n",
      "(not K((not on(b,d))))\n",
      "(not K(on(a,b)))\n",
      "(not K((not on(a,b))))\n",
      "(not K(on(b,b)))\n",
      "(not K((not on(b,b))))\n",
      "(not K(on(a,c)))\n",
      "(not K((not on(a,c))))\n",
      "(not K(on(c,d)))\n",
      "(not K((not on(c,d))))\n",
      "(not K(on(a,a)))\n",
      "(not K((not on(a,a))))\n",
      "(not K(on(c,a)))\n",
      "(not K((not on(c,a))))\n",
      "(not K(on(d,a)))\n",
      "(not K((not on(d,a))))\n",
      "(not K(on(a,d)))\n",
      "(not K((not on(a,d))))\n",
      "(not K(on(d,b)))\n",
      "(not K((not on(d,b))))\n",
      "(not K(on(c,b)))\n",
      "(not K((not on(c,b))))\n",
      "(not K(on(b,c)))\n",
      "(not K((not on(b,c))))\n",
      "(not K(on(d,d)))\n",
      "(not K((not on(d,d))))\n",
      "(not K(on(d,c)))\n",
      "(not K((not on(d,c))))\n",
      "(not K(on(b,a)))\n",
      "(not K((not on(b,a))))\n",
      "(not K(on(c,c)))\n",
      "(not K((not on(c,c))))\n",
      "(not K(handempty()))\n",
      "(not K((not handempty())))\n"
     ],
     "output_type": "stream"
    }
   ],
   "source": [
    "for k_p in K_I:\n",
    "    print(k_p)"
   ]
  },
  {
   "cell_type": "markdown",
   "metadata": {
    "pycharm": {
     "name": "#%% md\n"
    }
   },
   "source": [
    "### Constructing the goal state $G'$\n",
    "\n",
    "Constructing the goal state proceeds very much as for initial states, but \n",
    "way simpler, as we do not need to complete with the logical implications of\n",
    "literals as we do for initial states"
   ]
  },
  {
   "cell_type": "code",
   "execution_count": 33,
   "metadata": {
    "pycharm": {
     "is_executing": false,
     "name": "#%%\n"
    }
   },
   "outputs": [],
   "source": [
    "on, ontable = reader.problem.language.get('on', 'ontable')\n",
    "G = [clear(a), on(a, b), on(b, c), on(c, d), ontable(d)]"
   ]
  },
  {
   "cell_type": "code",
   "execution_count": 34,
   "metadata": {
    "pycharm": {
     "is_executing": false,
     "name": "#%%\n"
    }
   },
   "outputs": [],
   "source": [
    "K_G = []\n",
    "for l_G in G:\n",
    "    p_l_G = KP_lang.get(str(l_G))\n",
    "    K_G += [K(p_l_G)]"
   ]
  },
  {
   "cell_type": "markdown",
   "metadata": {
    "pycharm": {
     "name": "#%% md\n"
    }
   },
   "source": [
    "### Constructing the action set $O'$\n",
    "\n",
    "Constructing the set of operators is a bit more involved. We start importing\n",
    "a helper function, `ground_schema`, that instantiates action schemas as per the\n",
    "given variable binding."
   ]
  },
  {
   "cell_type": "code",
   "execution_count": 35,
   "metadata": {
    "pycharm": {
     "is_executing": false,
     "name": "#%%\n"
    }
   },
   "outputs": [],
   "source": [
    "from tarski.syntax.transform.action_grounding import ground_schema"
   ]
  },
  {
   "cell_type": "markdown",
   "metadata": {
    "pycharm": {
     "name": "#%% md\n"
    }
   },
   "source": [
    "We use the same interface discussed above, to get access to the set of bindings\n",
    "identified by the grounding procedure, and just call the helper function on the\n",
    "schemata and the bindings."
   ]
  },
  {
   "cell_type": "code",
   "execution_count": 36,
   "metadata": {
    "pycharm": {
     "is_executing": false,
     "name": "#%%\n"
    }
   },
   "outputs": [
    {
     "name": "stdout",
     "text": [
      "Action schema pick-up got 4 ground actions\n",
      "[?x (object)]\n",
      "pick-up(c)()\n",
      "(clear(c) and ontable(c) and handempty()) [(T -> DEL(ontable(c))), (T -> DEL(clear(c))), (T -> DEL(handempty())), (T -> ADD(holding(c)))]\n",
      "pick-up(d)()\n",
      "(clear(d) and ontable(d) and handempty()) [(T -> DEL(ontable(d))), (T -> DEL(clear(d))), (T -> DEL(handempty())), (T -> ADD(holding(d)))]\n",
      "pick-up(a)()\n",
      "(clear(a) and ontable(a) and handempty()) [(T -> DEL(ontable(a))), (T -> DEL(clear(a))), (T -> DEL(handempty())), (T -> ADD(holding(a)))]\n",
      "pick-up(b)()\n",
      "(clear(b) and ontable(b) and handempty()) [(T -> DEL(ontable(b))), (T -> DEL(clear(b))), (T -> DEL(handempty())), (T -> ADD(holding(b)))]\n",
      "Action schema put-down got 4 ground actions\n",
      "[?x (object)]\n",
      "put-down(c)()\n",
      "holding(c) [(T -> DEL(holding(c))), (T -> ADD(clear(c))), (T -> ADD(handempty())), (T -> ADD(ontable(c)))]\n",
      "put-down(d)()\n",
      "holding(d) [(T -> DEL(holding(d))), (T -> ADD(clear(d))), (T -> ADD(handempty())), (T -> ADD(ontable(d)))]\n",
      "put-down(a)()\n",
      "holding(a) [(T -> DEL(holding(a))), (T -> ADD(clear(a))), (T -> ADD(handempty())), (T -> ADD(ontable(a)))]\n",
      "put-down(b)()\n",
      "holding(b) [(T -> DEL(holding(b))), (T -> ADD(clear(b))), (T -> ADD(handempty())), (T -> ADD(ontable(b)))]\n",
      "Action schema stack got 16 ground actions\n",
      "[?x (object), ?y (object)]\n",
      "stack(b, d)()\n",
      "(holding(b) and clear(d)) [(T -> DEL(holding(b))), (T -> DEL(clear(d))), (T -> ADD(clear(b))), (T -> ADD(handempty())), (T -> ADD(on(b,d)))]\n",
      "stack(a, b)()\n",
      "(holding(a) and clear(b)) [(T -> DEL(holding(a))), (T -> DEL(clear(b))), (T -> ADD(clear(a))), (T -> ADD(handempty())), (T -> ADD(on(a,b)))]\n",
      "stack(b, b)()\n",
      "(holding(b) and clear(b)) [(T -> DEL(holding(b))), (T -> DEL(clear(b))), (T -> ADD(clear(b))), (T -> ADD(handempty())), (T -> ADD(on(b,b)))]\n",
      "stack(a, c)()\n",
      "(holding(a) and clear(c)) [(T -> DEL(holding(a))), (T -> DEL(clear(c))), (T -> ADD(clear(a))), (T -> ADD(handempty())), (T -> ADD(on(a,c)))]\n",
      "stack(c, d)()\n",
      "(holding(c) and clear(d)) [(T -> DEL(holding(c))), (T -> DEL(clear(d))), (T -> ADD(clear(c))), (T -> ADD(handempty())), (T -> ADD(on(c,d)))]\n",
      "stack(c, a)()\n",
      "(holding(c) and clear(a)) [(T -> DEL(holding(c))), (T -> DEL(clear(a))), (T -> ADD(clear(c))), (T -> ADD(handempty())), (T -> ADD(on(c,a)))]\n",
      "stack(a, d)()\n",
      "(holding(a) and clear(d)) [(T -> DEL(holding(a))), (T -> DEL(clear(d))), (T -> ADD(clear(a))), (T -> ADD(handempty())), (T -> ADD(on(a,d)))]\n",
      "stack(d, a)()\n",
      "(holding(d) and clear(a)) [(T -> DEL(holding(d))), (T -> DEL(clear(a))), (T -> ADD(clear(d))), (T -> ADD(handempty())), (T -> ADD(on(d,a)))]\n",
      "stack(d, b)()\n",
      "(holding(d) and clear(b)) [(T -> DEL(holding(d))), (T -> DEL(clear(b))), (T -> ADD(clear(d))), (T -> ADD(handempty())), (T -> ADD(on(d,b)))]\n",
      "stack(c, b)()\n",
      "(holding(c) and clear(b)) [(T -> DEL(holding(c))), (T -> DEL(clear(b))), (T -> ADD(clear(c))), (T -> ADD(handempty())), (T -> ADD(on(c,b)))]\n",
      "stack(b, c)()\n",
      "(holding(b) and clear(c)) [(T -> DEL(holding(b))), (T -> DEL(clear(c))), (T -> ADD(clear(b))), (T -> ADD(handempty())), (T -> ADD(on(b,c)))]\n",
      "stack(a, a)()\n",
      "(holding(a) and clear(a)) [(T -> DEL(holding(a))), (T -> DEL(clear(a))), (T -> ADD(clear(a))), (T -> ADD(handempty())), (T -> ADD(on(a,a)))]\n",
      "stack(d, c)()\n",
      "(holding(d) and clear(c)) [(T -> DEL(holding(d))), (T -> DEL(clear(c))), (T -> ADD(clear(d))), (T -> ADD(handempty())), (T -> ADD(on(d,c)))]\n",
      "stack(d, d)()\n",
      "(holding(d) and clear(d)) [(T -> DEL(holding(d))), (T -> DEL(clear(d))), (T -> ADD(clear(d))), (T -> ADD(handempty())), (T -> ADD(on(d,d)))]\n",
      "stack(b, a)()\n",
      "(holding(b) and clear(a)) [(T -> DEL(holding(b))), (T -> DEL(clear(a))), (T -> ADD(clear(b))), (T -> ADD(handempty())), (T -> ADD(on(b,a)))]\n",
      "stack(c, c)()\n",
      "(holding(c) and clear(c)) [(T -> DEL(holding(c))), (T -> DEL(clear(c))), (T -> ADD(clear(c))), (T -> ADD(handempty())), (T -> ADD(on(c,c)))]\n",
      "Action schema unstack got 16 ground actions\n",
      "[?x (object), ?y (object)]\n",
      "unstack(b, d)()\n",
      "(on(b,d) and clear(b) and handempty()) [(T -> ADD(holding(b))), (T -> ADD(clear(d))), (T -> DEL(clear(b))), (T -> DEL(handempty())), (T -> DEL(on(b,d)))]\n",
      "unstack(a, b)()\n",
      "(on(a,b) and clear(a) and handempty()) [(T -> ADD(holding(a))), (T -> ADD(clear(b))), (T -> DEL(clear(a))), (T -> DEL(handempty())), (T -> DEL(on(a,b)))]\n",
      "unstack(b, b)()\n",
      "(on(b,b) and clear(b) and handempty()) [(T -> ADD(holding(b))), (T -> ADD(clear(b))), (T -> DEL(clear(b))), (T -> DEL(handempty())), (T -> DEL(on(b,b)))]\n",
      "unstack(a, c)()\n",
      "(on(a,c) and clear(a) and handempty()) [(T -> ADD(holding(a))), (T -> ADD(clear(c))), (T -> DEL(clear(a))), (T -> DEL(handempty())), (T -> DEL(on(a,c)))]\n",
      "unstack(c, d)()\n",
      "(on(c,d) and clear(c) and handempty()) [(T -> ADD(holding(c))), (T -> ADD(clear(d))), (T -> DEL(clear(c))), (T -> DEL(handempty())), (T -> DEL(on(c,d)))]\n",
      "unstack(c, a)()\n",
      "(on(c,a) and clear(c) and handempty()) [(T -> ADD(holding(c))), (T -> ADD(clear(a))), (T -> DEL(clear(c))), (T -> DEL(handempty())), (T -> DEL(on(c,a)))]\n",
      "unstack(a, d)()\n",
      "(on(a,d) and clear(a) and handempty()) [(T -> ADD(holding(a))), (T -> ADD(clear(d))), (T -> DEL(clear(a))), (T -> DEL(handempty())), (T -> DEL(on(a,d)))]\n",
      "unstack(d, a)()\n",
      "(on(d,a) and clear(d) and handempty()) [(T -> ADD(holding(d))), (T -> ADD(clear(a))), (T -> DEL(clear(d))), (T -> DEL(handempty())), (T -> DEL(on(d,a)))]\n",
      "unstack(d, b)()\n",
      "(on(d,b) and clear(d) and handempty()) [(T -> ADD(holding(d))), (T -> ADD(clear(b))), (T -> DEL(clear(d))), (T -> DEL(handempty())), (T -> DEL(on(d,b)))]\n",
      "unstack(c, b)()\n",
      "(on(c,b) and clear(c) and handempty()) [(T -> ADD(holding(c))), (T -> ADD(clear(b))), (T -> DEL(clear(c))), (T -> DEL(handempty())), (T -> DEL(on(c,b)))]\n",
      "unstack(b, c)()\n",
      "(on(b,c) and clear(b) and handempty()) [(T -> ADD(holding(b))), (T -> ADD(clear(c))), (T -> DEL(clear(b))), (T -> DEL(handempty())), (T -> DEL(on(b,c)))]\n",
      "unstack(a, a)()\n",
      "(on(a,a) and clear(a) and handempty()) [(T -> ADD(holding(a))), (T -> ADD(clear(a))), (T -> DEL(clear(a))), (T -> DEL(handempty())), (T -> DEL(on(a,a)))]\n",
      "unstack(d, c)()\n",
      "(on(d,c) and clear(d) and handempty()) [(T -> ADD(holding(d))), (T -> ADD(clear(c))), (T -> DEL(clear(d))), (T -> DEL(handempty())), (T -> DEL(on(d,c)))]\n",
      "unstack(d, d)()\n",
      "(on(d,d) and clear(d) and handempty()) [(T -> ADD(holding(d))), (T -> ADD(clear(d))), (T -> DEL(clear(d))), (T -> DEL(handempty())), (T -> DEL(on(d,d)))]\n",
      "unstack(b, a)()\n",
      "(on(b,a) and clear(b) and handempty()) [(T -> ADD(holding(b))), (T -> ADD(clear(a))), (T -> DEL(clear(b))), (T -> DEL(handempty())), (T -> DEL(on(b,a)))]\n",
      "unstack(c, c)()\n",
      "(on(c,c) and clear(c) and handempty()) [(T -> ADD(holding(c))), (T -> ADD(clear(c))), (T -> DEL(clear(c))), (T -> DEL(handempty())), (T -> DEL(on(c,c)))]\n"
     ],
     "output_type": "stream"
    }
   ],
   "source": [
    "O = []\n",
    "for name, ops in actions.items():\n",
    "    print('Action schema', name, 'got', len(ops), 'ground actions')\n",
    "    schema = reader.problem.get_action(name)\n",
    "    print(list(schema.parameters.vars()))\n",
    "    for op in ops:\n",
    "        ground_action = ground_schema(schema, op)\n",
    "        O += [ground_action]\n",
    "        print(ground_action)\n",
    "        print(ground_action.precondition, ground_action.effects)"
   ]
  },
  {
   "cell_type": "markdown",
   "metadata": {
    "pycharm": {
     "is_executing": false,
     "name": "#%% md\n"
    }
   },
   "source": [
    "Creating the precondition and effect formulas of the operators in $O'$ requires\n",
    "1) creating copies of a ground operator, 2) substitute formulas (i.e. wherever\n",
    "it says $L$ it needs to say $KL$) and 3) create new add and del effects for the\n",
    "new operators. "
   ]
  },
  {
   "cell_type": "code",
   "execution_count": 37,
   "metadata": {
    "pycharm": {
     "is_executing": false,
     "name": "#%%\n"
    }
   },
   "outputs": [],
   "source": [
    "import copy\n",
    "from tarski.syntax.transform.substitutions import substitute_subformula\n",
    "from tarski.fstrips import Action, AddEffect, DelEffect"
   ]
  },
  {
   "cell_type": "markdown",
   "metadata": {
    "pycharm": {
     "is_executing": false,
     "name": "#%% md\n"
    }
   },
   "source": [
    "We start creating a dictionary where we map literals $L$ to their corresponding\n",
    "$K$-literal"
   ]
  },
  {
   "cell_type": "code",
   "execution_count": 38,
   "metadata": {
    "pycharm": {
     "is_executing": false,
     "name": "#%%\n"
    }
   },
   "outputs": [],
   "source": [
    "subst = {}\n",
    "for p, Kp in zip(P_lits, [K(p) for p in reified_P_lits]):\n",
    "    subst[symref(p)] = Kp"
   ]
  },
  {
   "cell_type": "markdown",
   "metadata": {
    "pycharm": {
     "is_executing": false,
     "name": "#%% md\n"
    }
   },
   "source": [
    "note the role played by the two lists `P_lits` and `reified_P_lits` we created\n",
    "above.\n",
    "\n",
    "We note that any effect, the construction of the $KC$ and $KL$ **formulas** \n",
    "is always the same, so we introduce a function that does the translation"
   ]
  },
  {
   "cell_type": "code",
   "execution_count": 39,
   "metadata": {
    "pycharm": {
     "is_executing": false,
     "name": "#%%\n"
    }
   },
   "outputs": [],
   "source": [
    "def make_K_condition_and_effect(subst, eff, K_prec):\n",
    "    KC = [K_prec]\n",
    "    if not isinstance(eff.condition, Tautology):\n",
    "        KC += [substitute_subformula(copy.deepcopy(eff.condition), subst)]\n",
    "    KC = land(*KC)\n",
    "    KL = subst[symref(eff.atom)]\n",
    "    KnL = subst[symref(neg(eff.atom))]\n",
    "    \n",
    "    return KC, KL, KnL"
   ]
  },
  {
   "cell_type": "markdown",
   "metadata": {
    "pycharm": {
     "name": "#%% md\n"
    }
   },
   "source": [
    "We finally put together the substitution rule for the $P$-literals, and construct\n",
    "the new set of operators as follows"
   ]
  },
  {
   "cell_type": "code",
   "execution_count": 40,
   "metadata": {
    "pycharm": {
     "is_executing": false,
     "name": "#%%\n"
    }
   },
   "outputs": [],
   "source": [
    "K_O = []\n",
    "for op in O:\n",
    "    K_prec = substitute_subformula(copy.deepcopy(op.precondition), subst)\n",
    "    K_effs = []\n",
    "    for eff in op.effects:\n",
    "        KC, KL, KnL = make_K_condition_and_effect(subst, eff, K_prec)\n",
    "        if isinstance(eff, AddEffect):\n",
    "            K_effs += [AddEffect(KC, KL)]\n",
    "            K_effs += [DelEffect(KC, KnL)]\n",
    "        elif isinstance(eff, DelEffect):\n",
    "            K_effs += [DelEffect(KC, KL)]\n",
    "            K_effs += [AddEffect(KC, KnL)]\n",
    "        else:\n",
    "            raise RuntimeError(\"Effect type not supported by compilation!\")\n",
    "    K_O += [Action(KP_lang, op.name, VariableBinding(), K_prec, K_effs)]\n",
    "        \n"
   ]
  },
  {
   "cell_type": "code",
   "execution_count": 40,
   "metadata": {
    "pycharm": {
     "is_executing": false,
     "name": "#%%\n"
    }
   },
   "outputs": [],
   "source": [
    "\n"
   ]
  }
 ],
 "metadata": {
  "kernelspec": {
   "display_name": "Python 3",
   "language": "python",
   "name": "python3"
  },
  "language_info": {
   "codemirror_mode": {
    "name": "ipython",
    "version": 3
   },
   "file_extension": ".py",
   "mimetype": "text/x-python",
   "name": "python",
   "nbconvert_exporter": "python",
   "pygments_lexer": "ipython3",
   "version": "3.6.8"
  },
  "pycharm": {
   "stem_cell": {
    "cell_type": "raw",
    "source": [],
    "metadata": {
     "collapsed": false
    }
   }
  }
 },
 "nbformat": 4,
 "nbformat_minor": 1
}