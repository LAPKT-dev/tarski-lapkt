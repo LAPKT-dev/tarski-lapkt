{
 "cells": [
  {
   "cell_type": "code",
   "execution_count": 1,
   "metadata": {},
   "outputs": [],
   "source": [
    "import sys\n",
    "sys.path.append('../')"
   ]
  },
  {
   "cell_type": "markdown",
   "metadata": {},
   "source": [
    "**Note**: We follow in this tutorial A. G. Cohn's discussion of many-sorted logics in _Completing Sort Hierarchies_, Computers & Mathematics with Applications, 1992.\n",
    "\n",
    "## Sorts\n",
    "\n",
    "A many sorted logic is one in which the universe of discourse is divided into subsets, called *sorts*, rather than being an homogenous set. This is achieved by specifying $S$ a set of *sort symbols*, each of which denotes a non-empty set of the universe.\n",
    "\n",
    "Definining sorts in ```Tarski``` is straightforward, we start instantiating the first-order language"
   ]
  },
  {
   "cell_type": "code",
   "execution_count": 2,
   "metadata": {},
   "outputs": [],
   "source": [
    "import tarski"
   ]
  },
  {
   "cell_type": "code",
   "execution_count": 3,
   "metadata": {},
   "outputs": [],
   "source": [
    "fol = tarski.language()"
   ]
  },
  {
   "cell_type": "markdown",
   "metadata": {},
   "source": [
    "which will be acting as our facade to all things FOL."
   ]
  },
  {
   "cell_type": "markdown",
   "metadata": {},
   "source": [
    "In our model of _Blocks World_ we will consider two sorts, _block_ and _place_"
   ]
  },
  {
   "cell_type": "code",
   "execution_count": 4,
   "metadata": {
    "collapsed": true
   },
   "outputs": [],
   "source": [
    "block = fol.sort('block')"
   ]
  },
  {
   "cell_type": "code",
   "execution_count": 5,
   "metadata": {
    "collapsed": true
   },
   "outputs": [],
   "source": [
    "place = fol.sort('place')"
   ]
  },
  {
   "cell_type": "markdown",
   "metadata": {},
   "source": [
    "```Tarski``` allows to specify many sorted logics which only contemplate definitional hierarchies, hence sorts do not have _default_ symbols. Empty sorts are **not** allowed, and the ```well_formed``` method will raise an exception if a sort is found to be $\\emptyset$."
   ]
  },
  {
   "cell_type": "code",
   "execution_count": 6,
   "metadata": {},
   "outputs": [],
   "source": [
    "# uncomment the following line and execute this cell, you should get an exception of type LanguageError\n",
    "#fol.is_well_formed()"
   ]
  },
  {
   "cell_type": "markdown",
   "metadata": {},
   "source": [
    "### Providing sorts with content"
   ]
  },
  {
   "cell_type": "markdown",
   "metadata": {},
   "source": [
    "Sorts are made of _constant symbols_, the following statement"
   ]
  },
  {
   "cell_type": "code",
   "execution_count": 7,
   "metadata": {},
   "outputs": [],
   "source": [
    "b1 = fol.const('b1', block)"
   ]
  },
  {
   "cell_type": "markdown",
   "metadata": {},
   "source": [
    "introduces the constant symbol _'b1'_ into sort _block_, which we have declared above. A language can have several sorts, with their own constants"
   ]
  },
  {
   "cell_type": "code",
   "execution_count": 8,
   "metadata": {
    "collapsed": true
   },
   "outputs": [],
   "source": [
    "table = fol.const('table', place)"
   ]
  },
  {
   "cell_type": "markdown",
   "metadata": {},
   "source": [
    "We can declare a bunch of blocks easily too"
   ]
  },
  {
   "cell_type": "code",
   "execution_count": 9,
   "metadata": {},
   "outputs": [],
   "source": [
    "b2, b3 = fol.const( ('b_{}'.format(k) for k in (2,3)), block )"
   ]
  },
  {
   "cell_type": "markdown",
   "metadata": {},
   "source": [
    "by using a [generator expression](https://stackoverflow.com/questions/6416538/how-to-check-if-an-object-is-a-generator-object-in-python) to enumerate efficiently the names of the constants we want to introduce to sorts."
   ]
  },
  {
   "cell_type": "markdown",
   "metadata": {},
   "source": [
    "At any point, we can take a look at the contents of sorts declared"
   ]
  },
  {
   "cell_type": "code",
   "execution_count": 10,
   "metadata": {},
   "outputs": [
    {
     "data": {
      "text/plain": [
       "[{'domain': [-2147483647, 2147483647], 'name': 'Integer'},\n",
       " {'domain': ['b1', 'b_3', 'b_2'], 'name': 'block'},\n",
       " {'domain': [0, 4294967295], 'name': 'Natural'},\n",
       " {'domain': [-3.40282e+38, 3.40282e+38], 'name': 'Real'},\n",
       " {'domain': ['table'], 'name': 'place'}]"
      ]
     },
     "execution_count": 10,
     "metadata": {},
     "output_type": "execute_result"
    }
   ],
   "source": [
    "fol.dump()['sorts']"
   ]
  },
  {
   "cell_type": "markdown",
   "metadata": {},
   "source": [
    "as well as any _built-in_ sorts."
   ]
  },
  {
   "cell_type": "markdown",
   "metadata": {},
   "source": [
    "### Built-in sorts"
   ]
  },
  {
   "cell_type": "markdown",
   "metadata": {},
   "source": [
    "Every language created with ```Tarski``` contains a number of _built-in_ sorts that allow modellers to account for algebraic relations and geometric concepts without having to define everything from first principles. At the time of writing this, every ```Tarski``` language comes with the following built-in sorts\n",
    " \n",
    "  - ```Real``` - the set of real numbers $\\mathbb{R}$\n",
    "  - ```Integer``` - the set of integer numbers $\\mathbb{Z}$\n",
    "  - ```Natural``` - the set of natural numbers $\\mathbb{N}$\n",
    "  \n",
    "These are represented as closed _intervals_ will well defined _lower_ and _upper_ bounds (the numbers specified in the domain). We cannot introduce symbols into built-in sorts, but we can _refer_ to them with Python variables"
   ]
  },
  {
   "cell_type": "code",
   "execution_count": 11,
   "metadata": {},
   "outputs": [
    {
     "name": "stdout",
     "output_type": "stream",
     "text": [
      "3.0\n"
     ]
    }
   ],
   "source": [
    "x0 = fol.const( '3', 'Real' )\n",
    "print(x0)"
   ]
  },
  {
   "cell_type": "markdown",
   "metadata": {},
   "source": [
    "or"
   ]
  },
  {
   "cell_type": "code",
   "execution_count": 14,
   "metadata": {},
   "outputs": [
    {
     "name": "stdout",
     "output_type": "stream",
     "text": [
      "42\n"
     ]
    }
   ],
   "source": [
    "magic = fol.const( 42, 'Integer')\n",
    "print(magic)"
   ]
  },
  {
   "cell_type": "markdown",
   "metadata": {},
   "source": [
    "or even"
   ]
  },
  {
   "cell_type": "code",
   "execution_count": 12,
   "metadata": {},
   "outputs": [
    {
     "name": "stdout",
     "output_type": "stream",
     "text": [
      "3.141592653589793\n"
     ]
    }
   ],
   "source": [
    "pi = fol.const( 'pi', 'Real')\n",
    "print(pi)"
   ]
  },
  {
   "cell_type": "markdown",
   "metadata": {},
   "source": [
    "**TODO**: type hierarchy, issues with the hierarchy, etc."
   ]
  },
  {
   "cell_type": "code",
   "execution_count": null,
   "metadata": {
    "collapsed": true
   },
   "outputs": [],
   "source": []
  }
 ],
 "metadata": {
  "kernelspec": {
   "display_name": "Python 3",
   "language": "python",
   "name": "python3"
  },
  "language_info": {
   "codemirror_mode": {
    "name": "ipython",
    "version": 3
   },
   "file_extension": ".py",
   "mimetype": "text/x-python",
   "name": "python",
   "nbconvert_exporter": "python",
   "pygments_lexer": "ipython3",
   "version": "3.5.2"
  }
 },
 "nbformat": 4,
 "nbformat_minor": 2
}
