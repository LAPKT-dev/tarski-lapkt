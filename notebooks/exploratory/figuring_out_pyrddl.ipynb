{
 "cells": [
  {
   "cell_type": "code",
   "execution_count": 1,
   "metadata": {
    "collapsed": true
   },
   "outputs": [],
   "source": [
    "import sys\n",
    "sys.path = ['../../src'] + sys.path # this ensures the notebook uses the source version of Tarski"
   ]
  },
  {
   "cell_type": "code",
   "execution_count": 2,
   "metadata": {
    "collapsed": true
   },
   "outputs": [],
   "source": [
    "import pyrddl"
   ]
  },
  {
   "cell_type": "code",
   "execution_count": 3,
   "metadata": {},
   "outputs": [],
   "source": [
    "from tarski.io import rddl"
   ]
  },
  {
   "cell_type": "code",
   "execution_count": 6,
   "metadata": {},
   "outputs": [
    {
     "name": "stderr",
     "output_type": "stream",
     "text": [
      "WARNING: Token 'DOT' defined, but not used\n",
      "WARNING: Token 'QUESTION' defined, but not used\n",
      "WARNING: Token 'OBSERVATION' defined, but not used\n",
      "WARNING: Token 'TERMINAL' defined, but not used\n",
      "WARNING: Token 'DOLLAR_SIGN' defined, but not used\n",
      "WARNING: Token 'DERIVED_FLUENT' defined, but not used\n",
      "WARNING: Token 'MULTINOMIAL' defined, but not used\n",
      "WARNING: There are 7 unused tokens\n",
      "Generating LALR tables\n"
     ]
    }
   ],
   "source": [
    "mr_reader = rddl.Reader('../../tests/data/rddl/Mars_Rover.rddl')"
   ]
  },
  {
   "cell_type": "code",
   "execution_count": 7,
   "metadata": {},
   "outputs": [
    {
     "data": {
      "text/plain": [
       "<pyrddl.rddl.RDDL at 0x7fed5094f780>"
      ]
     },
     "execution_count": 7,
     "metadata": {},
     "output_type": "execute_result"
    }
   ],
   "source": [
    "mr_reader.rddl_model"
   ]
  },
  {
   "cell_type": "markdown",
   "metadata": {},
   "source": [
    "# RDDL Domains"
   ]
  },
  {
   "cell_type": "markdown",
   "metadata": {},
   "source": [
    "The name of the domain"
   ]
  },
  {
   "cell_type": "code",
   "execution_count": 9,
   "metadata": {},
   "outputs": [
    {
     "data": {
      "text/plain": [
       "'simple_mars_rover'"
      ]
     },
     "execution_count": 9,
     "metadata": {},
     "output_type": "execute_result"
    }
   ],
   "source": [
    "mr_reader.rddl_model.domain.name"
   ]
  },
  {
   "cell_type": "code",
   "execution_count": 10,
   "metadata": {
    "collapsed": true
   },
   "outputs": [],
   "source": [
    "domain = mr_reader.rddl_model.domain"
   ]
  },
  {
   "cell_type": "markdown",
   "metadata": {},
   "source": [
    "## Requirements"
   ]
  },
  {
   "cell_type": "code",
   "execution_count": 11,
   "metadata": {},
   "outputs": [
    {
     "name": "stdout",
     "output_type": "stream",
     "text": [
      "concurrent\n",
      "reward-deterministic\n",
      "intermediate-nodes\n",
      "constrained-state\n"
     ]
    }
   ],
   "source": [
    "for req in domain.requirements:\n",
    "    print(req)"
   ]
  },
  {
   "cell_type": "markdown",
   "metadata": {},
   "source": [
    "As described [here](http://users.cecs.anu.edu.au/~ssanner/IPPC_2011/RDDL.pdf) these requirements mean:\n",
    "\n",
    " - ```concurrent``` - Multiple actions can be executed at a given time step.\n",
    " - ```reward-deterministic``` - The rewards are deterministic.\n",
    " - ```intermediate-nodes``` - The domain uses _intermediate pvariable nodes_. These are defined with the ```interm-fluent``` keyword and they're stratified. This is the device used by RDDL to ensure that the transition function is well defined, as these intermediate variables have their values defined in terms of state variables (which have a level of stratification of 0).\n",
    " - ```constrained-state``` - The domain uses _domain constraints_."
   ]
  },
  {
   "cell_type": "markdown",
   "metadata": {},
   "source": [
    "## Types\n",
    "\n",
    "We can access the types defined in the domain via the ```types``` attribute"
   ]
  },
  {
   "cell_type": "code",
   "execution_count": 22,
   "metadata": {},
   "outputs": [
    {
     "name": "stdout",
     "output_type": "stream",
     "text": [
      "[('picture-point', 'object')]\n"
     ]
    }
   ],
   "source": [
    "print(domain.types)"
   ]
  },
  {
   "cell_type": "markdown",
   "metadata": {},
   "source": [
    "a list of pairs of _type names_ and its parent type (or sort in Tarski's terms). The [set of built-in types](http://users.cecs.anu.edu.au/~ssanner/IPPC_2011/RDDL.pdf) in RDDL are:\n",
    "\n",
    " - ```object``` - an arbitrary set of names, it has no domain. Equivalent to Tarski's built-in ```Object``` sort.\n",
    " - ```@XXX``` - an _enumerated type_, a subset of ```object```. These types are pretty much equivalent to Tarski's ```sort``` that have ```Object``` as a parent."
   ]
  },
  {
   "cell_type": "markdown",
   "metadata": {},
   "source": [
    "## Variables\n",
    "\n",
    "RDDL variables map into FSTRIPS terms and (non-built in) atoms. Let's take a look at them:"
   ]
  },
  {
   "cell_type": "markdown",
   "metadata": {},
   "source": [
    "### Non-Fluents\n",
    "\n",
    "Non-fluent variables correspond to static terms and atoms. In the case of the Mars Rover domain we're using in this example, these are"
   ]
  },
  {
   "cell_type": "code",
   "execution_count": 21,
   "metadata": {},
   "outputs": [
    {
     "name": "stdout",
     "output_type": "stream",
     "text": [
      "Symbol: MAX_TIME/0 Signature: ('real',)\n",
      "Symbol: PICT_VALUE/1 Signature: ('picture-point', 'real')\n",
      "Symbol: MOVE_VARIANCE_MULT/0 Signature: ('real',)\n",
      "Symbol: PICT_ERROR_ALLOW/1 Signature: ('picture-point', 'real')\n",
      "Symbol: PICT_XPOS/1 Signature: ('picture-point', 'real')\n",
      "Symbol: PICT_YPOS/1 Signature: ('picture-point', 'real')\n"
     ]
    }
   ],
   "source": [
    "constants = domain.non_fluents\n",
    "for k, v in constants.items():\n",
    "    #print(v.range)\n",
    "    #print(v.param_types)\n",
    "    params = []\n",
    "    if v.param_types is not None:\n",
    "        params = v.param_types\n",
    "    signature = tuple(params + [v.range])\n",
    "    print('Symbol: {} Signature: {}'.format(k, signature))"
   ]
  },
  {
   "cell_type": "markdown",
   "metadata": {},
   "source": [
    "Worth noting:\n",
    " - the ```param_types``` attribute is None when the domain of the term is the empty set"
   ]
  },
  {
   "cell_type": "code",
   "execution_count": null,
   "metadata": {
    "collapsed": true
   },
   "outputs": [],
   "source": []
  }
 ],
 "metadata": {
  "kernelspec": {
   "display_name": "Python 3",
   "language": "python",
   "name": "python3"
  },
  "language_info": {
   "codemirror_mode": {
    "name": "ipython",
    "version": 3
   },
   "file_extension": ".py",
   "mimetype": "text/x-python",
   "name": "python",
   "nbconvert_exporter": "python",
   "pygments_lexer": "ipython3",
   "version": "3.5.2"
  }
 },
 "nbformat": 4,
 "nbformat_minor": 2
}
