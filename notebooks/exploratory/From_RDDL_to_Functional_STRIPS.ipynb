{
 "cells": [
  {
   "cell_type": "code",
   "execution_count": 1,
   "metadata": {},
   "outputs": [],
   "source": [
    "import sys\n",
    "sys.path = ['../../src'] + sys.path # this ensures the notebook uses the source version of Tarski"
   ]
  },
  {
   "cell_type": "code",
   "execution_count": 2,
   "metadata": {},
   "outputs": [],
   "source": [
    "import pyrddl"
   ]
  },
  {
   "cell_type": "code",
   "execution_count": 3,
   "metadata": {},
   "outputs": [],
   "source": [
    "from tarski.io import rddl"
   ]
  },
  {
   "cell_type": "code",
   "execution_count": 4,
   "metadata": {},
   "outputs": [],
   "source": [
    "mr_reader = rddl.Reader('../../tests/data/rddl/Mars_Rover.rddl')"
   ]
  },
  {
   "cell_type": "code",
   "execution_count": 5,
   "metadata": {},
   "outputs": [
    {
     "data": {
      "text/plain": [
       "<pyrddl.rddl.RDDL at 0x7fca8a226be0>"
      ]
     },
     "execution_count": 5,
     "metadata": {},
     "output_type": "execute_result"
    }
   ],
   "source": [
    "mr_reader.rddl_model"
   ]
  },
  {
   "cell_type": "markdown",
   "metadata": {},
   "source": [
    "# RDDL Domains"
   ]
  },
  {
   "cell_type": "markdown",
   "metadata": {},
   "source": [
    "The name of the domain"
   ]
  },
  {
   "cell_type": "code",
   "execution_count": 6,
   "metadata": {},
   "outputs": [
    {
     "data": {
      "text/plain": [
       "'simple_mars_rover'"
      ]
     },
     "execution_count": 6,
     "metadata": {},
     "output_type": "execute_result"
    }
   ],
   "source": [
    "mr_reader.rddl_model.domain.name"
   ]
  },
  {
   "cell_type": "code",
   "execution_count": 7,
   "metadata": {},
   "outputs": [],
   "source": [
    "domain = mr_reader.rddl_model.domain\n",
    "instance = mr_reader.rddl_model.instance"
   ]
  },
  {
   "cell_type": "markdown",
   "metadata": {},
   "source": [
    "## Requirements"
   ]
  },
  {
   "cell_type": "code",
   "execution_count": 8,
   "metadata": {},
   "outputs": [
    {
     "name": "stdout",
     "output_type": "stream",
     "text": [
      "concurrent\n",
      "reward-deterministic\n",
      "intermediate-nodes\n",
      "constrained-state\n"
     ]
    }
   ],
   "source": [
    "for req in domain.requirements:\n",
    "    print(req)"
   ]
  },
  {
   "cell_type": "markdown",
   "metadata": {},
   "source": [
    "As described [here](http://users.cecs.anu.edu.au/~ssanner/IPPC_2011/RDDL.pdf) these requirements mean:\n",
    "\n",
    " - ```concurrent``` - Multiple actions can be executed at a given time step.\n",
    " - ```reward-deterministic``` - The rewards are deterministic.\n",
    " - ```intermediate-nodes``` - The domain uses _intermediate pvariable nodes_. These are defined with the ```interm-fluent``` keyword and they're stratified. This is the device used by RDDL to ensure that the transition function is well defined, as these intermediate variables have their values defined in terms of state variables (which have a level of stratification of 0).\n",
    " - ```constrained-state``` - The domain uses _state constraints_."
   ]
  },
  {
   "cell_type": "markdown",
   "metadata": {},
   "source": [
    "## Types\n",
    "\n",
    "We can access the types defined in the domain via the ```types``` attribute"
   ]
  },
  {
   "cell_type": "code",
   "execution_count": 9,
   "metadata": {},
   "outputs": [
    {
     "name": "stdout",
     "output_type": "stream",
     "text": [
      "[('picture-point', 'object')]\n"
     ]
    }
   ],
   "source": [
    "print(domain.types)"
   ]
  },
  {
   "cell_type": "markdown",
   "metadata": {},
   "source": [
    "a list of pairs of _type names_ and its parent type (or sort in Tarski's terms). The [set of built-in types](http://users.cecs.anu.edu.au/~ssanner/IPPC_2011/RDDL.pdf) in RDDL are:\n",
    "\n",
    " - ```object``` - an arbitrary set of names, it has no domain. Equivalent to Tarski's built-in ```Object``` sort.\n",
    " - ```real``` - the real numbers.\n",
    " - ```integer``` - the integer numbers. Using this type is enabled by the requirements ```integer-variables```.\n",
    " - ```bool``` - Boolean value of $\\top$ or $\\bot$.\n",
    " \n",
    "Non-built in types are specializations of ```object``` as is the case of ```picture-point``` above, and correspond directly with user-defined Tarski sorts."
   ]
  },
  {
   "cell_type": "markdown",
   "metadata": {},
   "source": [
    "## Variables\n",
    "\n",
    "RDDL variables map into FSTRIPS terms and (non-built in) atoms. Let's take a look at them:"
   ]
  },
  {
   "cell_type": "markdown",
   "metadata": {},
   "source": [
    "### Non-Fluents\n",
    "\n",
    "Non-fluent variables correspond to static terms and atoms. In the case of the Mars Rover domain we're using in this example, these are"
   ]
  },
  {
   "cell_type": "code",
   "execution_count": 10,
   "metadata": {},
   "outputs": [
    {
     "name": "stdout",
     "output_type": "stream",
     "text": [
      "Symbol: MAX_TIME/0 Signature: ('real',)\n",
      "Symbol: MOVE_VARIANCE_MULT/0 Signature: ('real',)\n",
      "Symbol: PICT_XPOS/1 Signature: ('picture-point', 'real')\n",
      "Symbol: PICT_YPOS/1 Signature: ('picture-point', 'real')\n",
      "Symbol: PICT_VALUE/1 Signature: ('picture-point', 'real')\n",
      "Symbol: PICT_ERROR_ALLOW/1 Signature: ('picture-point', 'real')\n"
     ]
    }
   ],
   "source": [
    "non_fluent_terms = domain.non_fluents\n",
    "for k, v in constants.items():\n",
    "    params = []\n",
    "    if v.param_types is not None:\n",
    "        params = v.param_types\n",
    "    signature = tuple(params + [v.range])\n",
    "    print('Symbol: {} Signature: {}'.format(k, signature))"
   ]
  },
  {
   "cell_type": "markdown",
   "metadata": {},
   "source": [
    "Worth noting:\n",
    " - the ```param_types``` attribute is None when the domain of the term is the empty set\n",
    " \n",
    "Associated to the RDDL instance we can find the specification of the domains of custom defined types and the actual values initially set to the set of non-fluent terms."
   ]
  },
  {
   "cell_type": "code",
   "execution_count": 11,
   "metadata": {},
   "outputs": [
    {
     "name": "stdout",
     "output_type": "stream",
     "text": [
      "pics3\n"
     ]
    }
   ],
   "source": [
    "print(instance.non_fluents)"
   ]
  },
  {
   "cell_type": "markdown",
   "metadata": {},
   "source": [
    "Rather than an object, ```pyrddl.Instance``` objects attribute ```non_fluents``` is the name of the syntactic block used to group constant declarations. The actual object is actually part of the full RDDL model specification "
   ]
  },
  {
   "cell_type": "code",
   "execution_count": null,
   "metadata": {},
   "outputs": [],
   "source": [
    "constant_symbol_def = mr_reader.rddl_model.non_fluents"
   ]
  },
  {
   "cell_type": "markdown",
   "metadata": {},
   "source": [
    "The specification of the domains of any custom types can be found on the attribute ```objects```"
   ]
  },
  {
   "cell_type": "code",
   "execution_count": 22,
   "metadata": {},
   "outputs": [
    {
     "name": "stdout",
     "output_type": "stream",
     "text": [
      "[('picture-point', ['p1', 'p2', 'p3'])]\n"
     ]
    }
   ],
   "source": [
    "print(constant_symbols_def.objects)"
   ]
  },
  {
   "cell_type": "markdown",
   "metadata": {},
   "source": [
    "and the definitions of the constant fluents are given in the list of fluent initializers ```init_non_fluent```. These consist of pairs of variable-free terms and values."
   ]
  },
  {
   "cell_type": "code",
   "execution_count": 23,
   "metadata": {},
   "outputs": [
    {
     "name": "stdout",
     "output_type": "stream",
     "text": [
      "[(('MAX_TIME', None), 12.0), (('MOVE_VARIANCE_MULT', None), 0.1), (('PICT_XPOS', ['p1']), 1.0), (('PICT_YPOS', ['p1']), -1.0), (('PICT_VALUE', ['p1']), 5.0), (('PICT_ERROR_ALLOW', ['p1']), 2), (('PICT_XPOS', ['p2']), 1.0), (('PICT_YPOS', ['p2']), 1.0), (('PICT_VALUE', ['p2']), 10.0), (('PICT_ERROR_ALLOW', ['p2']), 0.2), (('PICT_XPOS', ['p3']), 2.0), (('PICT_YPOS', ['p3']), -1.0), (('PICT_VALUE', ['p3']), 7.0), (('PICT_ERROR_ALLOW', ['p3']), 1.5)]\n"
     ]
    }
   ],
   "source": [
    "print(constant_symbol_def.init_non_fluent)"
   ]
  },
  {
   "cell_type": "markdown",
   "metadata": {},
   "source": [
    "### State and Intermediate Fluents\n",
    "\n",
    "Quantities that vary over time are represented with state and intermediate fluents. The former map directly to the notion of _state variables_ as defined by [Frances and Geffner (2015)](http://www.dtic.upf.edu/~hgeffner/guillem-icaps-2015.pdf). The latter has come up in the planning literature in a number of different ways, such as _derived predicates_ (see [Hoffman and Edelkamp (2006)](https://courses.cs.washington.edu/courses/cse473/06sp/pddl2.2.pdf) for a formulation specific to ground atomic predicates) or _correlated effects_ (see [Littmann (1997)](http://www.aaai.org/Papers/AAAI/1997/AAAI97-116.pdf) for a discussion in the context of probabilistic planning)."
   ]
  },
  {
   "cell_type": "code",
   "execution_count": 13,
   "metadata": {},
   "outputs": [
    {
     "name": "stdout",
     "output_type": "stream",
     "text": [
      "Symbol: xPos/0 Signature: ('real',)\n",
      "Symbol: yPos/0 Signature: ('real',)\n",
      "Symbol: time/0 Signature: ('real',)\n",
      "Symbol: picTaken/1 Signature: ('picture-point', 'bool')\n"
     ]
    }
   ],
   "source": [
    "state_vars = domain.state_fluents\n",
    "\n",
    "for k,v in state_vars.items():\n",
    "    params = []\n",
    "    if v.param_types is not None:\n",
    "        params = v.param_types\n",
    "    signature = tuple(params + [v.range])\n",
    "    print('Symbol: {} Signature: {}'.format(k, signature))"
   ]
  },
  {
   "cell_type": "code",
   "execution_count": 14,
   "metadata": {},
   "outputs": [],
   "source": [
    "interm_vars = domain.intermediate_fluents\n",
    "\n",
    "for k,v in interm_vars.items():\n",
    "    params = []\n",
    "    if v.param_types is not None:\n",
    "        params = v.param_types\n",
    "    signature = tuple(params + [v.range])\n",
    "    print('Symbol: {} Signature: {}'.format(k, signature))"
   ]
  },
  {
   "cell_type": "markdown",
   "metadata": {},
   "source": [
    "### Action Fluents"
   ]
  },
  {
   "cell_type": "markdown",
   "metadata": {
    "collapsed": true
   },
   "source": [
    "RDDL defines actions differently from most \"traditional\" planning languages, adopting an approach which resembles the standard approach in control, where variables are divided into two sorts: \"states\" and \"inputs\". These input variables can be boolean, indicating that the actual effect is turned on or off, or a real/integer value."
   ]
  },
  {
   "cell_type": "code",
   "execution_count": 15,
   "metadata": {},
   "outputs": [
    {
     "name": "stdout",
     "output_type": "stream",
     "text": [
      "Symbol: xMove/0 Signature: ('real',)\n",
      "Symbol: yMove/0 Signature: ('real',)\n",
      "Symbol: snapPicture/0 Signature: ('bool',)\n"
     ]
    }
   ],
   "source": [
    "interm_vars = domain.action_fluents\n",
    "\n",
    "for k,v in interm_vars.items():\n",
    "    params = []\n",
    "    if v.param_types is not None:\n",
    "        params = v.param_types\n",
    "    signature = tuple(params + [v.range])\n",
    "    print('Symbol: {} Signature: {}'.format(k, signature))"
   ]
  },
  {
   "cell_type": "markdown",
   "metadata": {},
   "source": [
    "The variables ```xMove``` and ```yMove``` above represent the velocities of the Rover, which can be set directly in this model. ```snapPicture``` indicates that a picture is to be taken at that time instant. Action preconditions are actually represented as state constraints, like:\n",
    "\n",
    "$$\n",
    "    snapPicture \\supset (xMove = 0) \\land (yMove = 0)\n",
    "$$\n",
    "\n",
    "which indicate that ```snapPicture``` whenever the Rover is stationary. These precondidtions are given as expressions, combining logical and arithmetic standard operators with variables and constants."
   ]
  },
  {
   "cell_type": "code",
   "execution_count": 16,
   "metadata": {},
   "outputs": [
    {
     "name": "stdout",
     "output_type": "stream",
     "text": [
      "Expression(etype=('boolean', '=>'), args=\n",
      "    Expression(etype=('pvar', 'snapPicture'), args=('snapPicture', None))\n",
      "    Expression(etype=('boolean', '^'), args=\n",
      "        Expression(etype=('relational', '=='), args=\n",
      "            Expression(etype=('pvar', 'xMove'), args=('xMove', None))\n",
      "            Expression(etype=('number', \"<class 'float'>\"), args=0.0))\n",
      "        Expression(etype=('relational', '=='), args=\n",
      "            Expression(etype=('pvar', 'yMove'), args=('yMove', None))\n",
      "            Expression(etype=('number', \"<class 'float'>\"), args=0.0))))\n"
     ]
    }
   ],
   "source": [
    "precs = domain.preconds\n",
    "\n",
    "for prec in domain.preconds:\n",
    "    print(prec)"
   ]
  },
  {
   "cell_type": "code",
   "execution_count": 17,
   "metadata": {},
   "outputs": [],
   "source": [
    "act_constraints = domain.constraints\n",
    "\n",
    "for C in act_constraints:\n",
    "    print(C)"
   ]
  },
  {
   "cell_type": "markdown",
   "metadata": {},
   "source": [
    "### State Constraints\n",
    "\n",
    "RDDL _state invariants_ correspond to state constraints, that define the set of valid states"
   ]
  },
  {
   "cell_type": "code",
   "execution_count": 18,
   "metadata": {},
   "outputs": [],
   "source": [
    "invariants = domain.invariants\n",
    "\n",
    "for I in invariants:\n",
    "    print(I)"
   ]
  },
  {
   "cell_type": "markdown",
   "metadata": {},
   "source": [
    "### Conditional Probabilistic Functions"
   ]
  },
  {
   "cell_type": "code",
   "execution_count": 19,
   "metadata": {},
   "outputs": [
    {
     "name": "stdout",
     "output_type": "stream",
     "text": [
      "('pvar_expr', (\"picTaken'\", ['?p'])) =\n",
      "Expression(etype=('boolean', '|'), args=\n",
      "    Expression(etype=('pvar', 'picTaken'), args=('picTaken', ['?p']))\n",
      "    Expression(etype=('boolean', '^'), args=\n",
      "        Expression(etype=('boolean', '^'), args=\n",
      "            Expression(etype=('boolean', '^'), args=\n",
      "                Expression(etype=('pvar', 'snapPicture'), args=('snapPicture', None))\n",
      "                Expression(etype=('relational', '<='), args=\n",
      "                    Expression(etype=('pvar', 'time'), args=('time', None))\n",
      "                    Expression(etype=('pvar', 'MAX_TIME'), args=('MAX_TIME', None))))\n",
      "            Expression(etype=('relational', '<='), args=\n",
      "                Expression(etype=('func', 'abs'), args=\n",
      "                    Expression(etype=('arithmetic', '-'), args=\n",
      "                        Expression(etype=('pvar', 'xPos'), args=('xPos', None))\n",
      "                        Expression(etype=('pvar', 'PICT_XPOS'), args=('PICT_XPOS', ['?p']))))\n",
      "                Expression(etype=('pvar', 'PICT_ERROR_ALLOW'), args=('PICT_ERROR_ALLOW', ['?p']))))\n",
      "        Expression(etype=('relational', '<='), args=\n",
      "            Expression(etype=('func', 'abs'), args=\n",
      "                Expression(etype=('arithmetic', '-'), args=\n",
      "                    Expression(etype=('pvar', 'yPos'), args=('yPos', None))\n",
      "                    Expression(etype=('pvar', 'PICT_YPOS'), args=('PICT_YPOS', ['?p']))))\n",
      "            Expression(etype=('pvar', 'PICT_ERROR_ALLOW'), args=('PICT_ERROR_ALLOW', ['?p'])))));\n",
      "('pvar_expr', (\"time'\", None)) =\n",
      "Expression(etype=('control', 'if'), args=\n",
      "    Expression(etype=('pvar', 'snapPicture'), args=('snapPicture', None))\n",
      "    Expression(etype=('arithmetic', '+'), args=\n",
      "        Expression(etype=('pvar', 'time'), args=('time', None))\n",
      "        Expression(etype=('number', \"<class 'float'>\"), args=0.25))\n",
      "    Expression(etype=('arithmetic', '+'), args=\n",
      "        Expression(etype=('arithmetic', '+'), args=\n",
      "            Expression(etype=('pvar', 'time'), args=('time', None))\n",
      "            Expression(etype=('func', 'abs'), args=\n",
      "                Expression(etype=('pvar', 'xMove'), args=('xMove', None))))\n",
      "        Expression(etype=('func', 'abs'), args=\n",
      "            Expression(etype=('pvar', 'yMove'), args=('yMove', None)))));\n",
      "('pvar_expr', (\"xPos'\", None)) =\n",
      "Expression(etype=('arithmetic', '+'), args=\n",
      "    Expression(etype=('arithmetic', '+'), args=\n",
      "        Expression(etype=('pvar', 'xPos'), args=('xPos', None))\n",
      "        Expression(etype=('pvar', 'xMove'), args=('xMove', None)))\n",
      "    Expression(etype=('randomvar', 'Normal'), args=\n",
      "        Expression(etype=('number', \"<class 'float'>\"), args=0.0)\n",
      "        Expression(etype=('arithmetic', '*'), args=\n",
      "            Expression(etype=('pvar', 'MOVE_VARIANCE_MULT'), args=('MOVE_VARIANCE_MULT', None))\n",
      "            Expression(etype=('func', 'abs'), args=\n",
      "                Expression(etype=('pvar', 'xMove'), args=('xMove', None))))));\n",
      "('pvar_expr', (\"yPos'\", None)) =\n",
      "Expression(etype=('arithmetic', '+'), args=\n",
      "    Expression(etype=('arithmetic', '+'), args=\n",
      "        Expression(etype=('pvar', 'yPos'), args=('yPos', None))\n",
      "        Expression(etype=('pvar', 'yMove'), args=('yMove', None)))\n",
      "    Expression(etype=('randomvar', 'Normal'), args=\n",
      "        Expression(etype=('number', \"<class 'float'>\"), args=0.0)\n",
      "        Expression(etype=('arithmetic', '*'), args=\n",
      "            Expression(etype=('pvar', 'MOVE_VARIANCE_MULT'), args=('MOVE_VARIANCE_MULT', None))\n",
      "            Expression(etype=('func', 'abs'), args=\n",
      "                Expression(etype=('pvar', 'yMove'), args=('yMove', None))))));\n"
     ]
    }
   ],
   "source": [
    "for f in domain.state_cpfs:\n",
    "    print(f)"
   ]
  },
  {
   "cell_type": "code",
   "execution_count": 20,
   "metadata": {},
   "outputs": [],
   "source": [
    "for f in domain.intermediate_cpfs:\n",
    "    print(f)"
   ]
  },
  {
   "cell_type": "code",
   "execution_count": null,
   "metadata": {},
   "outputs": [],
   "source": []
  }
 ],
 "metadata": {
  "kernelspec": {
   "display_name": "Python 3",
   "language": "python",
   "name": "python3"
  },
  "language_info": {
   "codemirror_mode": {
    "name": "ipython",
    "version": 3
   },
   "file_extension": ".py",
   "mimetype": "text/x-python",
   "name": "python",
   "nbconvert_exporter": "python",
   "pygments_lexer": "ipython3",
   "version": "3.6.5"
  }
 },
 "nbformat": 4,
 "nbformat_minor": 2
}
