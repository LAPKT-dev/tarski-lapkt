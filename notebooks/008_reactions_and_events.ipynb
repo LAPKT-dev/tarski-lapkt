{
 "cells": [
  {
   "cell_type": "code",
   "execution_count": 1,
   "metadata": {
    "collapsed": true
   },
   "outputs": [],
   "source": [
    "import sys\n",
    "sys.path.append('../src')\n",
    "import tarski\n",
    "import tarski.fstrips as fs\n",
    "import tarski.syntax.temporal.ltl as ltl\n",
    "from tarski.symbols import *"
   ]
  },
  {
   "cell_type": "markdown",
   "metadata": {},
   "source": [
    "# Planning with Reactions is Checking for $\\phi U \\varphi$ Specifications"
   ]
  },
  {
   "cell_type": "markdown",
   "metadata": {},
   "source": [
    "We will start this notebook borrowing the discussion in Chapter 3, Section 3.5 of [Huth & Ryan's _Logic in Computer Science_](https://www.amazon.com/Logic-Computer-Science-Modelling-Reasoning/dp/052154310X)"
   ]
  },
  {
   "cell_type": "markdown",
   "metadata": {},
   "source": [
    "## The ferryman"
   ]
  },
  {
   "cell_type": "markdown",
   "metadata": {},
   "source": [
    "You may recall the puzzle of a ferryman, goat, cabbage, and wolf all on one side of a river. The ferryman can cross the river with **at most** one passenger in his boat. There is behavioural conflict between:\n",
    "\n",
    " 1. The goat and the cabbage; and\n",
    " 2. the goat and the wolf;\n",
    " \n",
    "if they are on the same river bank but the ferryman crosses the river or stays on the other bank.\n",
    "\n",
    "Can the ferryman transport all goods to the other side, without any conflicts occurring? This is a _planning problem_, but it can be solved by model checking. We describe a transition system in which the **states represent which goods are at which side of the river**. Then we ask if the goal state is reachable from the initial state: Is there a path from the initial state such that it has a state along it at which all the goods are on the other side, and during the transitions to that state the goods are never left in an _unsafe_, _conflicting_ situation?\n",
    "\n",
    "We model all possible behaviour (including that which results in conflicts) as a ```NuSMV``` program:"
   ]
  },
  {
   "cell_type": "markdown",
   "metadata": {},
   "source": [
    "```\n",
    "MODULE main\n",
    "    VAR\n",
    "        ferryman: boolean;\n",
    "        goat: boolean;\n",
    "        cabbage: boolean;\n",
    "        wolf: boolean;\n",
    "        carry: {g,c,w,0};\n",
    "    ASSIGN\n",
    "        init(ferryman) := 0;\n",
    "        init(goat) := 0;\n",
    "        init(cabbage) := 0;\n",
    "        init(wolf) := 0;\n",
    "        init(carry) := 0;\n",
    "        \n",
    "        next(ferryman) := 0,1;\n",
    "        \n",
    "        next(carry) := case\n",
    "                        ferryman=goat : g;\n",
    "                        1 :0;\n",
    "                       esac union\n",
    "                       case \n",
    "                        ferryman=cabbage : c;\n",
    "                        1 :0;\n",
    "                       esac union\n",
    "                       case\n",
    "                        ferryman=wolf : w;\n",
    "                        1 : 0;\n",
    "                       esac union 0;\n",
    "        next(goat) := case\n",
    "            ferryman=goat & next(carry) = g : next(ferryman);\n",
    "            1 : goat;\n",
    "        esac;\n",
    "        next(cabbage) := case\n",
    "            ferryman=cabbage & next(carry) = c : next(ferryman);\n",
    "            1 : cabbage;\n",
    "        esac;\n",
    "        next(wolf) := case\n",
    "            ferryman=worlf & next(carry)=w : next(ferryman);\n",
    "            1 : wolf;\n",
    "        esac;\n",
    "    LTLSPEC !((  (goat=cabbage | goat=wolf) -> goat=ferryman) U (cabbage & goat & wolf & ferryman))\n",
    "```"
   ]
  },
  {
   "cell_type": "markdown",
   "metadata": {},
   "source": [
    "The _location_ of each agent is modelled as a Boolean variable: $0$ denotes that agent is on the initial bank, and 1 the destination bank. Thus, ```ferryman=0``` means that the ferryman is on the _initial_ bank, ```ferryman=1``` that he is on the destination bank, and similarly for the variables ```goat```, ```cabbage``` and ```wolf```."
   ]
  },
  {
   "cell_type": "markdown",
   "metadata": {},
   "source": [
    "The variable ```carry``` takes a value indicating whether the goat, cabbage, wolf or _nothing_ is carried by the ferryman. The definition of ```next(carry)``` works as follows. It is non-deterministic, but the set from which a value is non--deterministically chosen is determined by the values of ferryman, goat, etc. and **always** includes ```0```. If ```ferryman=goat```, i.e. they are on the same side, then ```g``` is a member of the set which ```next(carry)``` is chosen. The situation for cabbage and wolf is similar. Thus, if\n",
    "\n",
    "$$\n",
    "ferryman = goat = wolf \\neq cabbage\n",
    "$$\n",
    "\n",
    "then that set is \n",
    "\n",
    "$$\n",
    "\\{ g, w, 0 \\}\n",
    "$$"
   ]
  },
  {
   "cell_type": "markdown",
   "metadata": {},
   "source": [
    "The next value assigned to ```ferryman``` is non-deterministic: he can _choose_ to cross or not to cross the river. But the next values of ```goat```, ```cabbage``` and ```wolf``` are _deterministic_, since whether they are carried or not is determined by the ferryman's choice, represented by the non-deterministic assignment to ```carry```; these values follow the same pattern."
   ]
  },
  {
   "cell_type": "markdown",
   "metadata": {},
   "source": [
    "Note how the boolean guards for ```next(goat)```, ```next(cabbage)``` and ```next(wolf)``` all refer to state bits _at the next state_. The SMV compiler does a _dependency analysis_ and rejects circular dependencies on next values. _NB: The dependency analysis is rather pessimistic, sometimes NuSMV complains of circularity even in situations when it could be resolved. The original CMU-SMV is more liberal in this respect._"
   ]
  },
  {
   "cell_type": "markdown",
   "metadata": {},
   "source": [
    "### Running SMV"
   ]
  },
  {
   "cell_type": "markdown",
   "metadata": {},
   "source": [
    "We seek a path satisfying $\\phi U \\psi$, where $\\psi$ asserts the **final goal state**, and $\\phi$ expresses the **safety condition**. Namely, if the goat is with the cabbage or the worlf, then the ferryman is there too, to prevent anything untoward happening. Thus, we assert that _all paths_ satisfy $\\neg(\\phi U \\psi)$, i.e. **no path** satisfies $\\phi U \\psi$. We **hope** this is not the case, and NuSMV will give us an example which _does_ satisfy $\\phi U \\psi$."
   ]
  },
  {
   "cell_type": "markdown",
   "metadata": {},
   "source": [
    "The beginning of the generated path represents the usual solution to this\n",
    "puzzle: the ferryman takes the goat first, then goes back for the cabbage. To\n",
    "avoid leaving the goat and the cabbage together, he takes the goat back, and\n",
    "picks up the wolf. Now the wolf and the cabbage are on the destination side,\n",
    "and he goes back again to get the goat. This brings us to State 1.9, where\n",
    "the ferryman appears to take a well-earned break. But the path continues.\n",
    "States 1.10 to 1.15 show that he takes his charges back to the original side\n",
    "of the bank; first the cabbage, then the wolf, then the goat. Unfortunately\n",
    "it appears that the ferryman’s clever plan up to state 1.9 is now spoiled,\n",
    "because the goat meets an unhappy end in state 1.11."
   ]
  },
  {
   "cell_type": "code",
   "execution_count": 2,
   "metadata": {
    "collapsed": false
   },
   "outputs": [
    {
     "name": "stderr",
     "output_type": "stream",
     "text": [
      "'NuSMV' is not recognized as an internal or external command,\n",
      "operable program or batch file.\n"
     ]
    }
   ],
   "source": [
    "!NuSMV ferryman.smv"
   ]
  },
  {
   "cell_type": "markdown",
   "metadata": {},
   "source": [
    "What went wrong? Nothing, actually. NuSMV has given us an infinite\n",
    "path, which loops around the 15 illustrated states. Along the infinite path,\n",
    "the ferryman repeatedly takes his goods across (safely), and then back again\n",
    "(unsafely). This path does indeed satisfy the specification $\\phi U \\psi$, which asserts\n",
    "the safety of the forward journey but says nothing about what happens\n",
    "after that. In other words, the path is correct; it satisfies $\\phi U \\psi$ (with $\\psi$ occurring\n",
    "at state 8). What happens along the path after that has no bearing\n",
    "on $\\phi U \\psi$."
   ]
  },
  {
   "cell_type": "markdown",
   "metadata": {},
   "source": [
    "Invoking bounded model checking will produce the shortest possible path\n",
    "to violate the property; in this case, it is states 1.1 to 1.8 of the illustrated\n",
    "path. It is the shortest, optimal solution to our planning problem\n",
    "since the model check \n",
    "\n",
    "```\n",
    "NuSMV -bmc -bmc_length 7 ferryman.smv\n",
    "``` \n",
    "\n",
    "shows that the LTL formula holds in that model, meaning that no solution with\n",
    "fewer than seven transitions is possible."
   ]
  },
  {
   "cell_type": "markdown",
   "metadata": {},
   "source": [
    "One might wish to verify whether there is a solution which involves three\n",
    "journeys for the goat. This can be done by altering the LTL formula. Instead\n",
    "of seeking a path satisfying $\\phi U \\psi$, where\n",
    "\n",
    "$$\n",
    "\\phi \\equiv (goat=cabbage \\lor goat=wolf) \\rightarrow (goat=ferryman)\n",
    "$$\n",
    "\n",
    "and\n",
    "\n",
    "$$\n",
    "\\psi \\equiv cabbage \\land goat \\land wolf \\land ferryman\n",
    "$$\n",
    "\n",
    "we now seek a path satisfying \n",
    "\n",
    "$$\n",
    "(\\phi U \\psi) \\land G(goat \\rightarrow G\\,goat)\n",
    "$$\n",
    "\n",
    "The last bit says that once the goat has crossed, he remains across; otherwise, the goat makes at least three trips. NuSMV verifies that the negation of this formula is true, confirming that there is no such solution."
   ]
  },
  {
   "cell_type": "markdown",
   "metadata": {},
   "source": [
    "## Accounting for the Semantics of the ```ferryman``` NuSMV program "
   ]
  },
  {
   "cell_type": "markdown",
   "metadata": {},
   "source": [
    "** TODO **: Research Questions:\n",
    " - Find works studying whether $PSPACE$ is closed under the complement or not."
   ]
  },
  {
   "cell_type": "markdown",
   "metadata": {},
   "source": [
    "### Variables"
   ]
  },
  {
   "cell_type": "code",
   "execution_count": 3,
   "metadata": {
    "collapsed": true
   },
   "outputs": [],
   "source": [
    "f = tarski.language('ferryman')"
   ]
  },
  {
   "cell_type": "markdown",
   "metadata": {},
   "source": [
    "We create constants of sort ```object``` for each of the entities in the puzzle"
   ]
  },
  {
   "cell_type": "code",
   "execution_count": 4,
   "metadata": {
    "collapsed": false
   },
   "outputs": [],
   "source": [
    "cargo = f.sort('cargo')\n",
    "e = tarski.Bunch(ferryman=f.constant('ferryman',f.Object),\\\n",
    "                goat=f.constant('goat',cargo),\\\n",
    "                cabbage=f.constant('cabbage',cargo),\\\n",
    "                wolf=f.constant('wolf', cargo))"
   ]
  },
  {
   "cell_type": "markdown",
   "metadata": {},
   "source": [
    "the location of each of these entities, represented with the variables ```ferryman```, etc. can be accounted for having a simple function to denote the location of each object"
   ]
  },
  {
   "cell_type": "code",
   "execution_count": 5,
   "metadata": {
    "collapsed": true
   },
   "outputs": [],
   "source": [
    "location = f.function('location',f.Object, f.Integer)"
   ]
  },
  {
   "cell_type": "markdown",
   "metadata": {},
   "source": [
    "The set ```carry``` can be accounted for introducing a _predicate_ which implements the [characteristic function](https://en.wikipedia.org/wiki/Indicator_function) for the set in question, so that whenever an object ```o``` is in the set ```carry```, the predicate needs to hold"
   ]
  },
  {
   "cell_type": "code",
   "execution_count": 6,
   "metadata": {
    "collapsed": true
   },
   "outputs": [],
   "source": [
    "carrying = f.predicate('carrying', cargo)"
   ]
  },
  {
   "cell_type": "markdown",
   "metadata": {},
   "source": [
    "i.e. whenever $carrying(goat)$ holds, then $goat \\in carry$.\n",
    "\n",
    "**NOTE**: sets are essentially then syntactic sugar, we could have in the language the sort ```set of [Sort]```, and each object be the name of a singular set. Then we can introduce automatically predicates $in(x,S)$ where $x$ that we set to true and false _automatically_ as we come across operators such as $union(S,S')$, $union(S,x)$, $minus(S,S')$, $minus(S,x)$,..."
   ]
  },
  {
   "cell_type": "markdown",
   "metadata": {},
   "source": [
    "### Non-Deterministic Transitions as Actions"
   ]
  },
  {
   "cell_type": "markdown",
   "metadata": {},
   "source": [
    "#### ```next(ferryman)```"
   ]
  },
  {
   "cell_type": "markdown",
   "metadata": {},
   "source": [
    "As per the specification of Huth & Ryan, changes in value of the location of the ferryman are non-deterministic as in chosen by the _environment_. In this particular this role is played by the planner itself: the trajectories satisfying the specification will be changing the value of ```ferryman``` as the planner chooses a particular action to be executed.\n",
    "\n",
    "We introduce actions"
   ]
  },
  {
   "cell_type": "code",
   "execution_count": 7,
   "metadata": {
    "collapsed": false
   },
   "outputs": [],
   "source": [
    "go_forth = fs.Action(f, name='go_forth', parameters=[], precondition=top, effects=[ltl.X(location(e.ferryman)==1)])"
   ]
  },
  {
   "cell_type": "code",
   "execution_count": 8,
   "metadata": {
    "collapsed": true
   },
   "outputs": [],
   "source": [
    "go_back = fs.Action(f, name='go_back', parameters=[], precondition=top, effects=[ltl.X(location(e.ferryman)==0)])"
   ]
  },
  {
   "cell_type": "markdown",
   "metadata": {},
   "source": [
    "It is worth noting that we could achieve a more efficient encoding forbidding the transitions $0 \\rightarrow 0$ and $1 \\rightarrow 1$."
   ]
  },
  {
   "cell_type": "markdown",
   "metadata": {},
   "source": [
    "#### ```next(carry)```"
   ]
  },
  {
   "cell_type": "markdown",
   "metadata": {},
   "source": [
    "Similarly to the case of the transition above, the planner is also expected to choose amongst any of the following changes to happen"
   ]
  },
  {
   "cell_type": "code",
   "execution_count": 9,
   "metadata": {
    "collapsed": false
   },
   "outputs": [],
   "source": [
    "c = f.Variable('c', cargo)\n",
    "pick = fs.Action(f, name='pick', parameters=[c], \\\n",
    "                 precondition=[location(e.ferryman)==location(c)],\\\n",
    "                 effects=[ ltl.X(carrying(c)) ])"
   ]
  },
  {
   "cell_type": "markdown",
   "metadata": {},
   "source": [
    "### Deterministic Transitions as Reactions"
   ]
  },
  {
   "cell_type": "markdown",
   "metadata": {},
   "source": [
    "The rest of the entries in the NuSMV program transition deal with the _non voluntary_ or _natural_ consequences of the choices made by the planner/environment. We specify these as constraints:"
   ]
  },
  {
   "cell_type": "code",
   "execution_count": 10,
   "metadata": {
    "collapsed": false
   },
   "outputs": [],
   "source": [
    "x = f.Variable('x',cargo)\n",
    "R = forall( x, \\\n",
    "           implies( (location(e.ferryman) == location(x)) & ltl.X(carrying(x)),\\\n",
    "                      ltl.X(location(x) == location(e.ferryman))))"
   ]
  },
  {
   "cell_type": "markdown",
   "metadata": {},
   "source": [
    "### LTL Specification"
   ]
  },
  {
   "cell_type": "markdown",
   "metadata": {},
   "source": [
    "The safety constraint becomes just another constraint"
   ]
  },
  {
   "cell_type": "code",
   "execution_count": 11,
   "metadata": {
    "collapsed": false
   },
   "outputs": [],
   "source": [
    "S = implies(lor(location(e.goat) == location(e.cabbage), location(e.goat)==location(e.wolf)), \\\n",
    "            location(e.goat)==location(e.ferryman))"
   ]
  },
  {
   "cell_type": "markdown",
   "metadata": {},
   "source": [
    "and the goal is simply"
   ]
  },
  {
   "cell_type": "code",
   "execution_count": 13,
   "metadata": {
    "collapsed": false
   },
   "outputs": [],
   "source": [
    "o = f.Variable('o',f.Object)\n",
    "G = forall(o, location(o)==1)"
   ]
  },
  {
   "cell_type": "markdown",
   "metadata": {},
   "source": [
    "### Putting it all together"
   ]
  },
  {
   "cell_type": "markdown",
   "metadata": {},
   "source": [
    "**NOTE**: parallel action support need to be set"
   ]
  },
  {
   "cell_type": "code",
   "execution_count": null,
   "metadata": {
    "collapsed": true
   },
   "outputs": [],
   "source": []
  }
 ],
 "metadata": {
  "kernelspec": {
   "display_name": "Python [default]",
   "language": "python",
   "name": "python3"
  },
  "language_info": {
   "codemirror_mode": {
    "name": "ipython",
    "version": 3
   },
   "file_extension": ".py",
   "mimetype": "text/x-python",
   "name": "python",
   "nbconvert_exporter": "python",
   "pygments_lexer": "ipython3",
   "version": "3.6.0"
  }
 },
 "nbformat": 4,
 "nbformat_minor": 2
}
