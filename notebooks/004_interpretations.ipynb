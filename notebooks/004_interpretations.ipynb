{
 "cells": [
  {
   "cell_type": "code",
   "execution_count": 1,
   "metadata": {
    "collapsed": true
   },
   "outputs": [],
   "source": [
    "import sys\n",
    "sys.path.append('../')"
   ]
  },
  {
   "cell_type": "code",
   "execution_count": 2,
   "metadata": {
    "collapsed": true
   },
   "outputs": [],
   "source": [
    "import tarski\n",
    "from tarski.symbols import *\n",
    "\n",
    "# 1. Create language used to describe world states and transitions\n",
    "bw = tarski.language()\n",
    "\n",
    "# 2. Define sorts\n",
    "place = bw.sort('place')\n",
    "block = bw.sort('block', [place])\n",
    "\n",
    "# 3. Define functions\n",
    "loc = bw.function( 'loc', block, place )\n",
    "width = bw.function('width', place, bw.Real)\n",
    "\n",
    "# 4. Define predicates\n",
    "clear = bw.predicate( 'clear', block)\n",
    "\n",
    "# 5. Define constants\n",
    "b1, b2, b3, b4 = bw.const(('b_{}'.format(k) for k in (1,2,3,4)), block)\n",
    "table = bw.const('table', place)"
   ]
  },
  {
   "cell_type": "markdown",
   "metadata": {},
   "source": [
    "# Semantics of First-Order Languages"
   ]
  },
  {
   "cell_type": "markdown",
   "metadata": {},
   "source": [
    "The semantics of a first-order language is based on the notion of _models_:\n",
    "\n",
    "**Definition** (First-Order logic model). Let ${\\cal L}$ be a many-sorted first-order language. A first-order **model**, sometimes also called **structure** or **interpretation**, for the language ${\\cal L}$ is a tuple\n",
    "\n",
    "$$\n",
    "{\\cal M} = \\langle \\{ {\\cal U}_{\\tau}\\},\\, \\{f^{{\\cal M}}\\},\\, \\{P^{{\\cal M}}\\} \\} \\rangle\n",
    "$$\n",
    "\n",
    "made up of:\n",
    "\n",
    " - A non-empty set ${\\cal U}_{\\tau}$, the *universe* of type $\\tau$, for each $\\tau \\in T$. \n",
    " - For each $n$-ary function symbol $f$ of the language with type $(\\tau_1, \\ldots, \\tau_n, \\tau_{n+1})$, a function $f^{\\cal M}$ $:$ ${\\cal U}_{\\tau_1} \\times \\ldots \\times  {\\cal U}_{\\tau_n} \\rightarrow {\\cal U}_{\\tau_{n+1}}$. When $n=0$ and $f$ is a constant symbol of type $\\tau$, $f^{\\cal M}$ is simply some element of the universe ${\\cal U}_{\\tau}$.\n",
    " - For each $n$-ary predicate symbol $P$ of type $(\\tau_1,\\ldots,\\tau_n)$, a subset $P^{\\cal M} \\subseteq {\\cal U}_{\\tau_1} \\times \\ldots \\times {\\cal U}_{\\tau_n}$. If $n=0$, we will assume that $P^{\\cal M}$ is a truth table $P^{\\cal M}$ $\\in$ $\\{ \\top, \\bot \\}$."
   ]
  },
  {
   "cell_type": "markdown",
   "metadata": {},
   "source": [
    "## Denotation of Terms and Truth of Formulas"
   ]
  },
  {
   "cell_type": "markdown",
   "metadata": {},
   "source": [
    "The notion of **denotation** of a _term_ and **truth** of a _formula_ under a given interpretation reqyures that we take into account all possible free variables occurring in the term or formula. We will do that by extending interpretations with a type--consistent assignment of values to free variables. Let $\\phi[\\bar{x}]$ be a formula in a first-order language ${\\cal L}$, and ${\\cal M}$ an interpretation for ${\\cal L}$. A **variable assignment** $\\sigma$ for $\\bar{x}$ is a function mapping any free variable $x^{\\tau}$ in the tuple $\\bar{x}$ to an element in ${\\cal U_{\\tau}}$."
   ]
  },
  {
   "cell_type": "markdown",
   "metadata": {},
   "source": [
    "Assignments $\\sigma$ can be easily extended into a function $\\sigma^{*}$ that gives the denotation of any term in the language, being defined as follows:\n",
    "\n",
    " 1. For any variable $x$, $\\sigma^*(x) = \\sigma(x)$\n",
    " 2. For terms $t_1$, $\\ldots$, $t_n$ and $n$-ary function symbol $f$ with matching type\n",
    " $$\n",
    "     \\sigma^*(f(t_1,\\ldots,t_n)) = f^{\\cal M}(\\sigma^*(t_1),\\ldots,\\sigma^*(t_n))\n",
    " $$"
   ]
  },
  {
   "cell_type": "markdown",
   "metadata": {},
   "source": [
    "We say that $\\phi$ is true under interpretation ${\\cal M}$, when its free variables are given values according to assignment $\\sigma$, denoted by ${\\cal M} \\models \\phi(\\sigma)$, in the following cases:\n",
    "\n",
    " - For any two terms $t_1$, $t_2$, ${\\cal M} \\models (t_1 = t_2)(\\sigma)$ iff $\\sigma*(t_1)$ and $\\sigma*(t_2)$ are the same element.\n",
    " - For any $n$-ary predicate symbol $P$ and terms $t_1,\\ldots,t_n$ of appropiate type, ${\\cal M} \\models P(t_1,\\ldots,t_n)(\\sigma)$ iff $(\\sigma^*(t_1),\\ldots,\\sigma^*(t_n)) \\in P^{\\cal M}$.\n",
    " - ${\\cal M} \\models (\\neg \\phi)(\\sigma)$ iff not ${\\cal M} \\models \\phi$.\n",
    " - If $\\phi \\equiv \\phi_1 \\land \\phi_2$, then ${\\cal M} \\models \\phi(\\sigma)$ iff ${\\cal M} \\models \\phi_1$ and ${\\cal M} \\models \\phi_2$.\n",
    " - If $\\phi \\equiv \\phi_1 \\lor \\phi_2$, then ${\\cal M} \\models \\phi(\\sigma)$ iff ${\\cal M} \\models \\phi_1$ or ${\\cal M} \\models \\phi_2$. \n",
    " - ${\\cal M} \\models (\\exists_{\\tau} x)(\\sigma)$ iff ${\\cal M} \\models \\phi(\\sigma[x/a])$, for some $a \\in {\\cal U}_\\tau$.\n",
    " - ${\\cal M} \\models (\\forall_{\\tau} x)(\\sigma)$ iff ${\\cal M} \\models \\phi(\\sigma[x/a])$, for every $a \\in {\\cal U}_\\tau$.\n",
    "\n",
    "where $\\sigma[x/a]$ is the function that assigns values as in $\\sigma$ except to variable $x$, which is assigned the value $a$."
   ]
  },
  {
   "cell_type": "markdown",
   "metadata": {},
   "source": [
    "### Satisfaction and Validity"
   ]
  },
  {
   "cell_type": "markdown",
   "metadata": {},
   "source": [
    "**Definition** (Satisfaction and Validity). Let $\\phi$ be a formula in some first-order language ${\\cal L}$. We say that\n",
    "\n",
    " - An **interpretation** ${\\cal M}$ satisfies $\\phi$ iff ${\\cal M} \\models \\phi(\\sigma)$ for any possible assignment $\\sigma$. $\\phi$ is _satisfiable_ iff there is some interpretation ${\\cal M}$ that satisfies it.\n",
    " - $\\phi$ is a **valid** formula, denoted $\\models \\phi$, iff every possible first-order interpretation of ${\\cal L}$ satisfies $\\phi$.\n",
    " \n",
    "Determining if a first-order logic sentence $\\phi$ is valid is undecidable, and so it is determining that it is satisfiable."
   ]
  },
  {
   "cell_type": "markdown",
   "metadata": {},
   "source": [
    "## The Semantics of the Languages Constructed with ```Tarski```"
   ]
  },
  {
   "cell_type": "markdown",
   "metadata": {},
   "source": [
    "The semantics of a first--order language are formalised as the notion of _interpretation_, which is also typically referred in texts on computational logic as _model_ or _structure_. Informally, the interpretation of a first-order language is a \"table\" that allows to:\n",
    "\n",
    " 1. Map a first--order _term_ to a constant symbol"
   ]
  },
  {
   "cell_type": "markdown",
   "metadata": {},
   "source": [
    "### Built-in Function Symbols"
   ]
  },
  {
   "cell_type": "markdown",
   "metadata": {},
   "source": [
    "A number of functions are already defined for the built-in sorts ```Real```, ```Integer``` and ```Natural```, in order to facilitate the definition of terms that model arithmetic operators, algebraic and transcendental functions"
   ]
  },
  {
   "cell_type": "markdown",
   "metadata": {},
   "source": [
    "| Name | Syntax | Notes | Name | Syntax | Notes |\n",
    "|------|:--------|:-------------------|:----------|:-----|:------|\n",
    "| Addition | `x + y` |          | Matrix Multiplication | `x @ y` |  |  \n",
    "| Subtraction | `x - y` |       |  | |  | \n",
    "| Multiplication | `x * y` |    | | |  |\n",
    "| Division | `x / y` |          | | ||\n",
    "| Modulo | `x % y` |            | | |  |\n",
    "| Power | `x ** y` | |           | | |  | \n"
   ]
  },
  {
   "cell_type": "markdown",
   "metadata": {},
   "source": [
    "#### Notes"
   ]
  },
  {
   "cell_type": "markdown",
   "metadata": {},
   "source": [
    "#### Examples"
   ]
  },
  {
   "cell_type": "code",
   "execution_count": 3,
   "metadata": {
    "collapsed": false
   },
   "outputs": [
    {
     "ename": "LanguageError",
     "evalue": "FOL.resolve_function_symbol_2(): function symbol '+' is not defined for domain (Sort(Real),Sort(Real))",
     "output_type": "error",
     "traceback": [
      "\u001b[0;31m---------------------------------------------------------------------------\u001b[0m",
      "\u001b[0;31mLanguageError\u001b[0m                             Traceback (most recent call last)",
      "\u001b[0;32m<ipython-input-3-931674959409>\u001b[0m in \u001b[0;36m<module>\u001b[0;34m()\u001b[0m\n\u001b[1;32m      1\u001b[0m \u001b[0ma\u001b[0m \u001b[1;33m=\u001b[0m \u001b[0mbw\u001b[0m\u001b[1;33m.\u001b[0m\u001b[0mvar\u001b[0m\u001b[1;33m(\u001b[0m\u001b[1;34m'a'\u001b[0m\u001b[1;33m,\u001b[0m \u001b[0mbw\u001b[0m\u001b[1;33m.\u001b[0m\u001b[0mReal\u001b[0m\u001b[1;33m)\u001b[0m\u001b[1;33m\u001b[0m\u001b[0m\n\u001b[1;32m      2\u001b[0m \u001b[0mb\u001b[0m \u001b[1;33m=\u001b[0m \u001b[0mbw\u001b[0m\u001b[1;33m.\u001b[0m\u001b[0mvar\u001b[0m\u001b[1;33m(\u001b[0m\u001b[1;34m'b'\u001b[0m\u001b[1;33m,\u001b[0m \u001b[0mbw\u001b[0m\u001b[1;33m.\u001b[0m\u001b[0mReal\u001b[0m\u001b[1;33m)\u001b[0m\u001b[1;33m\u001b[0m\u001b[0m\n\u001b[0;32m----> 3\u001b[0;31m \u001b[0ma\u001b[0m \u001b[1;33m+\u001b[0m \u001b[0mb\u001b[0m\u001b[1;33m\u001b[0m\u001b[0m\n\u001b[0m",
      "\u001b[0;32mD:\\Users\\Miquel\\Documents\\GitHub\\tarski\\tarski\\_terms.py\u001b[0m in \u001b[0;36m__add__\u001b[0;34m(self, rhs)\u001b[0m\n\u001b[1;32m    267\u001b[0m \u001b[1;33m\u001b[0m\u001b[0m\n\u001b[1;32m    268\u001b[0m     \u001b[1;32mdef\u001b[0m \u001b[0m__add__\u001b[0m\u001b[1;33m(\u001b[0m\u001b[0mself\u001b[0m\u001b[1;33m,\u001b[0m \u001b[0mrhs\u001b[0m \u001b[1;33m:\u001b[0m \u001b[0mTerm\u001b[0m \u001b[1;33m)\u001b[0m \u001b[1;33m:\u001b[0m\u001b[1;33m\u001b[0m\u001b[0m\n\u001b[0;32m--> 269\u001b[0;31m         \u001b[1;32mreturn\u001b[0m \u001b[0msuper\u001b[0m\u001b[1;33m(\u001b[0m\u001b[0mVariable\u001b[0m\u001b[1;33m,\u001b[0m\u001b[0mself\u001b[0m\u001b[1;33m)\u001b[0m\u001b[1;33m.\u001b[0m\u001b[0m__add__\u001b[0m\u001b[1;33m(\u001b[0m\u001b[0mrhs\u001b[0m\u001b[1;33m)\u001b[0m\u001b[1;33m\u001b[0m\u001b[0m\n\u001b[0m\u001b[1;32m    270\u001b[0m \u001b[1;33m\u001b[0m\u001b[0m\n\u001b[1;32m    271\u001b[0m     \u001b[1;32mdef\u001b[0m \u001b[0m__sub__\u001b[0m\u001b[1;33m(\u001b[0m\u001b[0mself\u001b[0m\u001b[1;33m,\u001b[0m \u001b[0mrhs\u001b[0m \u001b[1;33m:\u001b[0m \u001b[0mTerm\u001b[0m \u001b[1;33m)\u001b[0m \u001b[1;33m:\u001b[0m\u001b[1;33m\u001b[0m\u001b[0m\n",
      "\u001b[0;32mD:\\Users\\Miquel\\Documents\\GitHub\\tarski\\tarski\\_terms.py\u001b[0m in \u001b[0;36m__add__\u001b[0;34m(self, rhs)\u001b[0m\n\u001b[1;32m     54\u001b[0m \u001b[1;33m\u001b[0m\u001b[0m\n\u001b[1;32m     55\u001b[0m     \u001b[1;32mdef\u001b[0m \u001b[0m__add__\u001b[0m\u001b[1;33m(\u001b[0m\u001b[0mself\u001b[0m\u001b[1;33m,\u001b[0m \u001b[0mrhs\u001b[0m \u001b[1;33m)\u001b[0m \u001b[1;33m:\u001b[0m\u001b[1;33m\u001b[0m\u001b[0m\n\u001b[0;32m---> 56\u001b[0;31m         \u001b[0msym\u001b[0m \u001b[1;33m=\u001b[0m \u001b[0mself\u001b[0m\u001b[1;33m.\u001b[0m\u001b[0mlanguage\u001b[0m\u001b[1;33m.\u001b[0m\u001b[0mresolve_function_symbol_2\u001b[0m\u001b[1;33m(\u001b[0m \u001b[1;34m'+'\u001b[0m\u001b[1;33m,\u001b[0m \u001b[0mself\u001b[0m\u001b[1;33m.\u001b[0m\u001b[0mtype\u001b[0m\u001b[1;33m,\u001b[0m \u001b[0mrhs\u001b[0m\u001b[1;33m.\u001b[0m\u001b[0mtype\u001b[0m \u001b[1;33m)\u001b[0m\u001b[1;33m\u001b[0m\u001b[0m\n\u001b[0m\u001b[1;32m     57\u001b[0m         \u001b[1;32mreturn\u001b[0m \u001b[0msym\u001b[0m\u001b[1;33m(\u001b[0m\u001b[0mself\u001b[0m\u001b[1;33m,\u001b[0m\u001b[0mrhs\u001b[0m\u001b[1;33m)\u001b[0m\u001b[1;33m\u001b[0m\u001b[0m\n\u001b[1;32m     58\u001b[0m \u001b[1;33m\u001b[0m\u001b[0m\n",
      "\u001b[0;32mD:\\Users\\Miquel\\Documents\\GitHub\\tarski\\tarski\\_language.py\u001b[0m in \u001b[0;36mresolve_function_symbol_2\u001b[0;34m(self, sym, lhs, rhs)\u001b[0m\n\u001b[1;32m    207\u001b[0m     \u001b[1;32mdef\u001b[0m \u001b[0mresolve_function_symbol_2\u001b[0m\u001b[1;33m(\u001b[0m \u001b[0mself\u001b[0m\u001b[1;33m,\u001b[0m \u001b[0msym\u001b[0m \u001b[1;33m:\u001b[0m \u001b[0mstr\u001b[0m\u001b[1;33m,\u001b[0m \u001b[0mlhs\u001b[0m \u001b[1;33m:\u001b[0m \u001b[0mSort\u001b[0m\u001b[1;33m,\u001b[0m \u001b[0mrhs\u001b[0m \u001b[1;33m:\u001b[0m \u001b[0mSort\u001b[0m \u001b[1;33m)\u001b[0m \u001b[1;33m:\u001b[0m\u001b[1;33m\u001b[0m\u001b[0m\n\u001b[1;32m    208\u001b[0m         raise LanguageError(\"FOL.resolve_function_symbol_2(): function symbol '{}' is not defined for domain ({},{})\"\\\n\u001b[0;32m--> 209\u001b[0;31m             .format(sym,lhs,rhs))\n\u001b[0m\u001b[1;32m    210\u001b[0m         \u001b[1;32mreturn\u001b[0m \u001b[1;32mNone\u001b[0m\u001b[1;33m\u001b[0m\u001b[0m\n\u001b[1;32m    211\u001b[0m \u001b[1;33m\u001b[0m\u001b[0m\n",
      "\u001b[0;31mLanguageError\u001b[0m: FOL.resolve_function_symbol_2(): function symbol '+' is not defined for domain (Sort(Real),Sort(Real))"
     ]
    }
   ],
   "source": [
    "a = bw.var('a', bw.Real)\n",
    "b = bw.var('b', bw.Real)\n",
    "a + b"
   ]
  },
  {
   "cell_type": "code",
   "execution_count": null,
   "metadata": {
    "collapsed": false
   },
   "outputs": [],
   "source": [
    "a - b"
   ]
  },
  {
   "cell_type": "code",
   "execution_count": null,
   "metadata": {
    "collapsed": false
   },
   "outputs": [],
   "source": [
    "a ** bw.const(2, bw.Integer)"
   ]
  },
  {
   "cell_type": "code",
   "execution_count": null,
   "metadata": {
    "collapsed": true
   },
   "outputs": [],
   "source": []
  }
 ],
 "metadata": {
  "kernelspec": {
   "display_name": "Python [default]",
   "language": "python",
   "name": "python3"
  },
  "language_info": {
   "codemirror_mode": {
    "name": "ipython",
    "version": 3
   },
   "file_extension": ".py",
   "mimetype": "text/x-python",
   "name": "python",
   "nbconvert_exporter": "python",
   "pygments_lexer": "ipython3",
   "version": "3.6.0"
  }
 },
 "nbformat": 4,
 "nbformat_minor": 2
}
