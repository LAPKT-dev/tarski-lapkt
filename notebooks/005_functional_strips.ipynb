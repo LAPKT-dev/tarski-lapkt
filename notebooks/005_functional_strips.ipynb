{
 "cells": [
  {
   "cell_type": "code",
   "execution_count": 1,
   "metadata": {
    "collapsed": true
   },
   "outputs": [],
   "source": [
    "import sys\n",
    "sys.path.append('../src')\n",
    "import tarski\n",
    "from tarski.symbols import *"
   ]
  },
  {
   "cell_type": "markdown",
   "metadata": {
    "collapsed": true
   },
   "source": [
    "# Functional STRIPS"
   ]
  },
  {
   "cell_type": "markdown",
   "metadata": {},
   "source": [
    "Functional STRIPS (FSTRIPS, for short) is a classical planning language that extends STRIPS with functional systems in order to provide a number of _expressive_ **and** _computational_ advantages, such as the ability of making indirect refernce to domain objects through the use of nested terms.\n",
    "\n",
    "```Tarski``` lifts [Geffner's original restrictions]() on the language, and follows a full first-order logic approach. We will use the classical Blocks World domain as a running example."
   ]
  },
  {
   "cell_type": "markdown",
   "metadata": {},
   "source": [
    "### Problem Language"
   ]
  },
  {
   "cell_type": "markdown",
   "metadata": {},
   "source": [
    "```Tarski``` supports the formulation of FSTRIPS problems $P$ defined over a many-sorted first-order logic language with equality. We note the language associated with a prolem $P$ as ${\\cal L}(P)$.\n",
    "\n",
    "As we have seen in previous chapters of this Tutorial, ```Tarski``` languages are made up of a finite set of sorts $T$, a possibly infinite number of variables $v_{1}^t$, $v_{2}^t$,\\ldots for each sort $t \\in T$, a set $\\Phi$ of _function symbols_ and a set $\\Pi$ of _relation symbols_, assumed to include a number of symbols with fixed denotation, such as equality.\n",
    "\n",
    "We can create the language ${\\cal L}(P)$ for _Blocks World_ as follows"
   ]
  },
  {
   "cell_type": "code",
   "execution_count": 2,
   "metadata": {
    "collapsed": true
   },
   "outputs": [],
   "source": [
    "# 1. Create language to model the domain\n",
    "bw = tarski.language()"
   ]
  },
  {
   "cell_type": "markdown",
   "metadata": {},
   "source": [
    "along with types $T_{blocksworld}$,"
   ]
  },
  {
   "cell_type": "code",
   "execution_count": 3,
   "metadata": {},
   "outputs": [
    {
     "ename": "NameError",
     "evalue": "name 'super_list' is not defined",
     "output_type": "error",
     "traceback": [
      "\u001b[0;31m---------------------------------------------------------------------------\u001b[0m",
      "\u001b[0;31mNameError\u001b[0m                                 Traceback (most recent call last)",
      "\u001b[0;32m<ipython-input-3-a94df894952f>\u001b[0m in \u001b[0;36m<module>\u001b[0;34m()\u001b[0m\n\u001b[1;32m      1\u001b[0m \u001b[0;31m# 2. Define sorts that organise the objects considered\u001b[0m\u001b[0;34m\u001b[0m\u001b[0;34m\u001b[0m\u001b[0m\n\u001b[0;32m----> 2\u001b[0;31m \u001b[0mplace\u001b[0m \u001b[0;34m=\u001b[0m \u001b[0mbw\u001b[0m\u001b[0;34m.\u001b[0m\u001b[0msort\u001b[0m\u001b[0;34m(\u001b[0m\u001b[0;34m'place'\u001b[0m\u001b[0;34m)\u001b[0m\u001b[0;34m\u001b[0m\u001b[0m\n\u001b[0m\u001b[1;32m      3\u001b[0m \u001b[0mblock\u001b[0m \u001b[0;34m=\u001b[0m \u001b[0mbw\u001b[0m\u001b[0;34m.\u001b[0m\u001b[0msort\u001b[0m\u001b[0;34m(\u001b[0m\u001b[0;34m'block'\u001b[0m\u001b[0;34m,\u001b[0m \u001b[0;34m[\u001b[0m\u001b[0mplace\u001b[0m\u001b[0;34m]\u001b[0m\u001b[0;34m)\u001b[0m\u001b[0;34m\u001b[0m\u001b[0m\n",
      "\u001b[0;32m/home/bowman/Sandboxes/tarski/src/tarski/_language.py\u001b[0m in \u001b[0;36msort\u001b[0;34m(self, name, super_sorts)\u001b[0m\n\u001b[1;32m    136\u001b[0m             \u001b[0mself\u001b[0m\u001b[0;34m.\u001b[0m\u001b[0m_possible_promotions\u001b[0m\u001b[0;34m[\u001b[0m\u001b[0mname\u001b[0m\u001b[0;34m]\u001b[0m \u001b[0;34m=\u001b[0m \u001b[0mset\u001b[0m\u001b[0;34m(\u001b[0m\u001b[0;34m)\u001b[0m  \u001b[0;31m# no possible promotions\u001b[0m\u001b[0;34m\u001b[0m\u001b[0m\n\u001b[1;32m    137\u001b[0m         \u001b[0;32melse\u001b[0m \u001b[0;34m:\u001b[0m\u001b[0;34m\u001b[0m\u001b[0m\n\u001b[0;32m--> 138\u001b[0;31m             \u001b[0;32mfor\u001b[0m \u001b[0mparent\u001b[0m \u001b[0;32min\u001b[0m \u001b[0msuper_list\u001b[0m\u001b[0;34m:\u001b[0m \u001b[0mself\u001b[0m\u001b[0;34m.\u001b[0m\u001b[0mset_parent\u001b[0m\u001b[0;34m(\u001b[0m\u001b[0msort_obj\u001b[0m\u001b[0;34m,\u001b[0m \u001b[0mparent\u001b[0m\u001b[0;34m)\u001b[0m\u001b[0;34m\u001b[0m\u001b[0m\n\u001b[0m\u001b[1;32m    139\u001b[0m \u001b[0;34m\u001b[0m\u001b[0m\n\u001b[1;32m    140\u001b[0m         \u001b[0;31m# MRJ: create equality\u001b[0m\u001b[0;34m\u001b[0m\u001b[0;34m\u001b[0m\u001b[0m\n",
      "\u001b[0;31mNameError\u001b[0m: name 'super_list' is not defined"
     ]
    }
   ],
   "source": [
    "# 2. Define sorts that organise the objects considered\n",
    "place = bw.sort('place')\n",
    "block = bw.sort('block', [place])"
   ]
  },
  {
   "cell_type": "markdown",
   "metadata": {},
   "source": [
    "domain specific function symbols $\\phi_{blocks world}$"
   ]
  },
  {
   "cell_type": "code",
   "execution_count": null,
   "metadata": {
    "collapsed": true
   },
   "outputs": [],
   "source": [
    "# 3. Define functions\n",
    "loc = bw.function( 'loc', block, place )\n",
    "width = bw.function('width', place, bw.Real)\n",
    "looking_at = bw.function( 'looking_at', block )"
   ]
  },
  {
   "cell_type": "markdown",
   "metadata": {},
   "source": [
    "and domain specific predicate symbols $\\Pi_{blocksworld}$"
   ]
  },
  {
   "cell_type": "code",
   "execution_count": null,
   "metadata": {},
   "outputs": [],
   "source": [
    "# 4. Define predicates\n",
    "clear = bw.predicate( 'clear', block)"
   ]
  },
  {
   "cell_type": "markdown",
   "metadata": {},
   "source": [
    "## Problem Interpretations"
   ]
  },
  {
   "cell_type": "markdown",
   "metadata": {},
   "source": [
    "The current version of ```Tarski``` requires that the [universe of discourse](https://en.wikipedia.org/wiki/Domain_of_discourse#Universe_of_discourse) in any FSTRIPS problem $P$ is **fixed**. That is, all valid interpretations ${\\cal M}$ for ${\\cal L}(P)$ have the same universe, denoted by ${\\cal U}_P = \\{ {\\cal U}_t \\}_{t \\in T}$. It is further required that the universe ${\\cal U}_t$ of any sort $t$ is _finite_, this is a limitation of the current and provably future versions of ```Tarski```.\n",
    "\n",
    "In our model of _Blocks World_ interpretations ${\\cal M}$ for ${\\cal L}(P)$ consist of two sorts as defined above. We set ${\\cal U}_{place}$ to $\\{ b_1, b_2, b_3, b_4, table \\}$ as follows\n",
    "\n"
   ]
  },
  {
   "cell_type": "code",
   "execution_count": null,
   "metadata": {},
   "outputs": [],
   "source": [
    "table = bw.const('table', place)\n",
    "b1, b2, b3, b4 = bw.const(('b_{}'.format(k) for k in (1,2,3,4)), place)\n",
    "the_places = [table, b1, b2, b3, b4]"
   ]
  },
  {
   "cell_type": "markdown",
   "metadata": {},
   "source": [
    "that is, the set of names of objects we can place other objects on. The universe of the second sort we defined, ${\\cal U}_{blocks}$ is set to $\\{ b_1, b_2, b_3, b_4\\}$ as follows"
   ]
  },
  {
   "cell_type": "code",
   "execution_count": null,
   "metadata": {
    "collapsed": true
   },
   "outputs": [],
   "source": [
    "b1, b2, b3, b4 = bw.const(('b_{}'.format(k) for k in (1,2,3,4)), block)\n",
    "the_blocks = [b1, b2, b3, b4]"
   ]
  },
  {
   "cell_type": "markdown",
   "metadata": {},
   "source": [
    "We note that ```the_places[1]``` and ```the_blocks[0]``` are different Python objects"
   ]
  },
  {
   "cell_type": "code",
   "execution_count": null,
   "metadata": {},
   "outputs": [],
   "source": [
    "the_places[1].dump()"
   ]
  },
  {
   "cell_type": "code",
   "execution_count": null,
   "metadata": {},
   "outputs": [],
   "source": [
    "the_blocks[0].dump()"
   ]
  },
  {
   "cell_type": "markdown",
   "metadata": {},
   "source": [
    "with different semantics, which are exposed invoking the method ```dump()``` that returns a dictionary suitable to serialise the object in plain text. Yet, both refer to the same symbol: as is customary in Python, objects are best understood as _handles_ to access stuff, rather than the stuff itself."
   ]
  },
  {
   "cell_type": "markdown",
   "metadata": {},
   "source": [
    "As a result of the universe of discourse being fixed, every interpretation for the language ```bw``` shares sorts and associated constant symbols. On the other hand, the denotation of functions and predicates is subject to change. Interpretations (or models) ${\\cal M}$ of ```Tarski``` languages are objects that allow to associate with function and predicate symbols their denotation. "
   ]
  },
  {
   "cell_type": "code",
   "execution_count": null,
   "metadata": {
    "collapsed": true
   },
   "outputs": [],
   "source": [
    "M = bw.model()"
   ]
  },
  {
   "cell_type": "markdown",
   "metadata": {},
   "source": [
    "For the purposes of this example, we will set the denotation of function and predicate symbols as follows"
   ]
  },
  {
   "cell_type": "code",
   "execution_count": null,
   "metadata": {
    "collapsed": true
   },
   "outputs": [],
   "source": [
    "M.set( loc, (b1, b2)) # loc(b1) := b2\n",
    "M.set( loc, (b2, b3)) # loc(b2) := b3\n",
    "M.set( loc, (b3, table)) # loc(b3) := table\n",
    "M.set( loc, (b4, table)) # loc(b4) := table\n",
    "\n",
    "M.add( clear, b1) # clear(b1)\n",
    "M.add( clear, b4) # clear(b4)"
   ]
  },
  {
   "cell_type": "markdown",
   "metadata": {},
   "source": [
    "**Next**: [TBD]()"
   ]
  },
  {
   "cell_type": "code",
   "execution_count": null,
   "metadata": {
    "collapsed": true
   },
   "outputs": [],
   "source": []
  }
 ],
 "metadata": {
  "kernelspec": {
   "display_name": "Python 3",
   "language": "python",
   "name": "python3"
  },
  "language_info": {
   "codemirror_mode": {
    "name": "ipython",
    "version": 3
   },
   "file_extension": ".py",
   "mimetype": "text/x-python",
   "name": "python",
   "nbconvert_exporter": "python",
   "pygments_lexer": "ipython3",
   "version": "3.5.2"
  }
 },
 "nbformat": 4,
 "nbformat_minor": 2
}
