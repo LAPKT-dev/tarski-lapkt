{
 "cells": [
  {
   "cell_type": "code",
   "execution_count": 1,
   "metadata": {
    "collapsed": true
   },
   "outputs": [],
   "source": [
    "import sys\n",
    "sys.path.append('../src')\n",
    "import tarski\n",
    "from tarski.symbols import *"
   ]
  },
  {
   "cell_type": "markdown",
   "metadata": {
    "collapsed": true
   },
   "source": [
    "# Functional STRIPS"
   ]
  },
  {
   "cell_type": "markdown",
   "metadata": {},
   "source": [
    "Functional STRIPS (FSTRIPS, for short) is a classical planning language that extends STRIPS with functional systems in order to provide a number of _expressive_ **and** _computational_ advantages, such as the ability of making indirect refernce to domain objects through the use of nested terms.\n",
    "\n",
    "```Tarski``` lifts [Geffner's original restrictions]() on the language, and follows a full first-order logic approach. We will use the classical Blocks World domain as a running example."
   ]
  },
  {
   "cell_type": "markdown",
   "metadata": {},
   "source": [
    "### Problem Language"
   ]
  },
  {
   "cell_type": "markdown",
   "metadata": {},
   "source": [
    "```Tarski``` supports the formulation of FSTRIPS problems $P$ defined over a many-sorted first-order logic language with equality. We note the language associated with a prolem $P$ as ${\\cal L}(P)$.\n",
    "\n",
    "As we have seen in previous chapters of this Tutorial, ```Tarski``` languages are made up of a finite set of sorts $T$, a possibly infinite number of variables $v_{1}^t$, $v_{2}^t$,\\ldots for each sort $t \\in T$, a set $\\Phi$ of _function symbols_ and a set $\\Pi$ of _relation symbols_, assumed to include a number of symbols with fixed denotation, such as equality.\n",
    "\n",
    "We can create the language ${\\cal L}(P)$ for _Blocks World_ as follows"
   ]
  },
  {
   "cell_type": "code",
   "execution_count": 2,
   "metadata": {
    "collapsed": true
   },
   "outputs": [],
   "source": [
    "# 1. Create language to model the domain\n",
    "bw = tarski.language()"
   ]
  },
  {
   "cell_type": "markdown",
   "metadata": {},
   "source": [
    "along with types $T_{blocksworld}$,"
   ]
  },
  {
   "cell_type": "code",
   "execution_count": 3,
   "metadata": {
    "collapsed": true
   },
   "outputs": [],
   "source": [
    "# 2. Define sorts that organise the objects considered\n",
    "place = bw.sort('place')\n",
    "block = bw.sort('block', [place])"
   ]
  },
  {
   "cell_type": "markdown",
   "metadata": {},
   "source": [
    "domain specific function symbols $\\phi_{blocks world}$"
   ]
  },
  {
   "cell_type": "code",
   "execution_count": 4,
   "metadata": {
    "collapsed": true
   },
   "outputs": [],
   "source": [
    "# 3. Define functions\n",
    "loc = bw.function( 'loc', block, place )\n",
    "width = bw.function('width', place, bw.Real)\n",
    "looking_at = bw.function( 'looking_at', block )"
   ]
  },
  {
   "cell_type": "markdown",
   "metadata": {},
   "source": [
    "and domain specific predicate symbols $\\Pi_{blocksworld}$"
   ]
  },
  {
   "cell_type": "code",
   "execution_count": 5,
   "metadata": {
    "collapsed": true
   },
   "outputs": [],
   "source": [
    "# 4. Define predicates\n",
    "clear = bw.predicate( 'clear', block)"
   ]
  },
  {
   "cell_type": "markdown",
   "metadata": {},
   "source": [
    "## Problem Interpretations"
   ]
  },
  {
   "cell_type": "markdown",
   "metadata": {},
   "source": [
    "The current version of ```Tarski``` requires that the [universe of discourse](https://en.wikipedia.org/wiki/Domain_of_discourse#Universe_of_discourse) in any FSTRIPS problem $P$ is **fixed**. That is, all valid interpretations ${\\cal M}$ for ${\\cal L}(P)$ have the same universe, denoted by ${\\cal U}_P = \\{ {\\cal U}_t \\}_{t \\in T}$. It is further required that the universe ${\\cal U}_t$ of any sort $t$ is _finite_, this is a limitation of the current and provably future versions of ```Tarski```.\n",
    "\n",
    "In our model of _Blocks World_ interpretations ${\\cal M}$ for ${\\cal L}(P)$ consist of two sorts as defined above. We set ${\\cal U}_{place}$ to $\\{ b_1, b_2, b_3, b_4, table \\}$ as follows\n",
    "\n"
   ]
  },
  {
   "cell_type": "code",
   "execution_count": 6,
   "metadata": {
    "collapsed": true
   },
   "outputs": [],
   "source": [
    "table = bw.const('table', place)\n",
    "b1, b2, b3, b4 = bw.const(('b_{}'.format(k) for k in (1,2,3,4)), place)\n",
    "the_places = [table, b1, b2, b3, b4]"
   ]
  },
  {
   "cell_type": "markdown",
   "metadata": {},
   "source": [
    "that is, the set of names of objects we can place other objects on. The universe of the second sort we defined, ${\\cal U}_{blocks}$ is set to $\\{ b_1, b_2, b_3, b_4\\}$ as follows"
   ]
  },
  {
   "cell_type": "code",
   "execution_count": 7,
   "metadata": {
    "collapsed": true
   },
   "outputs": [],
   "source": [
    "b1, b2, b3, b4 = bw.const(('b_{}'.format(k) for k in (1,2,3,4)), block)\n",
    "the_blocks = [b1, b2, b3, b4]"
   ]
  },
  {
   "cell_type": "markdown",
   "metadata": {},
   "source": [
    "We note that ```the_places[1]``` and ```the_blocks[0]``` are different Python objects"
   ]
  },
  {
   "cell_type": "code",
   "execution_count": 8,
   "metadata": {
    "collapsed": false
   },
   "outputs": [
    {
     "data": {
      "text/plain": [
       "{'sort': 'place', 'symbol': 'b_1'}"
      ]
     },
     "execution_count": 8,
     "metadata": {},
     "output_type": "execute_result"
    }
   ],
   "source": [
    "the_places[1].dump()"
   ]
  },
  {
   "cell_type": "code",
   "execution_count": 9,
   "metadata": {
    "collapsed": false
   },
   "outputs": [
    {
     "data": {
      "text/plain": [
       "{'sort': 'block', 'symbol': 'b_1'}"
      ]
     },
     "execution_count": 9,
     "metadata": {},
     "output_type": "execute_result"
    }
   ],
   "source": [
    "the_blocks[0].dump()"
   ]
  },
  {
   "cell_type": "markdown",
   "metadata": {},
   "source": [
    "with different semantics, which are exposed invoking the method ```dump()``` that returns a dictionary suitable to serialise the object in plain text. Yet, both refer to the same symbol: as is customary in Python, objects are best understood as _handles_ to access stuff, rather than the stuff itself."
   ]
  },
  {
   "cell_type": "markdown",
   "metadata": {},
   "source": [
    "As a result of the universe of discourse being fixed, every interpretation for the language ```bw``` shares sorts and associated constant symbols. On the other hand, the denotation of functions and predicates is subject to change. Interpretations (or models) ${\\cal M}$ of ```Tarski``` languages are objects that allow to associate with function and predicate symbols their denotation. "
   ]
  },
  {
   "cell_type": "code",
   "execution_count": 10,
   "metadata": {
    "collapsed": true
   },
   "outputs": [],
   "source": [
    "M = bw.model()"
   ]
  },
  {
   "cell_type": "markdown",
   "metadata": {},
   "source": [
    "For the purposes of this example, we will set the denotation of function and predicate symbols as follows"
   ]
  },
  {
   "cell_type": "code",
   "execution_count": 11,
   "metadata": {
    "collapsed": true
   },
   "outputs": [],
   "source": [
    "M.set( loc, (b1, b2)) # loc(b1) := b2\n",
    "M.set( loc, (b2, b3)) # loc(b2) := b3\n",
    "M.set( loc, (b3, table)) # loc(b3) := table\n",
    "M.set( loc, (b4, table)) # loc(b4) := table\n",
    "\n",
    "M.set( width, (b1, 3.0)) # width(b1) := 3.0\n",
    "M.set( width, (b2, 2.0)) # width(b2) := 2.0\n",
    "M.set( width, (b3, 1.0)) # width(b3) := 1.0\n",
    "M.set( width, (b4, 0.5)) # width(b4) := 0.5\n",
    "\n",
    "M.set( looking_at, table) # looking_at() := table\n",
    "\n",
    "M.add( clear, b1) # clear(b1)\n",
    "M.add( clear, b4) # clear(b4)"
   ]
  },
  {
   "cell_type": "markdown",
   "metadata": {},
   "source": [
    "## Action Schemas"
   ]
  },
  {
   "cell_type": "markdown",
   "metadata": {},
   "source": [
    "A Functional STRIPS _action schema_ $a$ is **defined** by:\n",
    " - a _name_, an alphanumeric identifier,\n",
    " - a _signature_ $(v_1,\\ldots,v_n)$, where each $v_i$ is a variable of some sort $T$,\n",
    " - a _precondition_ formula $\\mathrm{pre}(a)$, an arbitrary formula over ${\\cal L}(P)$,\n",
    " - a set of _conditional effects_ $\\mathrm{effs}(a)$\n",
    " \n",
    "Each effect $e \\in \\mathrm{effs}(a)$ can be either a _relational_ or _functional_ effect. Actions have _unspecified_ durations, measured as number of _time steps_ $dur(a)$. In Classical FSTRIPS problems durations of all actions are $1$, Differential FSTRIPS problems allow $dur(a)$ to be fixed to or bounded by an arbitrary constant."
   ]
  },
  {
   "cell_type": "markdown",
   "metadata": {},
   "source": [
    "### Relational Effects\n",
    "\n",
    "Relational effects of actions $a$ specify _general_ properties states _must_ have after the action has been executed. The current version of ```Tarski``` requires relational effects to be of the form\n",
    "\n",
    "$$\n",
    "\\phi \\rightarrow L\n",
    "$$\n",
    "\n",
    "where $\\phi$ is an arbitrary formula over ${\\cal L}(P)$ and $L$ is a **literal**. Literals are _atomic formulas_ $R(\\bar{t})$ or their negation, $\\neg R(\\bar{t})$. In the first case, we say that the effect is an _add effect_, in the second, a _delete effect_.\n"
   ]
  },
  {
   "cell_type": "markdown",
   "metadata": {},
   "source": [
    "### Functional Effects\n",
    "\n",
    "Functional effects of actions $a$ allow actions to set _directly_ the denotation of a given functional symbol $f(\\bar{t})$ in states resulting from $a$ being done. ```Tarski``` current implementation of Functional STRIPS requires these effects to have the form\n",
    "\n",
    "$$\n",
    "\\phi \\rightarrow f(\\bar{t}) := w\n",
    "$$\n",
    "\n",
    "where $w$ is an **arbitrary** term. $f(\\bar{t})$ is made up of a function symbol $f$, of whatever arity, over a tuple of terms $\\bar{t}$ of appropiate size and type. The types of the term $w$ and symbol $f$ must coincide."
   ]
  },
  {
   "cell_type": "markdown",
   "metadata": {},
   "source": [
    "### Constructing action schemas with ```Tarski```\n",
    "\n"
   ]
  },
  {
   "cell_type": "code",
   "execution_count": 12,
   "metadata": {
    "collapsed": false
   },
   "outputs": [],
   "source": [
    "import tarski.fstrips\n",
    "\n",
    "with bw.var('dest', block) as dest :\n",
    "    tarski.fstrips.action(bw, name='move', \\\n",
    "                         parameters=[dest], \\\n",
    "                         precondition=land(clear(looking_at()), clear(dest), width(looking_at()) < width(dest)),\n",
    "                         effects = [\n",
    "                                    neg(clear(dest)), loc(looking_at()) == dest\n",
    "                                   ])"
   ]
  },
  {
   "cell_type": "markdown",
   "metadata": {},
   "source": [
    "**Next**: [TBD]()"
   ]
  },
  {
   "cell_type": "code",
   "execution_count": null,
   "metadata": {
    "collapsed": true
   },
   "outputs": [],
   "source": []
  }
 ],
 "metadata": {
  "kernelspec": {
   "display_name": "Python 3",
   "language": "python",
   "name": "python3"
  },
  "language_info": {
   "codemirror_mode": {
    "name": "ipython",
    "version": 3
   },
   "file_extension": ".py",
   "mimetype": "text/x-python",
   "name": "python",
   "nbconvert_exporter": "python",
   "pygments_lexer": "ipython3",
   "version": "3.6.0"
  }
 },
 "nbformat": 4,
 "nbformat_minor": 2
}
