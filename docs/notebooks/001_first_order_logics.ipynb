{
 "cells": [
  {
   "cell_type": "markdown",
   "metadata": {},
   "source": [
    "\n",
    "# First-Order Logics & Planning\n",
    "\n",
    "A number of classical planning representation languages such as `STRIPS` or `Functional STRIPS` have firm roots\n",
    "in the logical tradition and use, to different degrees, the notion of\n",
    "[first-order language](https://en.wikipedia.org/wiki/First-order_logic)\n",
    "in order to succinctly encode the dynamics of the planning problem to be studied.\n",
    "`Tarski` also builds on these ideas and makes a clear distinction between the first-order language\n",
    "used to define a problem and the actual problem itself.\n",
    "\n",
    "\n",
    "## Many-sorted languages\n",
    "\n",
    "A many sorted logic is one in which the universe of discourse is divided into subsets, called *sorts*, rather than being an homogenous set. \n",
    "This is achieved by specifying $S$ a set of *sort symbols*, each of which denotes a non-empty set of the universe.\n",
    "\n",
    "Definining sorts in `Tarski` is straightforward, we start instantiating the first-order language"
   ]
  },
  {
   "cell_type": "code",
   "execution_count": null,
   "metadata": {
    "pycharm": {
     "name": "#%%\n"
    }
   },
   "outputs": [],
   "source": [
    "import tarski"
   ]
  },
  {
   "cell_type": "code",
   "execution_count": null,
   "metadata": {
    "pycharm": {
     "name": "#%%\n"
    }
   },
   "outputs": [],
   "source": [
    "fol = tarski.language(theories=['equality', 'arithmetic'])"
   ]
  },
  {
   "cell_type": "markdown",
   "metadata": {},
   "source": [
    "which will be acting as our facade to all things FOL."
   ]
  },
  {
   "cell_type": "markdown",
   "metadata": {},
   "source": [
    "In our model of _Blocks World_ we will consider two sorts, _block_ and _place_"
   ]
  },
  {
   "cell_type": "code",
   "execution_count": null,
   "metadata": {
    "pycharm": {
     "name": "#%%\n"
    }
   },
   "outputs": [],
   "source": [
    "block = fol.sort('block')"
   ]
  },
  {
   "cell_type": "code",
   "execution_count": null,
   "metadata": {
    "pycharm": {
     "name": "#%%\n"
    }
   },
   "outputs": [],
   "source": [
    "place = fol.sort('place')"
   ]
  },
  {
   "cell_type": "markdown",
   "metadata": {},
   "source": [
    "`Tarski` allows to specify many sorted logics which only contemplate definitional hierarchies, hence sorts do not have _default_ symbols. Empty sorts are **not** allowed, and the `well_formed` method will raise an exception if a sort is found to be $\\emptyset$."
   ]
  },
  {
   "cell_type": "code",
   "execution_count": null,
   "metadata": {
    "pycharm": {
     "name": "#%%\n"
    }
   },
   "outputs": [],
   "source": [
    "# uncomment the following line and execute this cell, you should get an exception of type LanguageError\n",
    "#fol.check_well_formed()\n"
   ]
  },
  {
   "cell_type": "markdown",
   "metadata": {},
   "source": [
    "### Providing sorts with content"
   ]
  },
  {
   "cell_type": "markdown",
   "metadata": {},
   "source": [
    "Sorts are made of _constant symbols_, the following statement"
   ]
  },
  {
   "cell_type": "code",
   "execution_count": null,
   "metadata": {
    "pycharm": {
     "name": "#%%\n"
    }
   },
   "outputs": [],
   "source": [
    "b1 = fol.constant('b1', block)"
   ]
  },
  {
   "cell_type": "markdown",
   "metadata": {},
   "source": [
    "introduces the constant symbol _'b1'_ into sort _block_, which we have declared above. A language can have several sorts, with their own constants"
   ]
  },
  {
   "cell_type": "code",
   "execution_count": null,
   "metadata": {
    "pycharm": {
     "name": "#%%\n"
    }
   },
   "outputs": [],
   "source": [
    "table = fol.constant('table', place)"
   ]
  },
  {
   "cell_type": "markdown",
   "metadata": {},
   "source": [
    "We can declare a bunch of blocks easily too"
   ]
  },
  {
   "cell_type": "code",
   "execution_count": null,
   "metadata": {
    "pycharm": {
     "name": "#%%\n"
    }
   },
   "outputs": [],
   "source": [
    "b2, b3 = [fol.constant( 'b_{}'.format(k), block ) for k in (2,3)]"
   ]
  },
  {
   "cell_type": "markdown",
   "metadata": {},
   "source": [
    "by using a [generator expression](https://stackoverflow.com/questions/6416538/how-to-check-if-an-object-is-a-generator-object-in-python) to enumerate efficiently the names of the constants we want to introduce to sorts."
   ]
  },
  {
   "cell_type": "markdown",
   "metadata": {},
   "source": [
    "At any point, we can take a look at the contents of sorts declared"
   ]
  },
  {
   "cell_type": "code",
   "execution_count": null,
   "metadata": {
    "pycharm": {
     "name": "#%%\n"
    }
   },
   "outputs": [],
   "source": [
    "fol.dump()['sorts']"
   ]
  },
  {
   "cell_type": "markdown",
   "metadata": {},
   "source": [
    "as well as any _built-in_ sorts."
   ]
  },
  {
   "cell_type": "markdown",
   "metadata": {},
   "source": [
    "### Built-in sorts"
   ]
  },
  {
   "cell_type": "markdown",
   "metadata": {},
   "source": [
    "Every language created with `Tarski` contains a number of _built-in_ sorts that allow modellers to account for algebraic relations and geometric concepts without having to define everything from first principles. At the time of writing this, every `Tarski` language comes with the following built-in sorts\n",
    " \n",
    "  - `Real` - the set of real numbers $\\mathbb{R}$\n",
    "  - `Integer` - the set of integer numbers $\\mathbb{Z}$\n",
    "  - `Natural` - the set of natural numbers $\\mathbb{N}$\n",
    "  \n",
    "These are represented as closed _intervals_ will well defined _lower_ and _upper_ bounds (the numbers specified in the domain). We cannot introduce symbols into built-in sorts, but we can _refer_ to them with Python variables"
   ]
  },
  {
   "cell_type": "code",
   "execution_count": null,
   "metadata": {
    "pycharm": {
     "name": "#%%\n"
    }
   },
   "outputs": [],
   "source": [
    "x0 = fol.constant( 3, fol.Real )\n",
    "print(x0)"
   ]
  },
  {
   "cell_type": "code",
   "execution_count": null,
   "metadata": {
    "pycharm": {
     "name": "#%%\n"
    }
   },
   "outputs": [],
   "source": [
    "fol.Real.builtin"
   ]
  },
  {
   "cell_type": "markdown",
   "metadata": {},
   "source": [
    "or"
   ]
  },
  {
   "cell_type": "code",
   "execution_count": null,
   "metadata": {
    "pycharm": {
     "name": "#%%\n"
    }
   },
   "outputs": [],
   "source": [
    "magic = fol.constant( 42, fol.Integer)\n",
    "print(magic)"
   ]
  },
  {
   "cell_type": "markdown",
   "metadata": {},
   "source": [
    "or even"
   ]
  },
  {
   "cell_type": "code",
   "execution_count": null,
   "metadata": {
    "pycharm": {
     "name": "#%%\n"
    }
   },
   "outputs": [],
   "source": [
    "import numpy as np\n",
    "pi = fol.constant( np.pi, fol.Real)\n",
    "print(pi)"
   ]
  },
  {
   "cell_type": "markdown",
   "metadata": {},
   "source": [
    "### Intervals"
   ]
  },
  {
   "cell_type": "markdown",
   "metadata": {},
   "source": [
    "So far the kind of sorts we have seen are either _sets_ defined arbitrarily, or an infinite subset of the ${\\mathbb R}$ continuum (e.g. `Real` is actually a subset of the rationals ${\\mathbb{Q}}$). One special case of sort is that which is a subset of the Cartesian product of its domain with itself, which we refer to as _intervals_. These subsets are assumed to be _dense_, and allow to represent without loss of generality sorts like\n",
    "\n",
    "$$\n",
    "I \\equiv [a,b],\\ \\text{where}\\, a,b \\in {\\mathbb Z}\n",
    "$$\n",
    "\n",
    "or some other built-in sort.\n",
    "\n",
    "We can declare the interval sort for $[0,10]$ where $0$ and $10$ are taken to be integers as follows"
   ]
  },
  {
   "cell_type": "code",
   "execution_count": null,
   "metadata": {
    "pycharm": {
     "name": "#%%\n"
    }
   },
   "outputs": [],
   "source": [
    "I = fol.interval('I', fol.Integer, 0, 10)"
   ]
  },
  {
   "cell_type": "markdown",
   "metadata": {},
   "source": [
    "Constants are then given as in the unrestricted case"
   ]
  },
  {
   "cell_type": "code",
   "execution_count": null,
   "metadata": {
    "pycharm": {
     "name": "#%%\n"
    }
   },
   "outputs": [],
   "source": [
    "one = fol.constant(1, I)"
   ]
  },
  {
   "cell_type": "markdown",
   "metadata": {},
   "source": [
    "Trying to creat constants of interval types which aren't consistent with the declared bounds will result in an exception"
   ]
  },
  {
   "cell_type": "code",
   "execution_count": null,
   "metadata": {
    "pycharm": {
     "name": "#%%\n"
    }
   },
   "outputs": [],
   "source": [
    "try:\n",
    "    fol.constant(-2, I)\n",
    "except ValueError as err:\n",
    "    print(\"Caught exception: {}\".format(err))"
   ]
  },
  {
   "cell_type": "markdown",
   "metadata": {},
   "source": [
    "### A Hierarchy of Sorts"
   ]
  },
  {
   "cell_type": "markdown",
   "metadata": {},
   "source": [
    "Sorts associated to a language can be arranged as per hierarchy, specifying the partial ordering relation $\\sqsubseteq$ to hold between two given sorts $\\alpha$ and $\\beta$"
   ]
  },
  {
   "cell_type": "code",
   "execution_count": null,
   "metadata": {
    "pycharm": {
     "name": "#%%\n"
    }
   },
   "outputs": [],
   "source": [
    "alpha = fol.sort('alpha')"
   ]
  },
  {
   "cell_type": "code",
   "execution_count": null,
   "metadata": {
    "pycharm": {
     "name": "#%%\n"
    }
   },
   "outputs": [],
   "source": [
    "beta = fol.sort('beta', alpha)"
   ]
  },
  {
   "cell_type": "markdown",
   "metadata": {},
   "source": [
    "The _parent_ of $\\beta$, that is, the sort $\\alpha$ s.t. $\\alpha \\sqsubseteq \\beta$, is accessible via the method `parent`"
   ]
  },
  {
   "cell_type": "code",
   "execution_count": null,
   "metadata": {
    "pycharm": {
     "name": "#%%\n"
    }
   },
   "outputs": [],
   "source": [
    "print(\"Parent of {} is {}\".format(beta, tarski.syntax.sorts.parent(beta)))"
   ]
  },
  {
   "cell_type": "markdown",
   "metadata": {},
   "source": [
    "For built-in sorts, this relationship is already defined as expected"
   ]
  },
  {
   "cell_type": "code",
   "execution_count": null,
   "metadata": {
    "pycharm": {
     "name": "#%%\n"
    }
   },
   "outputs": [],
   "source": [
    "R = fol.Real\n",
    "\n",
    "print(\"Parent of {} is {}\".format(R, tarski.syntax.sorts.parent(R)))"
   ]
  },
  {
   "cell_type": "code",
   "execution_count": null,
   "metadata": {
    "pycharm": {
     "name": "#%%\n"
    }
   },
   "outputs": [],
   "source": [
    "Z = fol.Integer\n",
    "\n",
    "print(\"Parent of {} is {}\".format(Z, tarski.syntax.sorts.parent(Z)))"
   ]
  },
  {
   "cell_type": "code",
   "execution_count": null,
   "metadata": {
    "pycharm": {
     "name": "#%%\n"
    }
   },
   "outputs": [],
   "source": [
    "N = fol.Natural\n",
    "\n",
    "print(\"Parent of {} is {}\".format(N, tarski.syntax.sorts.parent(N)))"
   ]
  },
  {
   "cell_type": "markdown",
   "metadata": {},
   "source": [
    "## Constants, Functions and Predicates"
   ]
  },
  {
   "cell_type": "markdown",
   "metadata": {},
   "source": [
    "Let's start populating the language `bw` for describing instances of Blocks World"
   ]
  },
  {
   "cell_type": "code",
   "execution_count": null,
   "metadata": {
    "pycharm": {
     "name": "#%%\n"
    }
   },
   "outputs": [],
   "source": [
    "import tarski\n",
    "import tarski.errors as err"
   ]
  },
  {
   "cell_type": "code",
   "execution_count": null,
   "metadata": {
    "pycharm": {
     "name": "#%%\n"
    }
   },
   "outputs": [],
   "source": [
    "bw = tarski.language()"
   ]
  },
  {
   "cell_type": "markdown",
   "metadata": {},
   "source": [
    "Blocks Worlds are made of objects of two sorts:"
   ]
  },
  {
   "cell_type": "code",
   "execution_count": null,
   "metadata": {
    "pycharm": {
     "name": "#%%\n"
    }
   },
   "outputs": [],
   "source": [
    "place = bw.sort('place')"
   ]
  },
  {
   "cell_type": "markdown",
   "metadata": {},
   "source": [
    "and"
   ]
  },
  {
   "cell_type": "code",
   "execution_count": null,
   "metadata": {
    "pycharm": {
     "name": "#%%\n"
    }
   },
   "outputs": [],
   "source": [
    "block = bw.sort('block', place)"
   ]
  },
  {
   "cell_type": "markdown",
   "metadata": {},
   "source": [
    "We populate our instance with a few blocks"
   ]
  },
  {
   "cell_type": "code",
   "execution_count": null,
   "metadata": {
    "pycharm": {
     "name": "#%%\n"
    }
   },
   "outputs": [],
   "source": [
    "b1, b2, b3, b4 = [ bw.constant('b_{}'.format(k), block )  for k in (1,2,3,4) ]"
   ]
  },
  {
   "cell_type": "markdown",
   "metadata": {},
   "source": [
    "and a table"
   ]
  },
  {
   "cell_type": "code",
   "execution_count": null,
   "metadata": {
    "pycharm": {
     "name": "#%%\n"
    }
   },
   "outputs": [],
   "source": [
    "table = bw.constant('table', place)"
   ]
  },
  {
   "cell_type": "markdown",
   "metadata": {},
   "source": [
    "### Functions"
   ]
  },
  {
   "cell_type": "markdown",
   "metadata": {},
   "source": [
    "Function symbols $f$ are used to represent mappings between several sorts $\\tau$. Formally, we will define $f$ as mappings\n",
    "\n",
    "$$\n",
    "f : \\tau_1, \\ldots, \\tau_n \\mapsto \\tau_{n+1}\n",
    "$$\n",
    "\n",
    "Functions $f$ have _arity_ $n \\geq 0$, their _domain_ is the cartesian product $\\tau_1 \\times \\tau_2 \\ldots \\times \\tau_n$ and their _codomain_ is the sort $\\tau_{n+1}$. The _signature_ $\\sigma_f$ of $f$ corresponds with the tuple\n",
    "\n",
    "$$\n",
    "(f, \\tau_1, \\ldots, \\tau_n, \\tau_{n+1})\n",
    "$$\n",
    "\n",
    "and allows to uniquely identify a function: `Tarski` doesn't allow languages with functions $f$ and $f'$ such that $\\sigma_f$ $=$ $\\sigma_{f'}$."
   ]
  },
  {
   "cell_type": "markdown",
   "metadata": {},
   "source": [
    "For Blocks World we can define the function $loc: block \\mapsto place$, which we use to refer indirectly to the object a given block is _on top of_ at any point in time"
   ]
  },
  {
   "cell_type": "code",
   "execution_count": null,
   "metadata": {
    "pycharm": {
     "name": "#%%\n"
    }
   },
   "outputs": [],
   "source": [
    "loc = bw.function('loc', block, place)"
   ]
  },
  {
   "cell_type": "markdown",
   "metadata": {},
   "source": [
    "We note that the arguments of this method correspond with the components of a function signature, hence"
   ]
  },
  {
   "cell_type": "code",
   "execution_count": null,
   "metadata": {
    "pycharm": {
     "name": "#%%\n"
    }
   },
   "outputs": [],
   "source": [
    "print('Domain of {}: {}'.format(loc, loc.domain))\n",
    "print('Codomain of {}: {}'.format(loc, loc.codomain))\n",
    "print('Type of {}: {}'.format(loc, loc.sort))\n",
    "print('Arity of {} : {}'.format(loc, loc.arity))"
   ]
  },
  {
   "cell_type": "markdown",
   "metadata": {},
   "source": [
    "Printing function objects indicates the arity (number of arguments) the function was declared with, following the convention typically used in Prolog.\n"
   ]
  },
  {
   "cell_type": "markdown",
   "metadata": {},
   "source": [
    "### Predicates as Relation Symbols\n",
    "Relations between objects and intrinsic properties of objects are modelled by means of _relation symbols_ or _predicates_."
   ]
  },
  {
   "cell_type": "code",
   "execution_count": null,
   "metadata": {
    "pycharm": {
     "name": "#%%\n"
    }
   },
   "outputs": [],
   "source": [
    "clear = bw.predicate('clear', block )"
   ]
  },
  {
   "cell_type": "markdown",
   "metadata": {},
   "source": [
    "By default, `Tarski` languages do not define implictly any kind of builtin predicate or function. For instance, \n",
    "if we try to write something like"
   ]
  },
  {
   "cell_type": "code",
   "execution_count": null,
   "metadata": {
    "pycharm": {
     "name": "#%%\n"
    }
   },
   "outputs": [],
   "source": [
    "try:\n",
    "    b1 == b2\n",
    "except err.LanguageError as e:\n",
    "    print(f\"Caught exception {e}\")\n",
    "    "
   ]
  },
  {
   "cell_type": "markdown",
   "metadata": {},
   "source": [
    "For that we need to explicitly attach _theories_ to our language, as shown later.\n"
   ]
  },
  {
   "cell_type": "markdown",
   "metadata": {},
   "source": [
    "## Terms and Formulas"
   ]
  },
  {
   "cell_type": "markdown",
   "metadata": {},
   "source": [
    "Now we have all the elements to formally define `Tarski` languages:"
   ]
  },
  {
   "cell_type": "markdown",
   "metadata": {},
   "source": [
    "**Definition** (Many-Sorted First-Order Language). A _many-sorted_ _first-order_ language ${\\cal L}$ is made up of:\n",
    " - A non-empty set $T$ of _sorts_\n",
    " - An _infinite number_ of _variables_ $x_{1}^{\\tau}, x_{2}^{\\tau}, \\ldots$ for each short $\\tau \\in T$\n",
    " - For each $n \\geq 0$ and each tuple $(\\tau_1, \\ldots, \\tau_{n+1}) \\in T^{n+1}$ of sorts, a (possibly empty) set of _function_ symbols, each of which is said to have _arity_ and _type_ $(\\tau_1, \\ldots, \\tau_{n+1})$\n",
    " - For each $n \\geq 0$ and each tuple $(\\tau_1, \\ldots, \\tau_{n+1}) \\in T^{n}$ of sorts, a (possibly empty) set of _relation_ symbols (predicates), each of which is said to have _arity_ and _type_ $(\\tau_1, \\ldots, \\tau_{n})$"
   ]
  },
  {
   "cell_type": "markdown",
   "metadata": {},
   "source": [
    "Continuing with our `Blocks World` themed example"
   ]
  },
  {
   "cell_type": "code",
   "execution_count": null,
   "metadata": {
    "pycharm": {
     "name": "#%%\n"
    }
   },
   "outputs": [],
   "source": [
    "import tarski\n",
    "from tarski.syntax import *\n",
    "from tarski.theories import Theory\n",
    "\n",
    "# 1. Create language used to describe world states and transitions\n",
    "bw = tarski.language(theories=[Theory.EQUALITY, Theory.ARITHMETIC])\n",
    "\n",
    "# 2. Define sorts\n",
    "place = bw.sort('place')\n",
    "block = bw.sort('block', place)\n",
    "\n",
    "# 3. Define functions\n",
    "loc = bw.function( 'loc', block, place )\n",
    "looking_at = bw.function( 'looking_at', block )\n",
    "\n",
    "# 4. Define predicates\n",
    "clear = bw.predicate( 'clear', block)"
   ]
  },
  {
   "cell_type": "markdown",
   "metadata": {},
   "source": [
    "We introduce the function $width(b)$ for blocks $b$, this will allow us to specify Hanoi Towers like tasks"
   ]
  },
  {
   "cell_type": "code",
   "execution_count": null,
   "metadata": {
    "pycharm": {
     "name": "#%%\n"
    }
   },
   "outputs": [],
   "source": [
    "width = bw.function('width', block, bw.Real)"
   ]
  },
  {
   "cell_type": "markdown",
   "metadata": {},
   "source": [
    "_Constants_ are 0-arity functions, whose sort $\\tau$ is a set with one single element. Hence, we handle them separately, as we specialise their representation"
   ]
  },
  {
   "cell_type": "code",
   "execution_count": null,
   "metadata": {
    "pycharm": {
     "name": "#%%\n"
    }
   },
   "outputs": [],
   "source": [
    "# 5. Define constants\n",
    "b1, b2, b3, b4 = [ bw.constant('b_{}'.format(k), block) for k in (1,2,3,4) ]\n",
    "table = bw.constant('table', place)"
   ]
  },
  {
   "cell_type": "markdown",
   "metadata": {},
   "source": [
    "### (First-Order) Terms"
   ]
  },
  {
   "cell_type": "markdown",
   "metadata": {},
   "source": [
    "Combinations of variables, functions and constants are called _terms_, and the rules for constructing them are given inductively:"
   ]
  },
  {
   "cell_type": "markdown",
   "metadata": {},
   "source": [
    "**Definition** (First-Order Terms). A term $t$ can be:\n",
    "\n",
    " - Any variable $x^{\\tau}$ of the language can be a term $t$ with type $\\tau$\n",
    " - Any constant symbol of the language with type $\\tau$ is a term with the same type\n",
    " - If $t_1, \\ldots, t_n$ are terms with respective types $\\tau_1, \\ldots, \\tau_n$ and $f$ is a _function_ symbol with type $(\\tau_1, \\ldots, \\tau_n, \\tau{n+1})$ then $f(t_1,\\ldots,t_n)$ is a term with type $\\tau_{n+1}$."
   ]
  },
  {
   "cell_type": "markdown",
   "metadata": {},
   "source": [
    "Terms are implemented as Python objects. Every constant symbol is an instance of `Term`"
   ]
  },
  {
   "cell_type": "code",
   "execution_count": null,
   "metadata": {
    "pycharm": {
     "name": "#%%\n"
    }
   },
   "outputs": [],
   "source": [
    "from tarski import Term\n",
    "\n",
    "isinstance(b1,Term)"
   ]
  },
  {
   "cell_type": "markdown",
   "metadata": {},
   "source": [
    "Function symbols allow to nest terms, thus "
   ]
  },
  {
   "cell_type": "code",
   "execution_count": null,
   "metadata": {
    "pycharm": {
     "name": "#%%\n"
    }
   },
   "outputs": [],
   "source": [
    "t1 = loc(b1)\n",
    "isinstance(t1,Term)"
   ]
  },
  {
   "cell_type": "code",
   "execution_count": null,
   "metadata": {
    "pycharm": {
     "name": "#%%\n"
    }
   },
   "outputs": [],
   "source": [
    "x = bw.variable('x', block)\n",
    "t2 = loc(x)\n",
    "isinstance(t2,Term)"
   ]
  },
  {
   "cell_type": "code",
   "execution_count": null,
   "metadata": {
    "pycharm": {
     "name": "#%%\n"
    }
   },
   "outputs": [],
   "source": [
    "t3 = loc(looking_at())\n",
    "isinstance(t3,Term)"
   ]
  },
  {
   "cell_type": "markdown",
   "metadata": {},
   "source": [
    "are all terms. `Tarski` textual representation of variables is a bit different"
   ]
  },
  {
   "cell_type": "code",
   "execution_count": null,
   "metadata": {
    "pycharm": {
     "name": "#%%\n"
    }
   },
   "outputs": [],
   "source": [
    "print('{}, type: {}'.format(t1, t1.sort))\n",
    "print('{}, type: {}'.format(t2, t2.sort))\n",
    "print('{}, type: {}'.format(t3, t3.sort))"
   ]
  },
  {
   "cell_type": "markdown",
   "metadata": {},
   "source": [
    "in order to make distinct variables from constants, the former are printed with the prefix `?`. "
   ]
  },
  {
   "cell_type": "markdown",
   "metadata": {},
   "source": [
    "### Formulas"
   ]
  },
  {
   "cell_type": "markdown",
   "metadata": {},
   "source": [
    "Formulas (statements that can be either `True` or `False`) are defined also inductively as follows:"
   ]
  },
  {
   "cell_type": "markdown",
   "metadata": {},
   "source": [
    "**Definition** (First-Order Formulas).\n",
    "\n",
    " - If $t_1$ and $t_2$ are two terms with the same type, then $t_1 = t_2$ is an _atomic formula_.\n",
    " \n",
    " - If $t_1,\\ldots,t_n$ are terms with respective types $\\tau_1,\\ldots,\\tau_n$, and $R$ is a relation symbol with type $(\\tau_1,\\ldots,\\tau_n)$, then $R(t_1,\\ldots,t_n)$ is an atomic formula too.\n",
    " \n",
    " - If $\\phi_1$ and $\\phi_2$ are formulas then $\\neg \\phi_1$, $\\phi_1 \\lor \\phi_2$ and $\\phi_1 \\land \\phi_2$ are also formulas.\n",
    " \n",
    " - If $\\phi$ is a formula, then $\\exists_t x^{\\tau}\\, \\phi$ and $\\forall_t x^{\\tau}\\, \\phi$ are also formulas."
   ]
  },
  {
   "cell_type": "markdown",
   "metadata": {},
   "source": [
    "Quantification happens over a certain sort, i.e. for each sort $\\tau$ $\\in$ $T$ there are universal and existential quantifier symbols $\\forall_{\\tau}$ and $\\exists_{\\tau}$, which may be applied to variables of the same sort."
   ]
  },
  {
   "cell_type": "markdown",
   "metadata": {},
   "source": [
    "Formulas without existential ($\\exists$) or universal ($\\forall$) quantifiers are called _quantifier free_."
   ]
  },
  {
   "cell_type": "markdown",
   "metadata": {},
   "source": [
    "### Examples"
   ]
  },
  {
   "cell_type": "markdown",
   "metadata": {},
   "source": [
    "We can define the formula $t_1 = t_3$ - terms $t_1$ and $t_3$ are equal - with the following statement"
   ]
  },
  {
   "cell_type": "code",
   "execution_count": null,
   "metadata": {
    "pycharm": {
     "name": "#%%\n"
    }
   },
   "outputs": [],
   "source": [
    "tau = t1 == t3"
   ]
  },
  {
   "cell_type": "markdown",
   "metadata": {},
   "source": [
    "The `str()` method is overwritten for every term and formula class, returning a string representation of expression, which gives insight into how Tarski represents internally formulas and expressions"
   ]
  },
  {
   "cell_type": "code",
   "execution_count": null,
   "metadata": {
    "pycharm": {
     "name": "#%%\n"
    }
   },
   "outputs": [],
   "source": [
    "str(tau)"
   ]
  },
  {
   "cell_type": "markdown",
   "metadata": {},
   "source": [
    "We need a new variable so we can make general statements about more than one block"
   ]
  },
  {
   "cell_type": "code",
   "execution_count": null,
   "metadata": {
    "pycharm": {
     "name": "#%%\n"
    }
   },
   "outputs": [],
   "source": [
    "y = bw.variable('y', block)"
   ]
  },
  {
   "cell_type": "markdown",
   "metadata": {},
   "source": [
    "Now we can state properties of states like _for every block x, x cannot be wider than the place below_\n",
    "\n",
    "$$\n",
    "\\forall x,y\\, loc(x) = y \\supset width(x) < width(y)\n",
    "$$\n",
    "\n",
    "which can be written as"
   ]
  },
  {
   "cell_type": "code",
   "execution_count": null,
   "metadata": {
    "pycharm": {
     "name": "#%%\n"
    }
   },
   "outputs": [],
   "source": [
    "phi = forall( x, y, implies( loc(x) == y, width(x) < width(y) ) )"
   ]
  },
  {
   "cell_type": "markdown",
   "metadata": {},
   "source": [
    "which is represented internally"
   ]
  },
  {
   "cell_type": "code",
   "execution_count": null,
   "metadata": {
    "pycharm": {
     "name": "#%%\n"
    }
   },
   "outputs": [],
   "source": [
    "str(phi)"
   ]
  },
  {
   "cell_type": "markdown",
   "metadata": {},
   "source": [
    "It's worth noting that Tarski will always try to simplify formulas. For instance, the sub-formula \n",
    "\n",
    "$$ \n",
    "loc(x) = y \\supset width(x) < width(y)\n",
    "$$\n",
    "\n",
    "was transformed into the disjunction\n",
    "\n",
    "$$\n",
    "loc(x) \\neq y \\lor width(x) < width(y)\n",
    "$$\n",
    "\n",
    "using the transformation \n",
    "\n",
    "$$\n",
    "p \\supset q \\equiv \\neg p \\lor q\n",
    "$$"
   ]
  },
  {
   "cell_type": "markdown",
   "metadata": {},
   "source": [
    "We can use the operator `>` instead of the function `implies()`, if a more concise syntax is preferred."
   ]
  },
  {
   "cell_type": "code",
   "execution_count": null,
   "metadata": {
    "pycharm": {
     "name": "#%%\n"
    }
   },
   "outputs": [],
   "source": [
    "phi = forall( x, y, (loc(x) == y) > (width(x) < width(y)) )"
   ]
  },
  {
   "cell_type": "markdown",
   "metadata": {},
   "source": [
    "We can write the conjunctive  formula\n",
    "\n",
    "$$\n",
    "loc(b1) \\neq loc(b2) \\land loc(b1) \\neq loc(b3)\n",
    "$$\n",
    "\n",
    "in several ways. One is using the `land` function"
   ]
  },
  {
   "cell_type": "code",
   "execution_count": null,
   "metadata": {
    "pycharm": {
     "name": "#%%\n"
    }
   },
   "outputs": [],
   "source": [
    "phi = land( loc(b1) != loc(b2), loc(b1) != loc(b3))"
   ]
  },
  {
   "cell_type": "markdown",
   "metadata": {},
   "source": [
    "or the operator `&`"
   ]
  },
  {
   "cell_type": "code",
   "execution_count": null,
   "metadata": {
    "pycharm": {
     "name": "#%%\n"
    }
   },
   "outputs": [],
   "source": [
    "phi = (loc(b1) != loc(b2)) & (loc(b1) != loc(b3))"
   ]
  },
  {
   "cell_type": "markdown",
   "metadata": {},
   "source": [
    "Another state invariant like \n",
    "\n",
    "$$\n",
    "loc(b1) = b2 \\lor loc(b1) = b3\n",
    "$$\n",
    "\n",
    "can be written as"
   ]
  },
  {
   "cell_type": "code",
   "execution_count": null,
   "metadata": {
    "pycharm": {
     "name": "#%%\n"
    }
   },
   "outputs": [],
   "source": [
    "phi = lor( loc(b1) == b2, loc(b1) == b3 )"
   ]
  },
  {
   "cell_type": "markdown",
   "metadata": {},
   "source": [
    "or"
   ]
  },
  {
   "cell_type": "code",
   "execution_count": null,
   "metadata": {
    "pycharm": {
     "name": "#%%\n"
    }
   },
   "outputs": [],
   "source": [
    "phi = (loc(b1)==b2) | (loc(b1)==b3)"
   ]
  },
  {
   "cell_type": "markdown",
   "metadata": {},
   "source": [
    "Finally, the formula \n",
    "\n",
    "$$\n",
    "loc(b1) = b2 \\supset \\neg clear(b2)\n",
    "$$"
   ]
  },
  {
   "cell_type": "markdown",
   "metadata": {},
   "source": [
    "can be written as "
   ]
  },
  {
   "cell_type": "code",
   "execution_count": null,
   "metadata": {
    "pycharm": {
     "name": "#%%\n"
    }
   },
   "outputs": [],
   "source": [
    "phi=implies( loc(b1) == b2, neg(clear(b2)))\n",
    "str(phi)"
   ]
  },
  {
   "cell_type": "markdown",
   "metadata": {},
   "source": [
    "or, alternatively the `~` unary operator can be used instead of `neg`"
   ]
  },
  {
   "cell_type": "code",
   "execution_count": null,
   "metadata": {
    "pycharm": {
     "name": "#%%\n"
    }
   },
   "outputs": [],
   "source": [
    "phi = implies( loc(b1) == b2, ~clear(b2))\n",
    "str(phi)\n",
    "\n"
   ]
  }
 ],
 "metadata": {
  "kernelspec": {
   "display_name": "Python 3",
   "language": "python",
   "name": "python3"
  },
  "language_info": {
   "codemirror_mode": {
    "name": "ipython",
    "version": 3
   },
   "file_extension": ".py",
   "mimetype": "text/x-python",
   "name": "python",
   "nbconvert_exporter": "python",
   "pygments_lexer": "ipython3",
   "version": "3.6.9"
  },
  "pycharm": {
   "stem_cell": {
    "cell_type": "raw",
    "source": [],
    "metadata": {
     "collapsed": false
    }
   }
  }
 },
 "nbformat": 4,
 "nbformat_minor": 2
}