{
 "cells": [
  {
   "cell_type": "markdown",
   "metadata": {},
   "source": [
    "## Semantics of First-Order Languages\n"
   ]
  },
  {
   "cell_type": "code",
   "execution_count": null,
   "metadata": {},
   "outputs": [],
   "source": [
    "import tarski\n",
    "from tarski.theories import Theory"
   ]
  },
  {
   "cell_type": "code",
   "execution_count": null,
   "metadata": {},
   "outputs": [],
   "source": [
    "# 1. Create language used to describe world states and transitions\n",
    "bw = tarski.language(theories=[Theory.EQUALITY])"
   ]
  },
  {
   "cell_type": "code",
   "execution_count": null,
   "metadata": {},
   "outputs": [],
   "source": [
    "# 2. Define sorts\n",
    "place = bw.sort('place')\n",
    "block = bw.sort('block', place)\n",
    "\n",
    "# 3. Define functions\n",
    "loc = bw.function( 'loc', block, place )\n",
    "width = bw.function('width', block, bw.Real)\n",
    "\n",
    "# 4. Define predicates\n",
    "clear = bw.predicate( 'clear', block)\n"
   ]
  },
  {
   "cell_type": "markdown",
   "metadata": {},
   "source": [
    "The semantics of a first-order language is based on the notion of _models_:\n",
    "\n",
    "**Definition** (First-Order logic model). Let ${\\cal L}$ be a many-sorted first-order language. A first-order **model**, sometimes also called **structure** or **interpretation**, for the language ${\\cal L}$ is a tuple\n",
    "\n",
    "$$\n",
    "{\\cal M} = \\langle \\{ {\\cal U}_{\\tau}\\},\\, \\{f^{{\\cal M}}\\},\\, \\{P^{{\\cal M}}\\} \\} \\rangle\n",
    "$$\n",
    "\n",
    "made up of:\n",
    "\n",
    " - A non-empty set ${\\cal U}_{\\tau}$, the *universe* of type $\\tau$, for each $\\tau \\in T$. \n",
    " - For each $n$-ary function symbol $f$ of the language with type $(\\tau_1, \\ldots, \\tau_n, \\tau_{n+1})$, a function $f^{\\cal M}$ $:$ ${\\cal U}_{\\tau_1} \\times \\ldots \\times  {\\cal U}_{\\tau_n} \\rightarrow {\\cal U}_{\\tau_{n+1}}$. When $n=0$ and $f$ is a constant symbol of type $\\tau$, $f^{\\cal M}$ is simply some element of the universe ${\\cal U}_{\\tau}$.\n",
    " - For each $n$-ary predicate symbol $P$ of type $(\\tau_1,\\ldots,\\tau_n)$, a subset $P^{\\cal M} \\subseteq {\\cal U}_{\\tau_1} \\times \\ldots \\times {\\cal U}_{\\tau_n}$. If $n=0$, we will assume that $P^{\\cal M}$ is a truth table $P^{\\cal M}$ $\\in$ $\\{ \\top, \\bot \\}$."
   ]
  },
  {
   "cell_type": "markdown",
   "metadata": {},
   "source": [
    "### Denotation of Terms and Truth of Formulas"
   ]
  },
  {
   "cell_type": "markdown",
   "metadata": {},
   "source": [
    "The notion of **denotation** of a _term_ and **truth** of a _formula_ under a given interpretation reqyures that we take into account all possible free variables occurring in the term or formula. We will do that by extending interpretations with a type--consistent assignment of values to free variables. Let $\\phi[\\bar{x}]$ be a formula in a first-order language ${\\cal L}$, and ${\\cal M}$ an interpretation for ${\\cal L}$. A **variable assignment** $\\sigma$ for $\\bar{x}$ is a function mapping any free variable $x^{\\tau}$ in the tuple $\\bar{x}$ to an element in ${\\cal U_{\\tau}}$."
   ]
  },
  {
   "cell_type": "markdown",
   "metadata": {},
   "source": [
    "Assignments $\\sigma$ can be easily extended into a function $\\sigma^{*}$ that gives the denotation of any term in the language, being defined as follows:\n",
    "\n",
    " 1. For any variable $x$, $\\sigma^*(x) = \\sigma(x)$\n",
    " 2. For terms $t_1$, $\\ldots$, $t_n$ and $n$-ary function symbol $f$ with matching type\n",
    " $$\n",
    "     \\sigma^*(f(t_1,\\ldots,t_n)) = f^{\\cal M}(\\sigma^*(t_1),\\ldots,\\sigma^*(t_n))\n",
    " $$"
   ]
  },
  {
   "cell_type": "markdown",
   "metadata": {},
   "source": [
    "We say that $\\phi$ is true under interpretation ${\\cal M}$, when its free variables are given values according to assignment $\\sigma$, denoted by ${\\cal M} \\models \\phi(\\sigma)$, in the following cases:\n",
    "\n",
    " - For any two terms $t_1$, $t_2$, ${\\cal M} \\models (t_1 = t_2)(\\sigma)$ iff $\\sigma^*(t_1)$ and $\\sigma^*(t_2)$ are the same element.\n",
    " - For any $n$-ary predicate symbol $P$ and terms $t_1,\\ldots,t_n$ of appropiate type, ${\\cal M} \\models P(t_1,\\ldots,t_n)(\\sigma)$ iff $(\\sigma^*(t_1),\\ldots,\\sigma^*(t_n)) \\in P^{\\cal M}$.\n",
    " - ${\\cal M} \\models (\\neg \\phi)(\\sigma)$ iff not ${\\cal M} \\models \\phi$.\n",
    " - If $\\phi \\equiv \\phi_1 \\land \\phi_2$, then ${\\cal M} \\models \\phi(\\sigma)$ iff ${\\cal M} \\models \\phi_1$ and ${\\cal M} \\models \\phi_2$.\n",
    " - If $\\phi \\equiv \\phi_1 \\lor \\phi_2$, then ${\\cal M} \\models \\phi(\\sigma)$ iff ${\\cal M} \\models \\phi_1$ or ${\\cal M} \\models \\phi_2$. \n",
    " - ${\\cal M} \\models (\\exists_{\\tau} x)(\\sigma)$ iff ${\\cal M} \\models \\phi(\\sigma[x/a])$, for some $a \\in {\\cal U}_\\tau$.\n",
    " - ${\\cal M} \\models (\\forall_{\\tau} x)(\\sigma)$ iff ${\\cal M} \\models \\phi(\\sigma[x/a])$, for every $a \\in {\\cal U}_\\tau$.\n",
    "\n",
    "where $\\sigma[x/a]$ is the function that assigns values as in $\\sigma$ except to variable $x$, which is assigned the value $a$."
   ]
  },
  {
   "cell_type": "markdown",
   "metadata": {},
   "source": [
    "### Satisfaction and Validity"
   ]
  },
  {
   "cell_type": "markdown",
   "metadata": {},
   "source": [
    "**Definition** (Satisfaction and Validity). Let $\\phi$ be a formula in some first-order language ${\\cal L}$. We say that\n",
    "\n",
    " - An **interpretation** ${\\cal M}$ satisfies $\\phi$ iff ${\\cal M} \\models \\phi(\\sigma)$ for any possible assignment $\\sigma$. $\\phi$ is _satisfiable_ iff there is some interpretation ${\\cal M}$ that satisfies it.\n",
    " - $\\phi$ is a **valid** formula, denoted $\\models \\phi$, iff every possible first-order interpretation of ${\\cal L}$ satisfies $\\phi$.\n",
    " \n",
    "Determining if a first-order logic sentence $\\phi$ is valid is undecidable, and so it is determining that it is satisfiable."
   ]
  },
  {
   "cell_type": "markdown",
   "metadata": {},
   "source": [
    "### The Semantics of the Languages Constructed with `Tarski`"
   ]
  },
  {
   "cell_type": "markdown",
   "metadata": {},
   "source": [
    "As we have seen above, the semantics of a first--order language ${\\cal L}$ are given by the interpretation ${\\cal M}$. Informally, interpretations are sets of tables, relations and functions that map terms and formulas into objects and truth values. `Tarski` restricts languages to have one single interpretation, therefore, languages have associated a model which provides the semantics of built-in sorts and functional symbols. \n",
    "\n",
    "We will next go over how `Tarski` implements interpretations ${\\cal M}$."
   ]
  },
  {
   "cell_type": "markdown",
   "metadata": {},
   "source": [
    "### Universes"
   ]
  },
  {
   "cell_type": "markdown",
   "metadata": {},
   "source": [
    "Universes are defined in Tarski as one defines constants and associates them to a given sort. For the built-in sorts `Real`, `Integer` and `Natural`, this is done by default for each new language ${\\cal L}$ defined. The construction routine associates with each of these sorts whatever is the range of real, integer and natural numbers that can be represented by the underlying hardware. \n",
    "\n",
    "Universes of custom sorts are initially empty, so the statement"
   ]
  },
  {
   "cell_type": "code",
   "execution_count": null,
   "metadata": {},
   "outputs": [],
   "source": [
    "b1, b2, b3, b4 = [ bw.constant( 'b_{}'.format(k), block) for k in (1,2,3,4) ]"
   ]
  },
  {
   "cell_type": "markdown",
   "metadata": {},
   "source": [
    "is setting the definition of universe ${\\cal U}_{block}$ and ${\\cal U}_{place}$ to be"
   ]
  },
  {
   "cell_type": "markdown",
   "metadata": {},
   "source": [
    "$$\n",
    "{\\cal U}_{block} = \\{ b_1,\\,b_2,\\,\\ldots,\\,b_4 \\} \\cup {\\cal U}_{block}\n",
    "$$\n",
    "\n",
    "$$\n",
    "{\\cal U}_{place} = \\{ b_1,\\,b_2,\\,\\ldots,\\,b_4 \\} \\cup {\\cal U}_{place}\n",
    "$$"
   ]
  },
  {
   "cell_type": "markdown",
   "metadata": {},
   "source": [
    "as it is adding to ${\\cal U}_{block}$ and ${\\cal U}_{place}$ four objects. The latter is the result of having defined the sort _block_ to be a subset of _place_, so therefore, every element of _block_ is to be an element of _place_ too. After the statement"
   ]
  },
  {
   "cell_type": "code",
   "execution_count": null,
   "metadata": {},
   "outputs": [],
   "source": [
    "table = bw.constant('table', place)"
   ]
  },
  {
   "cell_type": "markdown",
   "metadata": {},
   "source": [
    "the universe ${\\cal U}_{place}$ is made up of five objects"
   ]
  },
  {
   "cell_type": "markdown",
   "metadata": {},
   "source": [
    "$$\n",
    "{\\cal U}_{place} = \\{ table \\} \\cup \\{ b_1,\\,b_2,\\,\\ldots,\\,b_4 \\}\n",
    "$$"
   ]
  },
  {
   "cell_type": "markdown",
   "metadata": {},
   "source": [
    "We can check the definition of the universe of a given sort with the `dump` method"
   ]
  },
  {
   "cell_type": "code",
   "execution_count": null,
   "metadata": {},
   "outputs": [],
   "source": [
    "place.dump()"
   ]
  },
  {
   "cell_type": "markdown",
   "metadata": {},
   "source": [
    "where `domain` refers to the fact that free variables of sort `place` are allowed to be assigned _exactly one_ of those values."
   ]
  },
  {
   "cell_type": "markdown",
   "metadata": {},
   "source": [
    "### Giving Meaning to Function Symbols"
   ]
  },
  {
   "cell_type": "markdown",
   "metadata": {},
   "source": [
    "For each function symbol $f$ the model ${\\cal M}$ of a language ${\\cal L}$ keeps a _dictionary_, where each entry corresponds to a tuple of **constants** $(o_1,\\ldots,o_n,o_{n+1})$ of types $\\tau_1,\\ldots,\\tau_n,\\tau_{n+1}$. A new mapping can be specified with the `add` method of a `Model` object $s$:"
   ]
  },
  {
   "cell_type": "code",
   "execution_count": null,
   "metadata": {},
   "outputs": [],
   "source": [
    "import tarski.model\n",
    "import tarski.evaluators\n",
    "\n",
    "s = tarski.model.create(bw)\n",
    "s.evaluator = tarski.evaluators.get_entry_point('simple')"
   ]
  },
  {
   "cell_type": "code",
   "execution_count": null,
   "metadata": {},
   "outputs": [],
   "source": [
    "s.setx( loc(b1), table)"
   ]
  },
  {
   "cell_type": "markdown",
   "metadata": {},
   "source": [
    "so that the statement above is effectively equivalent to $loc(b_1):=table$. The value associated to a given tuple of constants can be retrieved with Python's standard `[]` operator"
   ]
  },
  {
   "cell_type": "code",
   "execution_count": null,
   "metadata": {},
   "outputs": [],
   "source": [
    "print(s[loc(b1)])"
   ]
  },
  {
   "cell_type": "markdown",
   "metadata": {},
   "source": [
    "We will give now value to some more functional symbols"
   ]
  },
  {
   "cell_type": "code",
   "execution_count": null,
   "metadata": {},
   "outputs": [],
   "source": [
    "s.setx(loc(b2), table) # block b2 is on the table\n",
    "s.setx(loc(b3), b2) # block b3 is on block 2\n",
    "s.setx(width(b1), 3.0) # block b1 has a width of 3.0 units\n",
    "s.setx(width(b2), 3.0) # block b2 has a width of 3.0 units\n",
    "s.setx(width(b3), 4.0) # block b3 has a width of 4.0 units"
   ]
  },
  {
   "cell_type": "code",
   "execution_count": null,
   "metadata": {},
   "outputs": [],
   "source": [
    "print(s[width(b1)])"
   ]
  },
  {
   "cell_type": "markdown",
   "metadata": {},
   "source": [
    "### Giving Meaning to Predicates"
   ]
  },
  {
   "cell_type": "markdown",
   "metadata": {},
   "source": [
    "`Tarski` languages represent $P^{\\cal M}$ either _extensionally_, as **tables** of tuples of constants for which the predicate is defined, or _intensionally_ as a **procedure** that maps a tuple of constants into either $\\top$ or $\\bot$. \n",
    "\n",
    "We can add a new tuple of constants to the extension of predicate $P$ using the method `add`"
   ]
  },
  {
   "cell_type": "code",
   "execution_count": null,
   "metadata": {},
   "outputs": [],
   "source": [
    "my_blocks = [ b1, b2, b3, b4]"
   ]
  },
  {
   "cell_type": "code",
   "execution_count": null,
   "metadata": {},
   "outputs": [],
   "source": [
    "for b in my_blocks :\n",
    "    s.add(clear, b)"
   ]
  },
  {
   "cell_type": "markdown",
   "metadata": {},
   "source": [
    "Evaluating the satisfiability of a predicate $P$ under a given interpretation of its arguments can be done via the `satisifed` method"
   ]
  },
  {
   "cell_type": "code",
   "execution_count": null,
   "metadata": {},
   "outputs": [],
   "source": [
    "s[clear(b1)]"
   ]
  },
  {
   "cell_type": "code",
   "execution_count": null,
   "metadata": {},
   "outputs": [],
   "source": [
    "s[clear(b2)]"
   ]
  },
  {
   "cell_type": "markdown",
   "metadata": {},
   "source": [
    "### Relational Operators\n",
    "Relational operators like $>$, $=$ etc. have standard, well defined meanings for sorts such as `Real` and its descendants (including `Interval` sorts).\n",
    "`Tarski` offers a wide variety of built-in predicates (and functions) to represent compactly arbitrarily complex arithmetic and algebraic expressions. \n",
    "Nevertheless, by default `Tarski` does not attach these definition to first order languages. It is required of the user to do this explicitly, as covered in [this tutorial](004_advanced_techniques.ipynb).\n",
    "For the purpose of illustrating the use of interpretations (models) let's create the predicate `leq`"
   ]
  },
  {
   "cell_type": "code",
   "execution_count": null,
   "metadata": {},
   "outputs": [],
   "source": [
    "leq = bw.predicate('leq', bw.Real, bw.Real)"
   ]
  },
  {
   "cell_type": "markdown",
   "metadata": {},
   "source": [
    "and we give meaning to it in the standard manner, for a few possible values"
   ]
  },
  {
   "cell_type": "code",
   "execution_count": null,
   "metadata": {},
   "outputs": [],
   "source": [
    "import numpy as np"
   ]
  },
  {
   "cell_type": "code",
   "execution_count": null,
   "metadata": {},
   "outputs": [],
   "source": [
    "for x in np.arange(1.0,5.0):\n",
    "    for y in np.arange(x, 5.0):\n",
    "        s.add(leq, x, y)"
   ]
  },
  {
   "cell_type": "markdown",
   "metadata": {},
   "source": [
    "#### Example: Nested functions for compact preconditions\n",
    "\n",
    "Let us consider the case that we want to model Blocks World in such a way that the agent is required to look at a block before being able to pick it up, or to stack another block on top. For that we can introduce the 0-ary function"
   ]
  },
  {
   "cell_type": "code",
   "execution_count": null,
   "metadata": {},
   "outputs": [],
   "source": [
    "looking_at = bw.function('looking_at', block)\n",
    "holding = bw.function('holding', block)"
   ]
  },
  {
   "cell_type": "markdown",
   "metadata": {},
   "source": [
    "that maps into the sort `block`. We have also defined a function `holding`, to represent the block being hold by the agent. Their value on the interpretation `s` can be defined using the `setx()` method"
   ]
  },
  {
   "cell_type": "code",
   "execution_count": null,
   "metadata": {},
   "outputs": [],
   "source": [
    "s.setx( looking_at(), b2 )\n",
    "s.setx( holding(), b1)"
   ]
  },
  {
   "cell_type": "markdown",
   "metadata": {},
   "source": [
    "The precondition of the `stack` action, requiring the block to be stacked to be smaller than the other one, at could then be modeled as follows"
   ]
  },
  {
   "cell_type": "code",
   "execution_count": null,
   "metadata": {},
   "outputs": [],
   "source": [
    "precondition = (leq(width(holding()), width(looking_at()))) & (clear(looking_at()))"
   ]
  },
  {
   "cell_type": "markdown",
   "metadata": {},
   "source": [
    "which evaluates to `True`."
   ]
  },
  {
   "cell_type": "code",
   "execution_count": null,
   "metadata": {
    "pycharm": {
     "name": "#%%\n"
    }
   },
   "outputs": [],
   "source": [
    "s[precondition]\n"
   ]
  }
 ],
 "metadata": {
  "kernelspec": {
   "display_name": "Python 3",
   "language": "python",
   "name": "python3"
  },
  "language_info": {
   "codemirror_mode": {
    "name": "ipython",
    "version": 3
   },
   "file_extension": ".py",
   "mimetype": "text/x-python",
   "name": "python",
   "nbconvert_exporter": "python",
   "pygments_lexer": "ipython3",
   "version": "3.5.2"
  },
  "pycharm": {
   "stem_cell": {
    "cell_type": "raw",
    "metadata": {
     "collapsed": false
    },
    "source": []
   }
  }
 },
 "nbformat": 4,
 "nbformat_minor": 2
}
