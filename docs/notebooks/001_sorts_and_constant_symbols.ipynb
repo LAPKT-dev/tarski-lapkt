{
 "cells": [
  {
   "cell_type": "markdown",
   "metadata": {},
   "source": [
    "You can install ```Tarski``` in your Python environment using the ```setup.py``` script at the root of the source folder"
   ]
  },
  {
   "cell_type": "markdown",
   "metadata": {
    "collapsed": true
   },
   "source": [
    "```$ python setup install```"
   ]
  },
  {
   "cell_type": "markdown",
   "metadata": {},
   "source": [
    "**Note**: We follow in this tutorial A. G. Cohn's discussion of many-sorted logics in _Completing Sort Hierarchies_, Computers & Mathematics with Applications, 1992.\n",
    "\n",
    "## Sorts\n",
    "\n",
    "A many sorted logic is one in which the universe of discourse is divided into subsets, called *sorts*, rather than being an homogenous set. This is achieved by specifying $S$ a set of *sort symbols*, each of which denotes a non-empty set of the universe.\n",
    "\n",
    "Definining sorts in ```Tarski``` is straightforward, we start instantiating the first-order language"
   ]
  },
  {
   "cell_type": "code",
   "execution_count": null,
   "metadata": {},
   "outputs": [],
   "source": [
    "import tarski"
   ]
  },
  {
   "cell_type": "code",
   "execution_count": null,
   "metadata": {},
   "outputs": [],
   "source": [
    "fol = tarski.language()"
   ]
  },
  {
   "cell_type": "markdown",
   "metadata": {},
   "source": [
    "which will be acting as our facade to all things FOL."
   ]
  },
  {
   "cell_type": "markdown",
   "metadata": {},
   "source": [
    "In our model of _Blocks World_ we will consider two sorts, _block_ and _place_"
   ]
  },
  {
   "cell_type": "code",
   "execution_count": null,
   "metadata": {},
   "outputs": [],
   "source": [
    "block = fol.sort('block')"
   ]
  },
  {
   "cell_type": "code",
   "execution_count": null,
   "metadata": {},
   "outputs": [],
   "source": [
    "place = fol.sort('place')"
   ]
  },
  {
   "cell_type": "markdown",
   "metadata": {},
   "source": [
    "```Tarski``` allows to specify many sorted logics which only contemplate definitional hierarchies, hence sorts do not have _default_ symbols. Empty sorts are **not** allowed, and the ```well_formed``` method will raise an exception if a sort is found to be $\\emptyset$."
   ]
  },
  {
   "cell_type": "code",
   "execution_count": null,
   "metadata": {},
   "outputs": [],
   "source": [
    "# uncomment the following line and execute this cell, you should get an exception of type LanguageError\n",
    "#fol.check_well_formed()"
   ]
  },
  {
   "cell_type": "markdown",
   "metadata": {},
   "source": [
    "### Providing sorts with content"
   ]
  },
  {
   "cell_type": "markdown",
   "metadata": {},
   "source": [
    "Sorts are made of _constant symbols_, the following statement"
   ]
  },
  {
   "cell_type": "code",
   "execution_count": null,
   "metadata": {},
   "outputs": [],
   "source": [
    "b1 = fol.constant('b1', block)"
   ]
  },
  {
   "cell_type": "markdown",
   "metadata": {},
   "source": [
    "introduces the constant symbol _'b1'_ into sort _block_, which we have declared above. A language can have several sorts, with their own constants"
   ]
  },
  {
   "cell_type": "code",
   "execution_count": null,
   "metadata": {},
   "outputs": [],
   "source": [
    "table = fol.constant('table', place)"
   ]
  },
  {
   "cell_type": "markdown",
   "metadata": {},
   "source": [
    "We can declare a bunch of blocks easily too"
   ]
  },
  {
   "cell_type": "code",
   "execution_count": null,
   "metadata": {},
   "outputs": [],
   "source": [
    "b2, b3 = [fol.constant( 'b_{}'.format(k), block ) for k in (2,3)]"
   ]
  },
  {
   "cell_type": "markdown",
   "metadata": {},
   "source": [
    "by using a [generator expression](https://stackoverflow.com/questions/6416538/how-to-check-if-an-object-is-a-generator-object-in-python) to enumerate efficiently the names of the constants we want to introduce to sorts."
   ]
  },
  {
   "cell_type": "markdown",
   "metadata": {},
   "source": [
    "At any point, we can take a look at the contents of sorts declared"
   ]
  },
  {
   "cell_type": "code",
   "execution_count": null,
   "metadata": {},
   "outputs": [],
   "source": [
    "fol.dump()['sorts']"
   ]
  },
  {
   "cell_type": "markdown",
   "metadata": {},
   "source": [
    "as well as any _built-in_ sorts."
   ]
  },
  {
   "cell_type": "markdown",
   "metadata": {},
   "source": [
    "### Built-in sorts"
   ]
  },
  {
   "cell_type": "markdown",
   "metadata": {},
   "source": [
    "Every language created with ```Tarski``` contains a number of _built-in_ sorts that allow modellers to account for algebraic relations and geometric concepts without having to define everything from first principles. At the time of writing this, every ```Tarski``` language comes with the following built-in sorts\n",
    " \n",
    "  - ```Real``` - the set of real numbers $\\mathbb{R}$\n",
    "  - ```Integer``` - the set of integer numbers $\\mathbb{Z}$\n",
    "  - ```Natural``` - the set of natural numbers $\\mathbb{N}$\n",
    "  \n",
    "These are represented as closed _intervals_ will well defined _lower_ and _upper_ bounds (the numbers specified in the domain). We cannot introduce symbols into built-in sorts, but we can _refer_ to them with Python variables"
   ]
  },
  {
   "cell_type": "code",
   "execution_count": null,
   "metadata": {},
   "outputs": [],
   "source": [
    "x0 = fol.constant( 3, fol.Real )\n",
    "print(x0)"
   ]
  },
  {
   "cell_type": "code",
   "execution_count": null,
   "metadata": {},
   "outputs": [],
   "source": [
    "fol.Real.builtin"
   ]
  },
  {
   "cell_type": "markdown",
   "metadata": {},
   "source": [
    "or"
   ]
  },
  {
   "cell_type": "code",
   "execution_count": null,
   "metadata": {},
   "outputs": [],
   "source": [
    "magic = fol.constant( 42, fol.Integer)\n",
    "print(magic)"
   ]
  },
  {
   "cell_type": "markdown",
   "metadata": {},
   "source": [
    "or even"
   ]
  },
  {
   "cell_type": "code",
   "execution_count": null,
   "metadata": {},
   "outputs": [],
   "source": [
    "import numpy as np\n",
    "pi = fol.constant( np.pi, fol.Real)\n",
    "print(pi)"
   ]
  },
  {
   "cell_type": "markdown",
   "metadata": {},
   "source": [
    "### Intervals"
   ]
  },
  {
   "cell_type": "markdown",
   "metadata": {},
   "source": [
    "So far the kind of sorts we have seen are either _sets_ defined arbitrarily, or an infinite subset of the ${\\mathbb R}$ continuum (e.g. ```Real``` is actually a subset of the rationals ${\\mathbb{Q}}$). One special case of sort is that which is a subset of the Cartesian product of its domain with itself, which we refer to as _intervals_. These subsets are assumed to be _dense_, and allow to represent without loss of generality sorts like\n",
    "\n",
    "$$\n",
    "I \\equiv [a,b],\\ \\text{where}\\, a,b \\in {\\mathbb Z}\n",
    "$$\n",
    "\n",
    "or some other built-in sort.\n",
    "\n",
    "We can declare the interval sort for $[0,10]$ where $0$ and $10$ are taken to be integers as follows"
   ]
  },
  {
   "cell_type": "code",
   "execution_count": null,
   "metadata": {},
   "outputs": [],
   "source": [
    "I = fol.interval('I', fol.Integer, 0, 10)"
   ]
  },
  {
   "cell_type": "markdown",
   "metadata": {},
   "source": [
    "Constants are then given as in the unrestricted case"
   ]
  },
  {
   "cell_type": "code",
   "execution_count": null,
   "metadata": {},
   "outputs": [],
   "source": [
    "one = fol.constant(1, I)"
   ]
  },
  {
   "cell_type": "markdown",
   "metadata": {},
   "source": [
    "Trying to creat constants of interval types which aren't consistent with the declared bounds will result in an exception"
   ]
  },
  {
   "cell_type": "code",
   "execution_count": null,
   "metadata": {},
   "outputs": [],
   "source": [
    "try:\n",
    "    fol.constant(-2, I)\n",
    "except ValueError as err:\n",
    "    print(\"Caught exception: {}\".format(err))"
   ]
  },
  {
   "cell_type": "markdown",
   "metadata": {},
   "source": [
    "### A Hierarchy of Sorts"
   ]
  },
  {
   "cell_type": "markdown",
   "metadata": {
    "collapsed": true
   },
   "source": [
    "Sorts associated to a language can be arranged as per hierarchy, specifying the partial ordering relation $\\sqsubseteq$ to hold between two given sorts $\\alpha$ and $\\beta$"
   ]
  },
  {
   "cell_type": "code",
   "execution_count": null,
   "metadata": {},
   "outputs": [],
   "source": [
    "alpha = fol.sort('alpha')"
   ]
  },
  {
   "cell_type": "code",
   "execution_count": null,
   "metadata": {},
   "outputs": [],
   "source": [
    "beta = fol.sort('beta', alpha)"
   ]
  },
  {
   "cell_type": "markdown",
   "metadata": {},
   "source": [
    "The _parent_ of $\\beta$, that is, the sort $\\alpha$ s.t. $\\alpha \\sqsubseteq \\beta$, is accessible via the method ```parent```"
   ]
  },
  {
   "cell_type": "code",
   "execution_count": null,
   "metadata": {},
   "outputs": [],
   "source": [
    "print(\"Parent of {} is {}\".format(beta, tarski.syntax.sorts.parent(beta)))"
   ]
  },
  {
   "cell_type": "markdown",
   "metadata": {
    "collapsed": true
   },
   "source": [
    "For built-in sorts, this relationship is already defined as expected"
   ]
  },
  {
   "cell_type": "code",
   "execution_count": null,
   "metadata": {},
   "outputs": [],
   "source": [
    "R = fol.Real\n",
    "\n",
    "print(\"Parent of {} is {}\".format(R, tarski.syntax.sorts.parent(R)))"
   ]
  },
  {
   "cell_type": "code",
   "execution_count": null,
   "metadata": {},
   "outputs": [],
   "source": [
    "Z = fol.Integer\n",
    "\n",
    "print(\"Parent of {} is {}\".format(Z, tarski.syntax.sorts.parent(Z)))"
   ]
  },
  {
   "cell_type": "code",
   "execution_count": null,
   "metadata": {},
   "outputs": [],
   "source": [
    "N = fol.Natural\n",
    "\n",
    "print(\"Parent of {} is {}\".format(N, tarski.syntax.sorts.parent(N)))"
   ]
  },
  {
   "cell_type": "markdown",
   "metadata": {},
   "source": [
    "### Next: [Functions and Predicates](002_functions_and_predicates.ipynb)"
   ]
  },
  {
   "cell_type": "code",
   "execution_count": null,
   "metadata": {},
   "outputs": [],
   "source": []
  }
 ],
 "metadata": {
  "kernelspec": {
   "display_name": "Python 3",
   "language": "python",
   "name": "python3"
  },
  "language_info": {
   "codemirror_mode": {
    "name": "ipython",
    "version": 3
   },
   "file_extension": ".py",
   "mimetype": "text/x-python",
   "name": "python",
   "nbconvert_exporter": "python",
   "pygments_lexer": "ipython3",
   "version": "3.6.8"
  }
 },
 "nbformat": 4,
 "nbformat_minor": 2
}
