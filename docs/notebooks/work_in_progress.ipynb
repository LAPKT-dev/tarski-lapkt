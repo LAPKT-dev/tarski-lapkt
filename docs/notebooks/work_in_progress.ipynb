{
 "cells": [
  {
   "cell_type": "markdown",
   "metadata": {},
   "source": [
    "\n",
    "\n",
    "# Other Planning Models\n",
    "\n",
    "## Contingent Planning Problems\n",
    "\n",
    "## Probabilistic Planning Problems\n",
    "\n",
    "\n",
    "# Generating Standard Benchmarks \n",
    "\n",
    "TODO `:-)`\n",
    "Describe the future `tarski.benchmarks` module.\n",
    "\n",
    "# Reading and Writing Planning Problems\n",
    "\n",
    "TODO `:-)`\n",
    "\n",
    "## Parsing PDDL Problems\n",
    "\n",
    "## Printing the PDDL Representation of a Problem\n",
    "\n",
    "## Parsing RDDL Problems\n",
    "\n",
    "\n",
    "\n",
    "# Common Operations and Transformations of a Problem\n",
    "TODO `:-)`\n",
    "\n",
    "# FOL Syntactic Transformations\n",
    "\n",
    "\n",
    "# Reachability Analysis and Grounding\n",
    "TODO `:-)`\n",
    "\n",
    "# State Space Analysis\n",
    "TODO `:-)`\n",
    "\n",
    "# Analysis of the Action Model of a Problem \n",
    "TODO `:-)`\n",
    "\n",
    "## Computing the Constraint Hypergraph of an Action Schema\n",
    "\n",
    "## Computing the Sentential Decision Diagram of an Action Schema \n",
    "\n",
    "\n",
    "# Description Logics\n",
    "TODO `:-)`"
   ]
  }
 ],
 "metadata": {
  "kernelspec": {
   "display_name": "Python 3",
   "language": "python",
   "name": "python3"
  },
  "language_info": {
   "codemirror_mode": {
    "name": "ipython",
    "version": 2
   },
   "file_extension": ".py",
   "mimetype": "text/x-python",
   "name": "python",
   "nbconvert_exporter": "python",
   "pygments_lexer": "ipython2",
   "version": "2.7.6"
  },
  "pycharm": {
   "stem_cell": {
    "cell_type": "raw",
    "metadata": {
     "collapsed": false
    },
    "source": []
   }
  }
 },
 "nbformat": 4,
 "nbformat_minor": 0
}
